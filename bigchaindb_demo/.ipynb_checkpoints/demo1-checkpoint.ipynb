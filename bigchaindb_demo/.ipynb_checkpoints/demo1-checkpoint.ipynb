{
 "cells": [
  {
   "cell_type": "code",
   "execution_count": 3,
   "metadata": {},
   "outputs": [
    {
     "name": "stdout",
     "output_type": "stream",
     "text": [
      "{'asset': {'id': '848427195e28c05a28c2014be6e3a31a82304deae195de1d5d86ce97a1150d89'}, 'id': '441542b8d8216558ed8875c1f2ea4ca4e76260ed8bb88cc9a75b27bcdb586ca8', 'inputs': [{'fulfillment': 'pGSAIDij0q81c2zeRpZvpx1avmd-2glMtzdrBNe-y45PYd79gUBOvOaSO5WcubsRJ9zVnQi0Y-SFeKR2UZw0oM5YqoiddAKAmzl-OuJ-gYEiBdRZKVmtv1NFSIgmA-r780yXPy8A', 'fulfills': {'output_index': 0, 'transaction_id': '848427195e28c05a28c2014be6e3a31a82304deae195de1d5d86ce97a1150d89'}, 'owners_before': ['4p6iaqK1ifZb3DVTy3amYXQceCFi2GBR76dARUuZxt9i']}], 'metadata': None, 'operation': 'TRANSFER', 'outputs': [{'amount': '3', 'condition': {'details': {'public_key': 'BpFTjnpwRyUdUk3DLvhXXg558G8UT1MVxoPFdkEJ3xnD', 'type': 'ed25519-sha-256'}, 'uri': 'ni:///sha-256;GnES0MCc33R8k41zZi5ujMeT4yQjIkfP2OMGwE46U-o?fpt=ed25519-sha-256&cost=131072'}, 'public_keys': ['BpFTjnpwRyUdUk3DLvhXXg558G8UT1MVxoPFdkEJ3xnD']}, {'amount': '7', 'condition': {'details': {'public_key': '4p6iaqK1ifZb3DVTy3amYXQceCFi2GBR76dARUuZxt9i', 'type': 'ed25519-sha-256'}, 'uri': 'ni:///sha-256;8fuFzgeu1pw3E9KR7IW2nzzaodpVPA4hkLWPYe59KlI?fpt=ed25519-sha-256&cost=131072'}, 'public_keys': ['4p6iaqK1ifZb3DVTy3amYXQceCFi2GBR76dARUuZxt9i']}], 'version': '2.0'}\n",
      "True\n"
     ]
    }
   ],
   "source": [
    "# import BigchainDB and create an object\n",
    "from bigchaindb_driver import BigchainDB\n",
    "bdb_root_url = 'http://192.168.1.108:9984'\n",
    "bdb = BigchainDB(bdb_root_url)\n",
    "\n",
    "# generate a keypair\n",
    "from bigchaindb_driver.crypto import generate_keypair\n",
    "alice, bob = generate_keypair(), generate_keypair()\n",
    "\n",
    "# create a digital asset for Alice\n",
    "game_boy_token = {\n",
    "    'data': {\n",
    "        'token_for': {\n",
    "            'game_boy': {\n",
    "                'serial_number': 'LR35902'\n",
    "            }\n",
    "        },\n",
    "        'description': 'Time share token. Each token equals one hour of usage.',\n",
    "    },\n",
    "}\n",
    "\n",
    "# prepare the transaction with the digital asset and issue 10 tokens for Bob\n",
    "prepared_token_tx = bdb.transactions.prepare(\n",
    "    operation='CREATE',\n",
    "    signers=alice.public_key,\n",
    "    recipients=[([bob.public_key], 10)],\n",
    "    asset=game_boy_token)\n",
    "\n",
    "# fulfill and send the transaction\n",
    "fulfilled_token_tx = bdb.transactions.fulfill(\n",
    "    prepared_token_tx,\n",
    "    private_keys=alice.private_key)\n",
    "bdb.transactions.send_commit(fulfilled_token_tx)\n",
    "\n",
    "# Use the tokens\n",
    "# create the output and inout for the transaction\n",
    "transfer_asset = {'id': fulfilled_token_tx['id']}\n",
    "output_index = 0\n",
    "output = fulfilled_token_tx['outputs'][output_index]\n",
    "transfer_input = {'fulfillment': output['condition']['details'],\n",
    "                  'fulfills': {'output_index': output_index,\n",
    "                               'transaction_id': transfer_asset['id']},\n",
    "                  'owners_before': output['public_keys']}\n",
    "\n",
    "# prepare the transaction and use 3 tokens\n",
    "prepared_transfer_tx = bdb.transactions.prepare(\n",
    "    operation='TRANSFER',\n",
    "    asset=transfer_asset,\n",
    "    inputs=transfer_input,\n",
    "    recipients=[([alice.public_key], 3), ([bob.public_key], 7)])\n",
    "\n",
    "# fulfill and send the transaction\n",
    "fulfilled_transfer_tx = bdb.transactions.fulfill(\n",
    "    prepared_transfer_tx,\n",
    "    private_keys=bob.private_key)\n",
    "sent_transfer_tx = bdb.transactions.send_commit(fulfilled_transfer_tx)\n",
    "\n",
    "print(sent_transfer_tx)\n",
    "\n",
    "print(sent_transfer_tx==fulfilled_transfer_tx)"
   ]
  },
  {
   "cell_type": "markdown",
   "metadata": {},
   "source": [
    "2019年3月10日17点24分鬼知道我遭遇了什么，http no s；使用最新的driver，老驱动安装的时候会有一堆依赖装不上，docker imag bigchaindb真是心机，只有all-in-one这个版本的run命令，最新的一点文档都没有。。。不是人民币玩家就这枚被摧残。\n",
    "\n",
    "以前写的脚本好i想调用了老包，被更改了，座椅history只有历史意义了，又要从头开始了。"
   ]
  },
  {
   "cell_type": "code",
   "execution_count": 12,
   "metadata": {},
   "outputs": [
    {
     "name": "stdout",
     "output_type": "stream",
     "text": [
      "[{'data': {'token_for': {'game_boy': {'serial_number': 'LR35902'}}, 'description': 'Time share token. Each token equals one hour of usage.'}, 'id': 'f62973f97ea406b91198f74db49f4000090357d56e8745e8b2997977b5eb0028'}]\n"
     ]
    }
   ],
   "source": [
    "# 查询\n",
    "response = bdb.assets.get(search='f62973f97ea406b91198f74db49f4000090357d56e8745e8b2997977b5eb0028')\n",
    "print(response)"
   ]
  },
  {
   "cell_type": "code",
   "execution_count": null,
   "metadata": {},
   "outputs": [],
   "source": []
  }
 ],
 "metadata": {
  "kernelspec": {
   "display_name": "Python 3",
   "language": "python",
   "name": "python3"
  },
  "language_info": {
   "codemirror_mode": {
    "name": "ipython",
    "version": 3
   },
   "file_extension": ".py",
   "mimetype": "text/x-python",
   "name": "python",
   "nbconvert_exporter": "python",
   "pygments_lexer": "ipython3",
   "version": "3.7.1"
  }
 },
 "nbformat": 4,
 "nbformat_minor": 2
}
