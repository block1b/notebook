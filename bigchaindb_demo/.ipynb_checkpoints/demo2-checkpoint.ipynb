{
 "cells": [
  {
   "cell_type": "markdown",
   "metadata": {},
   "source": [
    "2019年4月13日 复习，验证可拆分资产限制，metedata是否可变；查找；\n",
    "\n",
    "BigchainDB版本 2.0.0b5 driver 0.5.3"
   ]
  },
  {
   "cell_type": "code",
   "execution_count": 24,
   "metadata": {},
   "outputs": [
    {
     "name": "stdout",
     "output_type": "stream",
     "text": [
      "CryptoKeypair(private_key='88L2BJC9eNtSWhpPwWqqsLDRGz7aBPhuRNyfsWx4QxWR', public_key='HWkENox4DM4Tp3qSfYW8igndpog9GpKFzB7Tp7yXgpBq') CryptoKeypair(private_key='HwLCf9fbhm6BHTagY5aC1uVKR6sz57h7viuS8DUR9x34', public_key='3PKKhLTbaFSjpjdEtNYqPTSrgp17Vur25NwVjQNKK7Hm')\n"
     ]
    }
   ],
   "source": [
    "# generate a keypair\n",
    "from bigchaindb_driver.crypto import generate_keypair\n",
    "alice, bob = generate_keypair(), generate_keypair()\n",
    "print (alice, bob)"
   ]
  },
  {
   "cell_type": "code",
   "execution_count": 25,
   "metadata": {},
   "outputs": [],
   "source": [
    "# import BigchainDB and create an object\n",
    "from bigchaindb_driver import BigchainDB\n",
    "bdb_root_url = 'http://192.168.1.108:9984'\n",
    "bdb = BigchainDB(bdb_root_url)"
   ]
  },
  {
   "cell_type": "code",
   "execution_count": 26,
   "metadata": {},
   "outputs": [
    {
     "name": "stdout",
     "output_type": "stream",
     "text": [
      "{'asset': {'data': {'description': 'Time share token. Each token equals one hour of usage.', 'token_for': {'game_boy': {'serial_number': 'LR35902'}}}}, 'id': '1f83959db7d066da989bfb5902135b807e5f45aa34e6cbd43ceb95289e709338', 'inputs': [{'fulfillment': 'pGSAIPVZtx4o_rOegIGfPcYb4EaFDHeiZeOMo33DyRobp6QIgUDvVrIfG9EebqgOSRaed57v1fwlLCqYZ0UbnwaDxoIkzkK8QrobnBBVJcgcnDpzuKYhJ1a3IBW29OBEuXrQNs0K', 'fulfills': None, 'owners_before': ['HWkENox4DM4Tp3qSfYW8igndpog9GpKFzB7Tp7yXgpBq']}], 'metadata': None, 'operation': 'CREATE', 'outputs': [{'amount': '10', 'condition': {'details': {'public_key': '3PKKhLTbaFSjpjdEtNYqPTSrgp17Vur25NwVjQNKK7Hm', 'type': 'ed25519-sha-256'}, 'uri': 'ni:///sha-256;t1GM7Bud9-p2hvzkPDn8AN8FRSc8azG8u0BG_KLswiE?fpt=ed25519-sha-256&cost=131072'}, 'public_keys': ['3PKKhLTbaFSjpjdEtNYqPTSrgp17Vur25NwVjQNKK7Hm']}], 'version': '2.0'}\n"
     ]
    }
   ],
   "source": [
    "# create a digital asset for Alice\n",
    "game_boy_token = {\n",
    "    'data': {\n",
    "        'token_for': {\n",
    "            'game_boy': {\n",
    "                'serial_number': 'LR35902'\n",
    "            }\n",
    "        },\n",
    "        'description': 'Time share token. Each token equals one hour of usage.',\n",
    "    },\n",
    "}\n",
    "\n",
    "# prepare the transaction with the digital asset and issue 10 tokens for Bob\n",
    "prepared_token_tx = bdb.transactions.prepare(\n",
    "    operation='CREATE',\n",
    "    signers=alice.public_key,\n",
    "    recipients=[([bob.public_key], 10)],\n",
    "    asset=game_boy_token)\n",
    "\n",
    "# fulfill and send the transaction\n",
    "fulfilled_token_tx = bdb.transactions.fulfill(\n",
    "    prepared_token_tx,\n",
    "    private_keys=alice.private_key)\n",
    "rep = bdb.transactions.send_commit(fulfilled_token_tx)\n",
    "print(rep)"
   ]
  },
  {
   "cell_type": "code",
   "execution_count": 27,
   "metadata": {},
   "outputs": [
    {
     "name": "stdout",
     "output_type": "stream",
     "text": [
      "[{'data': {'token_for': {'game_boy': {'serial_number': 'LR35902'}}, 'description': 'Time share token. Each token equals one hour of usage.'}, 'id': '1f83959db7d066da989bfb5902135b807e5f45aa34e6cbd43ceb95289e709338'}]\n"
     ]
    }
   ],
   "source": [
    "# 查询\n",
    "response = bdb.assets.get(search = \"1f83959db7d066da989bfb5902135b807e5f45aa34e6cbd43ceb95289e709338\")\n",
    "print(response)"
   ]
  },
  {
   "cell_type": "code",
   "execution_count": 28,
   "metadata": {},
   "outputs": [
    {
     "name": "stdout",
     "output_type": "stream",
     "text": [
      "CryptoKeypair(private_key='88L2BJC9eNtSWhpPwWqqsLDRGz7aBPhuRNyfsWx4QxWR', public_key='HWkENox4DM4Tp3qSfYW8igndpog9GpKFzB7Tp7yXgpBq') CryptoKeypair(private_key='HwLCf9fbhm6BHTagY5aC1uVKR6sz57h7viuS8DUR9x34', public_key='3PKKhLTbaFSjpjdEtNYqPTSrgp17Vur25NwVjQNKK7Hm')\n"
     ]
    }
   ],
   "source": [
    "print (alice, bob)"
   ]
  },
  {
   "cell_type": "code",
   "execution_count": 65,
   "metadata": {},
   "outputs": [
    {
     "name": "stdout",
     "output_type": "stream",
     "text": [
      "{'asset': {'data': {'description': '余额2', 'token_for': {'game_boy2': {'serial_number2': 'LR35902'}}}}, 'id': 'e0d22c415cd5a398c3373e8f93b065fc65c5cb6ddac5d984315270b4e5fa895a', 'inputs': [{'fulfillment': 'pGSAIPVZtx4o_rOegIGfPcYb4EaFDHeiZeOMo33DyRobp6QIgUBTg2yCqp1lOE3Mk0MUyGCFNerv_rNmsBW7IZOq0nRxMVezxKI8WiVfu7BQi1VHVmjK0XkB_lOA12vVtAwmt-0H', 'fulfills': None, 'owners_before': ['HWkENox4DM4Tp3qSfYW8igndpog9GpKFzB7Tp7yXgpBq']}], 'metadata': None, 'operation': 'CREATE', 'outputs': [{'amount': '10', 'condition': {'details': {'public_key': '3PKKhLTbaFSjpjdEtNYqPTSrgp17Vur25NwVjQNKK7Hm', 'type': 'ed25519-sha-256'}, 'uri': 'ni:///sha-256;t1GM7Bud9-p2hvzkPDn8AN8FRSc8azG8u0BG_KLswiE?fpt=ed25519-sha-256&cost=131072'}, 'public_keys': ['3PKKhLTbaFSjpjdEtNYqPTSrgp17Vur25NwVjQNKK7Hm']}], 'version': '2.0'}\n"
     ]
    }
   ],
   "source": [
    "# create a digital asset for Alice\n",
    "game_boy_token = {\n",
    "    'data': {\n",
    "        'token_for': {\n",
    "            'game_boy2': {\n",
    "                'serial_number2': 'LR35902'\n",
    "            }\n",
    "        },\n",
    "        'description': '余额2',\n",
    "    },\n",
    "}\n",
    "\n",
    "# prepare the transaction with the digital asset and issue 10 tokens for Bob\n",
    "prepared_token_tx = bdb.transactions.prepare(\n",
    "    operation='CREATE',\n",
    "    signers=alice.public_key,\n",
    "    recipients=[([bob.public_key], 10)],\n",
    "    asset=game_boy_token)\n",
    "\n",
    "# fulfill and send the transaction\n",
    "fulfilled_token_tx = bdb.transactions.fulfill(\n",
    "    prepared_token_tx,\n",
    "    private_keys=alice.private_key)\n",
    "rep = bdb.transactions.send_commit(fulfilled_token_tx)\n",
    "print(rep)"
   ]
  },
  {
   "cell_type": "markdown",
   "metadata": {},
   "source": [
    "练习检查可拆分代币的数量"
   ]
  },
  {
   "cell_type": "code",
   "execution_count": 32,
   "metadata": {},
   "outputs": [
    {
     "data": {
      "text/plain": [
       "[{'data': {'token_for': {'game_boy2': {'serial_number2': 'LR35902'}},\n",
       "   'description': '余额'},\n",
       "  'id': '3332b400d06433ad2edaf9820302a2eafe1a4ef081f9bdcfbbb460ee27172963'}]"
      ]
     },
     "execution_count": 32,
     "metadata": {},
     "output_type": "execute_result"
    }
   ],
   "source": [
    "bdb.assets.get(search='3332b400d06433ad2edaf9820302a2eafe1a4ef081f9bdcfbbb460ee27172963')"
   ]
  },
  {
   "cell_type": "code",
   "execution_count": 33,
   "metadata": {},
   "outputs": [
    {
     "data": {
      "text/plain": [
       "[{'inputs': [{'owners_before': ['HWkENox4DM4Tp3qSfYW8igndpog9GpKFzB7Tp7yXgpBq'],\n",
       "    'fulfills': None,\n",
       "    'fulfillment': 'pGSAIPVZtx4o_rOegIGfPcYb4EaFDHeiZeOMo33DyRobp6QIgUArCpp0Ad54gRysaiK6brnjamWVVC8DwtcCcS0I37xX6zeb0H302gSfUnMcVl19pCi8BaSgA1mBgoL7vhKHXwYJ'}],\n",
       "  'outputs': [{'public_keys': ['3PKKhLTbaFSjpjdEtNYqPTSrgp17Vur25NwVjQNKK7Hm'],\n",
       "    'condition': {'details': {'type': 'ed25519-sha-256',\n",
       "      'public_key': '3PKKhLTbaFSjpjdEtNYqPTSrgp17Vur25NwVjQNKK7Hm'},\n",
       "     'uri': 'ni:///sha-256;t1GM7Bud9-p2hvzkPDn8AN8FRSc8azG8u0BG_KLswiE?fpt=ed25519-sha-256&cost=131072'},\n",
       "    'amount': '10'}],\n",
       "  'operation': 'CREATE',\n",
       "  'metadata': None,\n",
       "  'asset': {'data': {'token_for': {'game_boy2': {'serial_number2': 'LR35902'}},\n",
       "    'description': '余额'}},\n",
       "  'version': '2.0',\n",
       "  'id': '3332b400d06433ad2edaf9820302a2eafe1a4ef081f9bdcfbbb460ee27172963'}]"
      ]
     },
     "execution_count": 33,
     "metadata": {},
     "output_type": "execute_result"
    }
   ],
   "source": [
    "# 根据资产id查交易\n",
    "bdb.transactions.get(asset_id='3332b400d06433ad2edaf9820302a2eafe1a4ef081f9bdcfbbb460ee27172963')"
   ]
  },
  {
   "cell_type": "code",
   "execution_count": 35,
   "metadata": {},
   "outputs": [
    {
     "data": {
      "text/plain": [
       "'10'"
      ]
     },
     "execution_count": 35,
     "metadata": {},
     "output_type": "execute_result"
    }
   ],
   "source": [
    "# 查看token amount\n",
    "bdb.transactions.get(asset_id='3332b400d06433ad2edaf9820302a2eafe1a4ef081f9bdcfbbb460ee27172963')[0][\"outputs\"][0][\"amount\"]"
   ]
  },
  {
   "cell_type": "code",
   "execution_count": 66,
   "metadata": {},
   "outputs": [
    {
     "data": {
      "text/plain": [
       "{'inputs': [{'owners_before': ['3PKKhLTbaFSjpjdEtNYqPTSrgp17Vur25NwVjQNKK7Hm'],\n",
       "   'fulfills': {'transaction_id': 'e0d22c415cd5a398c3373e8f93b065fc65c5cb6ddac5d984315270b4e5fa895a',\n",
       "    'output_index': 0},\n",
       "   'fulfillment': 'pGSAICNu3miMPbgnonQOrcbGgUknVoZB1S3vKt5lGBSitv90gUAC624FcZHL9pP1vVQ7_xZbTf9nY_XhU9AoJBFBc4lYXJfhizoljoFRjVU9FTl5gfFpGfHExrCtm1Ji_lBnp4YO'}],\n",
       " 'outputs': [{'public_keys': ['3PKKhLTbaFSjpjdEtNYqPTSrgp17Vur25NwVjQNKK7Hm'],\n",
       "   'condition': {'details': {'type': 'ed25519-sha-256',\n",
       "     'public_key': '3PKKhLTbaFSjpjdEtNYqPTSrgp17Vur25NwVjQNKK7Hm'},\n",
       "    'uri': 'ni:///sha-256;t1GM7Bud9-p2hvzkPDn8AN8FRSc8azG8u0BG_KLswiE?fpt=ed25519-sha-256&cost=131072'},\n",
       "   'amount': '2'},\n",
       "  {'public_keys': ['HWkENox4DM4Tp3qSfYW8igndpog9GpKFzB7Tp7yXgpBq'],\n",
       "   'condition': {'details': {'type': 'ed25519-sha-256',\n",
       "     'public_key': 'HWkENox4DM4Tp3qSfYW8igndpog9GpKFzB7Tp7yXgpBq'},\n",
       "    'uri': 'ni:///sha-256;gq2QbZZEcAzcCuCv4xicDCYQ_0RmN09VLSH6t2H0pKQ?fpt=ed25519-sha-256&cost=131072'},\n",
       "   'amount': '8'}],\n",
       " 'operation': 'TRANSFER',\n",
       " 'metadata': None,\n",
       " 'asset': {'id': 'e0d22c415cd5a398c3373e8f93b065fc65c5cb6ddac5d984315270b4e5fa895a'},\n",
       " 'version': '2.0',\n",
       " 'id': '0cac4c757e26eca6599a0cce376796a3b088635af6c7d3558917bd2939d91af0'}"
      ]
     },
     "execution_count": 66,
     "metadata": {},
     "output_type": "execute_result"
    }
   ],
   "source": [
    "# 交易转移部分代币, bob(10)->(bob(2),alice(8))\n",
    "output_index = 0\n",
    "output = fulfilled_token_tx['outputs'][output_index]\n",
    "transfer_input = {\n",
    "    'fulfillment': output['condition']['details'],\n",
    "    'fulfills': {\n",
    "        'output_index': output_index,\n",
    "        'transaction_id': fulfilled_token_tx['id'],\n",
    "    },\n",
    "    'owners_before': output['public_keys'],\n",
    "}\n",
    "transfer_asset = {\n",
    "     'id': fulfilled_token_tx['id'],\n",
    "}\n",
    "prepared_transfer_tx = bdb.transactions.prepare(\n",
    "     operation='TRANSFER',\n",
    "     asset=transfer_asset,\n",
    "     inputs=transfer_input,\n",
    "     recipients=[([bob.public_key], 2), ([alice.public_key], 8)]\n",
    ")\n",
    "fulfilled_transfer_tx = bdb.transactions.fulfill(prepared_transfer_tx, private_keys=bob.private_key)\n",
    "fulfilled_transfer_tx"
   ]
  },
  {
   "cell_type": "code",
   "execution_count": 67,
   "metadata": {},
   "outputs": [
    {
     "name": "stdout",
     "output_type": "stream",
     "text": [
      "{'asset': {'id': 'e0d22c415cd5a398c3373e8f93b065fc65c5cb6ddac5d984315270b4e5fa895a'}, 'id': '0cac4c757e26eca6599a0cce376796a3b088635af6c7d3558917bd2939d91af0', 'inputs': [{'fulfillment': 'pGSAICNu3miMPbgnonQOrcbGgUknVoZB1S3vKt5lGBSitv90gUAC624FcZHL9pP1vVQ7_xZbTf9nY_XhU9AoJBFBc4lYXJfhizoljoFRjVU9FTl5gfFpGfHExrCtm1Ji_lBnp4YO', 'fulfills': {'output_index': 0, 'transaction_id': 'e0d22c415cd5a398c3373e8f93b065fc65c5cb6ddac5d984315270b4e5fa895a'}, 'owners_before': ['3PKKhLTbaFSjpjdEtNYqPTSrgp17Vur25NwVjQNKK7Hm']}], 'metadata': None, 'operation': 'TRANSFER', 'outputs': [{'amount': '2', 'condition': {'details': {'public_key': '3PKKhLTbaFSjpjdEtNYqPTSrgp17Vur25NwVjQNKK7Hm', 'type': 'ed25519-sha-256'}, 'uri': 'ni:///sha-256;t1GM7Bud9-p2hvzkPDn8AN8FRSc8azG8u0BG_KLswiE?fpt=ed25519-sha-256&cost=131072'}, 'public_keys': ['3PKKhLTbaFSjpjdEtNYqPTSrgp17Vur25NwVjQNKK7Hm']}, {'amount': '8', 'condition': {'details': {'public_key': 'HWkENox4DM4Tp3qSfYW8igndpog9GpKFzB7Tp7yXgpBq', 'type': 'ed25519-sha-256'}, 'uri': 'ni:///sha-256;gq2QbZZEcAzcCuCv4xicDCYQ_0RmN09VLSH6t2H0pKQ?fpt=ed25519-sha-256&cost=131072'}, 'public_keys': ['HWkENox4DM4Tp3qSfYW8igndpog9GpKFzB7Tp7yXgpBq']}], 'version': '2.0'}\n"
     ]
    }
   ],
   "source": [
    "sent_transfer_tx = bdb.transactions.send_commit(fulfilled_transfer_tx)\n",
    "print(sent_transfer_tx)"
   ]
  },
  {
   "cell_type": "code",
   "execution_count": 69,
   "metadata": {},
   "outputs": [
    {
     "data": {
      "text/plain": [
       "[{'data': {'token_for': {'game_boy2': {'serial_number2': 'LR35902'}},\n",
       "   'description': '余额2'},\n",
       "  'id': 'e0d22c415cd5a398c3373e8f93b065fc65c5cb6ddac5d984315270b4e5fa895a'}]"
      ]
     },
     "execution_count": 69,
     "metadata": {},
     "output_type": "execute_result"
    }
   ],
   "source": [
    "bdb.assets.get(search='e0d22c415cd5a398c3373e8f93b065fc65c5cb6ddac5d984315270b4e5fa895a')"
   ]
  },
  {
   "cell_type": "code",
   "execution_count": 70,
   "metadata": {},
   "outputs": [
    {
     "data": {
      "text/plain": [
       "[{'inputs': [{'owners_before': ['HWkENox4DM4Tp3qSfYW8igndpog9GpKFzB7Tp7yXgpBq'],\n",
       "    'fulfills': None,\n",
       "    'fulfillment': 'pGSAIPVZtx4o_rOegIGfPcYb4EaFDHeiZeOMo33DyRobp6QIgUBTg2yCqp1lOE3Mk0MUyGCFNerv_rNmsBW7IZOq0nRxMVezxKI8WiVfu7BQi1VHVmjK0XkB_lOA12vVtAwmt-0H'}],\n",
       "  'outputs': [{'public_keys': ['3PKKhLTbaFSjpjdEtNYqPTSrgp17Vur25NwVjQNKK7Hm'],\n",
       "    'condition': {'details': {'type': 'ed25519-sha-256',\n",
       "      'public_key': '3PKKhLTbaFSjpjdEtNYqPTSrgp17Vur25NwVjQNKK7Hm'},\n",
       "     'uri': 'ni:///sha-256;t1GM7Bud9-p2hvzkPDn8AN8FRSc8azG8u0BG_KLswiE?fpt=ed25519-sha-256&cost=131072'},\n",
       "    'amount': '10'}],\n",
       "  'operation': 'CREATE',\n",
       "  'metadata': None,\n",
       "  'asset': {'data': {'token_for': {'game_boy2': {'serial_number2': 'LR35902'}},\n",
       "    'description': '余额2'}},\n",
       "  'version': '2.0',\n",
       "  'id': 'e0d22c415cd5a398c3373e8f93b065fc65c5cb6ddac5d984315270b4e5fa895a'},\n",
       " {'inputs': [{'owners_before': ['3PKKhLTbaFSjpjdEtNYqPTSrgp17Vur25NwVjQNKK7Hm'],\n",
       "    'fulfills': {'transaction_id': 'e0d22c415cd5a398c3373e8f93b065fc65c5cb6ddac5d984315270b4e5fa895a',\n",
       "     'output_index': 0},\n",
       "    'fulfillment': 'pGSAICNu3miMPbgnonQOrcbGgUknVoZB1S3vKt5lGBSitv90gUAC624FcZHL9pP1vVQ7_xZbTf9nY_XhU9AoJBFBc4lYXJfhizoljoFRjVU9FTl5gfFpGfHExrCtm1Ji_lBnp4YO'}],\n",
       "  'outputs': [{'public_keys': ['3PKKhLTbaFSjpjdEtNYqPTSrgp17Vur25NwVjQNKK7Hm'],\n",
       "    'condition': {'details': {'type': 'ed25519-sha-256',\n",
       "      'public_key': '3PKKhLTbaFSjpjdEtNYqPTSrgp17Vur25NwVjQNKK7Hm'},\n",
       "     'uri': 'ni:///sha-256;t1GM7Bud9-p2hvzkPDn8AN8FRSc8azG8u0BG_KLswiE?fpt=ed25519-sha-256&cost=131072'},\n",
       "    'amount': '2'},\n",
       "   {'public_keys': ['HWkENox4DM4Tp3qSfYW8igndpog9GpKFzB7Tp7yXgpBq'],\n",
       "    'condition': {'details': {'type': 'ed25519-sha-256',\n",
       "      'public_key': 'HWkENox4DM4Tp3qSfYW8igndpog9GpKFzB7Tp7yXgpBq'},\n",
       "     'uri': 'ni:///sha-256;gq2QbZZEcAzcCuCv4xicDCYQ_0RmN09VLSH6t2H0pKQ?fpt=ed25519-sha-256&cost=131072'},\n",
       "    'amount': '8'}],\n",
       "  'operation': 'TRANSFER',\n",
       "  'metadata': None,\n",
       "  'asset': {'id': 'e0d22c415cd5a398c3373e8f93b065fc65c5cb6ddac5d984315270b4e5fa895a'},\n",
       "  'version': '2.0',\n",
       "  'id': '0cac4c757e26eca6599a0cce376796a3b088635af6c7d3558917bd2939d91af0'}]"
      ]
     },
     "execution_count": 70,
     "metadata": {},
     "output_type": "execute_result"
    }
   ],
   "source": [
    "# 只能通过 asset_id 查交易记录，虽然也对了\n",
    "bdb.transactions.get(asset_id='e0d22c415cd5a398c3373e8f93b065fc65c5cb6ddac5d984315270b4e5fa895a')"
   ]
  },
  {
   "cell_type": "markdown",
   "metadata": {},
   "source": [
    "资产和交易的查询主键都是 asset_id ,虽然monogodb可以模糊查询，但是关键字还是需要设计成唯一的。比较好。"
   ]
  }
 ],
 "metadata": {
  "kernelspec": {
   "display_name": "Python 3",
   "language": "python",
   "name": "python3"
  },
  "language_info": {
   "codemirror_mode": {
    "name": "ipython",
    "version": 3
   },
   "file_extension": ".py",
   "mimetype": "text/x-python",
   "name": "python",
   "nbconvert_exporter": "python",
   "pygments_lexer": "ipython3",
   "version": "3.7.1"
  }
 },
 "nbformat": 4,
 "nbformat_minor": 2
}
