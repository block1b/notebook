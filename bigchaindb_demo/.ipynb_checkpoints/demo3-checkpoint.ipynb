{
 "cells": [
  {
   "cell_type": "code",
   "execution_count": 10,
   "metadata": {},
   "outputs": [
    {
     "data": {
      "text/plain": [
       "[{'data': {'token_for': {'game_boy2': {'serial_number2': 'LR35902'}},\n",
       "   'description': '余额2'},\n",
       "  'id': 'e0d22c415cd5a398c3373e8f93b065fc65c5cb6ddac5d984315270b4e5fa895a'}]"
      ]
     },
     "execution_count": 10,
     "metadata": {},
     "output_type": "execute_result"
    }
   ],
   "source": [
    "# import BigchainDB and create an object\n",
    "from bigchaindb_driver import BigchainDB\n",
    "bdb_root_url = 'http://192.168.1.108:9984'\n",
    "bdb = BigchainDB(bdb_root_url)\n",
    "bdb.assets.get(search='e0d22c415cd5a398c3373e8f93b065fc65c5cb6ddac5d984315270b4e5fa895a')"
   ]
  },
  {
   "cell_type": "code",
   "execution_count": 20,
   "metadata": {},
   "outputs": [
    {
     "data": {
      "text/plain": [
       "[{'inputs': [{'owners_before': ['HWkENox4DM4Tp3qSfYW8igndpog9GpKFzB7Tp7yXgpBq'],\n",
       "    'fulfills': None,\n",
       "    'fulfillment': 'pGSAIPVZtx4o_rOegIGfPcYb4EaFDHeiZeOMo33DyRobp6QIgUBTg2yCqp1lOE3Mk0MUyGCFNerv_rNmsBW7IZOq0nRxMVezxKI8WiVfu7BQi1VHVmjK0XkB_lOA12vVtAwmt-0H'}],\n",
       "  'outputs': [{'public_keys': ['3PKKhLTbaFSjpjdEtNYqPTSrgp17Vur25NwVjQNKK7Hm'],\n",
       "    'condition': {'details': {'type': 'ed25519-sha-256',\n",
       "      'public_key': '3PKKhLTbaFSjpjdEtNYqPTSrgp17Vur25NwVjQNKK7Hm'},\n",
       "     'uri': 'ni:///sha-256;t1GM7Bud9-p2hvzkPDn8AN8FRSc8azG8u0BG_KLswiE?fpt=ed25519-sha-256&cost=131072'},\n",
       "    'amount': '10'}],\n",
       "  'operation': 'CREATE',\n",
       "  'metadata': None,\n",
       "  'asset': {'data': {'token_for': {'game_boy2': {'serial_number2': 'LR35902'}},\n",
       "    'description': '余额2'}},\n",
       "  'version': '2.0',\n",
       "  'id': 'e0d22c415cd5a398c3373e8f93b065fc65c5cb6ddac5d984315270b4e5fa895a'},\n",
       " {'inputs': [{'owners_before': ['3PKKhLTbaFSjpjdEtNYqPTSrgp17Vur25NwVjQNKK7Hm'],\n",
       "    'fulfills': {'transaction_id': 'e0d22c415cd5a398c3373e8f93b065fc65c5cb6ddac5d984315270b4e5fa895a',\n",
       "     'output_index': 0},\n",
       "    'fulfillment': 'pGSAICNu3miMPbgnonQOrcbGgUknVoZB1S3vKt5lGBSitv90gUAC624FcZHL9pP1vVQ7_xZbTf9nY_XhU9AoJBFBc4lYXJfhizoljoFRjVU9FTl5gfFpGfHExrCtm1Ji_lBnp4YO'}],\n",
       "  'outputs': [{'public_keys': ['3PKKhLTbaFSjpjdEtNYqPTSrgp17Vur25NwVjQNKK7Hm'],\n",
       "    'condition': {'details': {'type': 'ed25519-sha-256',\n",
       "      'public_key': '3PKKhLTbaFSjpjdEtNYqPTSrgp17Vur25NwVjQNKK7Hm'},\n",
       "     'uri': 'ni:///sha-256;t1GM7Bud9-p2hvzkPDn8AN8FRSc8azG8u0BG_KLswiE?fpt=ed25519-sha-256&cost=131072'},\n",
       "    'amount': '2'},\n",
       "   {'public_keys': ['HWkENox4DM4Tp3qSfYW8igndpog9GpKFzB7Tp7yXgpBq'],\n",
       "    'condition': {'details': {'type': 'ed25519-sha-256',\n",
       "      'public_key': 'HWkENox4DM4Tp3qSfYW8igndpog9GpKFzB7Tp7yXgpBq'},\n",
       "     'uri': 'ni:///sha-256;gq2QbZZEcAzcCuCv4xicDCYQ_0RmN09VLSH6t2H0pKQ?fpt=ed25519-sha-256&cost=131072'},\n",
       "    'amount': '8'}],\n",
       "  'operation': 'TRANSFER',\n",
       "  'metadata': None,\n",
       "  'asset': {'id': 'e0d22c415cd5a398c3373e8f93b065fc65c5cb6ddac5d984315270b4e5fa895a'},\n",
       "  'version': '2.0',\n",
       "  'id': '0cac4c757e26eca6599a0cce376796a3b088635af6c7d3558917bd2939d91af0'}]"
      ]
     },
     "execution_count": 20,
     "metadata": {},
     "output_type": "execute_result"
    }
   ],
   "source": [
    "alice_fulfilled_token_tx = bdb.transactions.get(asset_id='e0d22c415cd5a398c3373e8f93b065fc65c5cb6ddac5d984315270b4e5fa895a')\n",
    "alice_fulfilled_token_tx"
   ]
  },
  {
   "cell_type": "markdown",
   "metadata": {},
   "source": [
    "soga,只能通过资产id查交易，结果是该资产的左右交易都会记录，按monogodb 的Text Score 排序，差不多就是文档相关性。\n",
    "测试：alice 花费6个代币"
   ]
  },
  {
   "cell_type": "code",
   "execution_count": 34,
   "metadata": {},
   "outputs": [
    {
     "data": {
      "text/plain": [
       "{'inputs': [{'owners_before': ['3PKKhLTbaFSjpjdEtNYqPTSrgp17Vur25NwVjQNKK7Hm'],\n",
       "   'fulfills': {'transaction_id': 'e0d22c415cd5a398c3373e8f93b065fc65c5cb6ddac5d984315270b4e5fa895a',\n",
       "    'output_index': 0},\n",
       "   'fulfillment': 'pGSAICNu3miMPbgnonQOrcbGgUknVoZB1S3vKt5lGBSitv90gUAC624FcZHL9pP1vVQ7_xZbTf9nY_XhU9AoJBFBc4lYXJfhizoljoFRjVU9FTl5gfFpGfHExrCtm1Ji_lBnp4YO'}],\n",
       " 'outputs': [{'public_keys': ['3PKKhLTbaFSjpjdEtNYqPTSrgp17Vur25NwVjQNKK7Hm'],\n",
       "   'condition': {'details': {'type': 'ed25519-sha-256',\n",
       "     'public_key': '3PKKhLTbaFSjpjdEtNYqPTSrgp17Vur25NwVjQNKK7Hm'},\n",
       "    'uri': 'ni:///sha-256;t1GM7Bud9-p2hvzkPDn8AN8FRSc8azG8u0BG_KLswiE?fpt=ed25519-sha-256&cost=131072'},\n",
       "   'amount': '2'},\n",
       "  {'public_keys': ['HWkENox4DM4Tp3qSfYW8igndpog9GpKFzB7Tp7yXgpBq'],\n",
       "   'condition': {'details': {'type': 'ed25519-sha-256',\n",
       "     'public_key': 'HWkENox4DM4Tp3qSfYW8igndpog9GpKFzB7Tp7yXgpBq'},\n",
       "    'uri': 'ni:///sha-256;gq2QbZZEcAzcCuCv4xicDCYQ_0RmN09VLSH6t2H0pKQ?fpt=ed25519-sha-256&cost=131072'},\n",
       "   'amount': '8'}],\n",
       " 'operation': 'TRANSFER',\n",
       " 'metadata': None,\n",
       " 'asset': {'id': 'e0d22c415cd5a398c3373e8f93b065fc65c5cb6ddac5d984315270b4e5fa895a'},\n",
       " 'version': '2.0',\n",
       " 'id': '0cac4c757e26eca6599a0cce376796a3b088635af6c7d3558917bd2939d91af0'}"
      ]
     },
     "execution_count": 34,
     "metadata": {},
     "output_type": "execute_result"
    }
   ],
   "source": [
    "output = alice_fulfilled_token_tx[1]\n",
    "output"
   ]
  },
  {
   "cell_type": "code",
   "execution_count": 33,
   "metadata": {},
   "outputs": [
    {
     "data": {
      "text/plain": [
       "'0cac4c757e26eca6599a0cce376796a3b088635af6c7d3558917bd2939d91af0'"
      ]
     },
     "execution_count": 33,
     "metadata": {},
     "output_type": "execute_result"
    }
   ],
   "source": [
    "alice_fulfilled_token_tx_id = alice_fulfilled_token_tx[1]['id']\n",
    "alice_fulfilled_token_tx_id"
   ]
  },
  {
   "cell_type": "code",
   "execution_count": 39,
   "metadata": {},
   "outputs": [],
   "source": [
    "# CryptoKeypair(private_key='88L2BJC9eNtSWhpPwWqqsLDRGz7aBPhuRNyfsWx4QxWR', public_key='HWkENox4DM4Tp3qSfYW8igndpog9GpKFzB7Tp7yXgpBq') CryptoKeypair(private_key='HwLCf9fbhm6BHTagY5aC1uVKR6sz57h7viuS8DUR9x34', public_key='3PKKhLTbaFSjpjdEtNYqPTSrgp17Vur25NwVjQNKK7Hm')\n",
    "alice_private_key='88L2BJC9eNtSWhpPwWqqsLDRGz7aBPhuRNyfsWx4QxWR'\n",
    "alice_public_key='HWkENox4DM4Tp3qSfYW8igndpog9GpKFzB7Tp7yXgpBq'\n",
    "bob_private_key='HwLCf9fbhm6BHTagY5aC1uVKR6sz57h7viuS8DUR9x34'\n",
    "bob_public_key='3PKKhLTbaFSjpjdEtNYqPTSrgp17Vur25NwVjQNKK7Hm'"
   ]
  },
  {
   "cell_type": "code",
   "execution_count": 41,
   "metadata": {},
   "outputs": [
    {
     "data": {
      "text/plain": [
       "{'inputs': [{'owners_before': ['HWkENox4DM4Tp3qSfYW8igndpog9GpKFzB7Tp7yXgpBq'],\n",
       "   'fulfills': {'transaction_id': '0cac4c757e26eca6599a0cce376796a3b088635af6c7d3558917bd2939d91af0',\n",
       "    'output_index': 1},\n",
       "   'fulfillment': 'pGSAIPVZtx4o_rOegIGfPcYb4EaFDHeiZeOMo33DyRobp6QIgUARfrloEqEsNG9OqdiZt1vISZNbi6lHHc-7VZnh4MRnBabaR7Ow1vDau9CCjzU0-UzRWcOz_YhycRs5GRqMAzYF'}],\n",
       " 'outputs': [{'public_keys': ['3PKKhLTbaFSjpjdEtNYqPTSrgp17Vur25NwVjQNKK7Hm'],\n",
       "   'condition': {'details': {'type': 'ed25519-sha-256',\n",
       "     'public_key': '3PKKhLTbaFSjpjdEtNYqPTSrgp17Vur25NwVjQNKK7Hm'},\n",
       "    'uri': 'ni:///sha-256;t1GM7Bud9-p2hvzkPDn8AN8FRSc8azG8u0BG_KLswiE?fpt=ed25519-sha-256&cost=131072'},\n",
       "   'amount': '2'},\n",
       "  {'public_keys': ['HWkENox4DM4Tp3qSfYW8igndpog9GpKFzB7Tp7yXgpBq'],\n",
       "   'condition': {'details': {'type': 'ed25519-sha-256',\n",
       "     'public_key': 'HWkENox4DM4Tp3qSfYW8igndpog9GpKFzB7Tp7yXgpBq'},\n",
       "    'uri': 'ni:///sha-256;gq2QbZZEcAzcCuCv4xicDCYQ_0RmN09VLSH6t2H0pKQ?fpt=ed25519-sha-256&cost=131072'},\n",
       "   'amount': '6'}],\n",
       " 'operation': 'TRANSFER',\n",
       " 'metadata': None,\n",
       " 'asset': {'id': 'e0d22c415cd5a398c3373e8f93b065fc65c5cb6ddac5d984315270b4e5fa895a'},\n",
       " 'version': '2.0',\n",
       " 'id': 'c2b0c95c02239532f11f5d8c263d91cddbd6acf9146ac70d1a1171b8b61da050'}"
      ]
     },
     "execution_count": 41,
     "metadata": {},
     "output_type": "execute_result"
    }
   ],
   "source": [
    "# 交易转移部分代币, alice(8)-》（bob(2),alice(6)）\n",
    "output_index = 1\n",
    "output = alice_fulfilled_token_tx[1]['outputs'][output_index]\n",
    "transfer_input = {\n",
    "    'fulfillment': output['condition']['details'],\n",
    "    'fulfills': {\n",
    "        'output_index': output_index,\n",
    "        'transaction_id': alice_fulfilled_token_tx[1]['id'],\n",
    "    },\n",
    "    'owners_before': output['public_keys'],\n",
    "}\n",
    "transfer_asset = {\n",
    "     'id': alice_fulfilled_token_tx[1]['asset']['id'],\n",
    "}\n",
    "prepared_transfer_tx = bdb.transactions.prepare(\n",
    "     operation='TRANSFER',\n",
    "     asset=transfer_asset,\n",
    "     inputs=transfer_input,\n",
    "     recipients=[([bob_public_key], 2), ([alice_public_key], 6)]\n",
    ")\n",
    "fulfilled_transfer_tx = bdb.transactions.fulfill(prepared_transfer_tx, private_keys=alice_private_key)\n",
    "fulfilled_transfer_tx"
   ]
  },
  {
   "cell_type": "code",
   "execution_count": 42,
   "metadata": {},
   "outputs": [
    {
     "name": "stdout",
     "output_type": "stream",
     "text": [
      "{'asset': {'id': 'e0d22c415cd5a398c3373e8f93b065fc65c5cb6ddac5d984315270b4e5fa895a'}, 'id': 'c2b0c95c02239532f11f5d8c263d91cddbd6acf9146ac70d1a1171b8b61da050', 'inputs': [{'fulfillment': 'pGSAIPVZtx4o_rOegIGfPcYb4EaFDHeiZeOMo33DyRobp6QIgUARfrloEqEsNG9OqdiZt1vISZNbi6lHHc-7VZnh4MRnBabaR7Ow1vDau9CCjzU0-UzRWcOz_YhycRs5GRqMAzYF', 'fulfills': {'output_index': 1, 'transaction_id': '0cac4c757e26eca6599a0cce376796a3b088635af6c7d3558917bd2939d91af0'}, 'owners_before': ['HWkENox4DM4Tp3qSfYW8igndpog9GpKFzB7Tp7yXgpBq']}], 'metadata': None, 'operation': 'TRANSFER', 'outputs': [{'amount': '2', 'condition': {'details': {'public_key': '3PKKhLTbaFSjpjdEtNYqPTSrgp17Vur25NwVjQNKK7Hm', 'type': 'ed25519-sha-256'}, 'uri': 'ni:///sha-256;t1GM7Bud9-p2hvzkPDn8AN8FRSc8azG8u0BG_KLswiE?fpt=ed25519-sha-256&cost=131072'}, 'public_keys': ['3PKKhLTbaFSjpjdEtNYqPTSrgp17Vur25NwVjQNKK7Hm']}, {'amount': '6', 'condition': {'details': {'public_key': 'HWkENox4DM4Tp3qSfYW8igndpog9GpKFzB7Tp7yXgpBq', 'type': 'ed25519-sha-256'}, 'uri': 'ni:///sha-256;gq2QbZZEcAzcCuCv4xicDCYQ_0RmN09VLSH6t2H0pKQ?fpt=ed25519-sha-256&cost=131072'}, 'public_keys': ['HWkENox4DM4Tp3qSfYW8igndpog9GpKFzB7Tp7yXgpBq']}], 'version': '2.0'}\n"
     ]
    }
   ],
   "source": [
    "sent_transfer_tx = bdb.transactions.send_commit(fulfilled_transfer_tx)\n",
    "print(sent_transfer_tx)"
   ]
  },
  {
   "cell_type": "code",
   "execution_count": 43,
   "metadata": {},
   "outputs": [
    {
     "data": {
      "text/plain": [
       "[{'inputs': [{'owners_before': ['HWkENox4DM4Tp3qSfYW8igndpog9GpKFzB7Tp7yXgpBq'],\n",
       "    'fulfills': None,\n",
       "    'fulfillment': 'pGSAIPVZtx4o_rOegIGfPcYb4EaFDHeiZeOMo33DyRobp6QIgUBTg2yCqp1lOE3Mk0MUyGCFNerv_rNmsBW7IZOq0nRxMVezxKI8WiVfu7BQi1VHVmjK0XkB_lOA12vVtAwmt-0H'}],\n",
       "  'outputs': [{'public_keys': ['3PKKhLTbaFSjpjdEtNYqPTSrgp17Vur25NwVjQNKK7Hm'],\n",
       "    'condition': {'details': {'type': 'ed25519-sha-256',\n",
       "      'public_key': '3PKKhLTbaFSjpjdEtNYqPTSrgp17Vur25NwVjQNKK7Hm'},\n",
       "     'uri': 'ni:///sha-256;t1GM7Bud9-p2hvzkPDn8AN8FRSc8azG8u0BG_KLswiE?fpt=ed25519-sha-256&cost=131072'},\n",
       "    'amount': '10'}],\n",
       "  'operation': 'CREATE',\n",
       "  'metadata': None,\n",
       "  'asset': {'data': {'token_for': {'game_boy2': {'serial_number2': 'LR35902'}},\n",
       "    'description': '余额2'}},\n",
       "  'version': '2.0',\n",
       "  'id': 'e0d22c415cd5a398c3373e8f93b065fc65c5cb6ddac5d984315270b4e5fa895a'},\n",
       " {'inputs': [{'owners_before': ['3PKKhLTbaFSjpjdEtNYqPTSrgp17Vur25NwVjQNKK7Hm'],\n",
       "    'fulfills': {'transaction_id': 'e0d22c415cd5a398c3373e8f93b065fc65c5cb6ddac5d984315270b4e5fa895a',\n",
       "     'output_index': 0},\n",
       "    'fulfillment': 'pGSAICNu3miMPbgnonQOrcbGgUknVoZB1S3vKt5lGBSitv90gUAC624FcZHL9pP1vVQ7_xZbTf9nY_XhU9AoJBFBc4lYXJfhizoljoFRjVU9FTl5gfFpGfHExrCtm1Ji_lBnp4YO'}],\n",
       "  'outputs': [{'public_keys': ['3PKKhLTbaFSjpjdEtNYqPTSrgp17Vur25NwVjQNKK7Hm'],\n",
       "    'condition': {'details': {'type': 'ed25519-sha-256',\n",
       "      'public_key': '3PKKhLTbaFSjpjdEtNYqPTSrgp17Vur25NwVjQNKK7Hm'},\n",
       "     'uri': 'ni:///sha-256;t1GM7Bud9-p2hvzkPDn8AN8FRSc8azG8u0BG_KLswiE?fpt=ed25519-sha-256&cost=131072'},\n",
       "    'amount': '2'},\n",
       "   {'public_keys': ['HWkENox4DM4Tp3qSfYW8igndpog9GpKFzB7Tp7yXgpBq'],\n",
       "    'condition': {'details': {'type': 'ed25519-sha-256',\n",
       "      'public_key': 'HWkENox4DM4Tp3qSfYW8igndpog9GpKFzB7Tp7yXgpBq'},\n",
       "     'uri': 'ni:///sha-256;gq2QbZZEcAzcCuCv4xicDCYQ_0RmN09VLSH6t2H0pKQ?fpt=ed25519-sha-256&cost=131072'},\n",
       "    'amount': '8'}],\n",
       "  'operation': 'TRANSFER',\n",
       "  'metadata': None,\n",
       "  'asset': {'id': 'e0d22c415cd5a398c3373e8f93b065fc65c5cb6ddac5d984315270b4e5fa895a'},\n",
       "  'version': '2.0',\n",
       "  'id': '0cac4c757e26eca6599a0cce376796a3b088635af6c7d3558917bd2939d91af0'},\n",
       " {'inputs': [{'owners_before': ['HWkENox4DM4Tp3qSfYW8igndpog9GpKFzB7Tp7yXgpBq'],\n",
       "    'fulfills': {'transaction_id': '0cac4c757e26eca6599a0cce376796a3b088635af6c7d3558917bd2939d91af0',\n",
       "     'output_index': 1},\n",
       "    'fulfillment': 'pGSAIPVZtx4o_rOegIGfPcYb4EaFDHeiZeOMo33DyRobp6QIgUARfrloEqEsNG9OqdiZt1vISZNbi6lHHc-7VZnh4MRnBabaR7Ow1vDau9CCjzU0-UzRWcOz_YhycRs5GRqMAzYF'}],\n",
       "  'outputs': [{'public_keys': ['3PKKhLTbaFSjpjdEtNYqPTSrgp17Vur25NwVjQNKK7Hm'],\n",
       "    'condition': {'details': {'type': 'ed25519-sha-256',\n",
       "      'public_key': '3PKKhLTbaFSjpjdEtNYqPTSrgp17Vur25NwVjQNKK7Hm'},\n",
       "     'uri': 'ni:///sha-256;t1GM7Bud9-p2hvzkPDn8AN8FRSc8azG8u0BG_KLswiE?fpt=ed25519-sha-256&cost=131072'},\n",
       "    'amount': '2'},\n",
       "   {'public_keys': ['HWkENox4DM4Tp3qSfYW8igndpog9GpKFzB7Tp7yXgpBq'],\n",
       "    'condition': {'details': {'type': 'ed25519-sha-256',\n",
       "      'public_key': 'HWkENox4DM4Tp3qSfYW8igndpog9GpKFzB7Tp7yXgpBq'},\n",
       "     'uri': 'ni:///sha-256;gq2QbZZEcAzcCuCv4xicDCYQ_0RmN09VLSH6t2H0pKQ?fpt=ed25519-sha-256&cost=131072'},\n",
       "    'amount': '6'}],\n",
       "  'operation': 'TRANSFER',\n",
       "  'metadata': None,\n",
       "  'asset': {'id': 'e0d22c415cd5a398c3373e8f93b065fc65c5cb6ddac5d984315270b4e5fa895a'},\n",
       "  'version': '2.0',\n",
       "  'id': 'c2b0c95c02239532f11f5d8c263d91cddbd6acf9146ac70d1a1171b8b61da050'}]"
      ]
     },
     "execution_count": 43,
     "metadata": {},
     "output_type": "execute_result"
    }
   ],
   "source": [
    "alice_fulfilled_token_tx = bdb.transactions.get(asset_id='e0d22c415cd5a398c3373e8f93b065fc65c5cb6ddac5d984315270b4e5fa895a')\n",
    "alice_fulfilled_token_tx"
   ]
  },
  {
   "cell_type": "code",
   "execution_count": 45,
   "metadata": {},
   "outputs": [
    {
     "data": {
      "text/plain": [
       "3"
      ]
     },
     "execution_count": 45,
     "metadata": {},
     "output_type": "execute_result"
    }
   ],
   "source": [
    "len(alice_fulfilled_token_tx)"
   ]
  },
  {
   "cell_type": "code",
   "execution_count": 47,
   "metadata": {},
   "outputs": [
    {
     "data": {
      "text/plain": [
       "[{'public_keys': ['3PKKhLTbaFSjpjdEtNYqPTSrgp17Vur25NwVjQNKK7Hm'],\n",
       "  'condition': {'details': {'type': 'ed25519-sha-256',\n",
       "    'public_key': '3PKKhLTbaFSjpjdEtNYqPTSrgp17Vur25NwVjQNKK7Hm'},\n",
       "   'uri': 'ni:///sha-256;t1GM7Bud9-p2hvzkPDn8AN8FRSc8azG8u0BG_KLswiE?fpt=ed25519-sha-256&cost=131072'},\n",
       "  'amount': '2'},\n",
       " {'public_keys': ['HWkENox4DM4Tp3qSfYW8igndpog9GpKFzB7Tp7yXgpBq'],\n",
       "  'condition': {'details': {'type': 'ed25519-sha-256',\n",
       "    'public_key': 'HWkENox4DM4Tp3qSfYW8igndpog9GpKFzB7Tp7yXgpBq'},\n",
       "   'uri': 'ni:///sha-256;gq2QbZZEcAzcCuCv4xicDCYQ_0RmN09VLSH6t2H0pKQ?fpt=ed25519-sha-256&cost=131072'},\n",
       "  'amount': '6'}]"
      ]
     },
     "execution_count": 47,
     "metadata": {},
     "output_type": "execute_result"
    }
   ],
   "source": [
    "alice_fulfilled_token_tx[2]['outputs']"
   ]
  },
  {
   "cell_type": "code",
   "execution_count": 49,
   "metadata": {},
   "outputs": [],
   "source": [
    "# 当前 alice(6),bob(4)\n",
    "# 如何查看代币数量（amount），必须手工统计吗？ todo\n",
    "# 猜测需要自己统计\n",
    "\n"
   ]
  }
 ],
 "metadata": {
  "kernelspec": {
   "display_name": "Python 3",
   "language": "python",
   "name": "python3"
  },
  "language_info": {
   "codemirror_mode": {
    "name": "ipython",
    "version": 3
   },
   "file_extension": ".py",
   "mimetype": "text/x-python",
   "name": "python",
   "nbconvert_exporter": "python",
   "pygments_lexer": "ipython3",
   "version": "3.7.1"
  }
 },
 "nbformat": 4,
 "nbformat_minor": 2
}
