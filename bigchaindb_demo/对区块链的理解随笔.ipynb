{
 "cells": [
  {
   "cell_type": "markdown",
   "metadata": {},
   "source": [
    "2019年4月15日13点11分\n",
    "\n",
    "验证可拆分代币的统计过程，也许不是我开始想的那样，可能是对数字资产的理解还是不对\n",
    "\n",
    "啊啊啊啊啊，公司的网又是这样，把pypi给禁了，emmm我得回去把我的环境打包个镜像拿过来直接用，应该使用dockers commit，先查一下，回去直接搞。不能拖了，今天先把昨天晚上想的分析一下。\n",
    "\n",
    "key：可拆分资产，资产，交易，查询；\n",
    "\n",
    "# 资产查询通过serch text 只有资产本身，\n",
    "# 交易查询通过 资产id，查询该资产的所有交易，\n",
    "\n",
    "## 而可拆分代币的每次交易的输入都是上一次交易的输出，且包含了上次交易的id，所以这些交易都是连续的。\n",
    "\n",
    "### 而猜想中的，将一个已经使用过的交易输出再次使用时，会触发双花问题，即一个资源只能被花一次，\n",
    "\n",
    "而可拆分代币就会在一次一次的交易中拆分开来，\n",
    "\n",
    "# 而我想要的统计，即把分布于不同交易中的代币再合并到一起的需求是合理的吗？可以实现吗？\n",
    "\n"
   ]
  },
  {
   "cell_type": "markdown",
   "metadata": {},
   "source": [
    "理论上，可以通过向自己交易来合并，分别以ppp,做不到；除非input可以是多个。欸，可以试试看。。。\n",
    "\n",
    "如下，是一个资产的3次交易 1create+2transfer，合并，bdb.transactions.prepare中的input就需要可以接收多个输入，查看\n",
    "源码。ei果然可以，好像明白他的思路了，这样就可以，合并一个用户的资产了，虽然还会又一点问题，todo，but思路是对了。"
   ]
  },
  {
   "cell_type": "markdown",
   "metadata": {},
   "source": [
    "还有就是driver和http-api的功能差不是一点半点，起码这个查询接口就没用完。要不再简略一点，只用python的prepare模块，准备数据，也不知道，go的驱动完成了没有，要是完成了就没啥难度了。"
   ]
  },
  {
   "cell_type": "markdown",
   "metadata": {},
   "source": [
    "waao，竟然有这个接口，tGET /api/v1/outputs?public_key={public_key}&spent=false中某人，未消费的交易，o其实这个就是我想要的，过滤方法也简单，过滤出未被input的output即可，666，终于搞清楚为什么要把output单独拿出来了。"
   ]
  },
  {
   "cell_type": "markdown",
   "metadata": {},
   "source": [
    "`metadata应该属于交易，不知道能不能挂到资产下 //todo`\n",
    "\n",
    "`GET /api/v1/validators 不太清楚是什么，有可能是我想找的每个资产的代币数量 // todo`\n",
    "\n",
    "猜测，作为验证器，默认的就是用户密钥，对应了代币数量。\n",
    "\n",
    "重block中取以上所有的交易，额数字资产只在本地的意思吗？\n",
    "\n",
    "要搞清楚实体于概念的区别。"
   ]
  },
  {
   "cell_type": "markdown",
   "metadata": {},
   "source": [
    "真是看一遍有一遍的理解，对区块链是什么终于到了可以意会的成度了。"
   ]
  }
 ],
 "metadata": {
  "kernelspec": {
   "display_name": "Python 3",
   "language": "python",
   "name": "python3"
  },
  "language_info": {
   "codemirror_mode": {
    "name": "ipython",
    "version": 3
   },
   "file_extension": ".py",
   "mimetype": "text/x-python",
   "name": "python",
   "nbconvert_exporter": "python",
   "pygments_lexer": "ipython3",
   "version": "3.7.1"
  }
 },
 "nbformat": 4,
 "nbformat_minor": 2
}
