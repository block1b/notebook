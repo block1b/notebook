{
 "cells": [
  {
   "cell_type": "markdown",
   "metadata": {},
   "source": [
    "# bigchiandb http api\n",
    "\n",
    "基于api实现，个人代币合并的事务"
   ]
  },
  {
   "cell_type": "code",
   "execution_count": 2,
   "metadata": {},
   "outputs": [
    {
     "data": {
      "text/plain": [
       "[{'data': {'token_for': {'game_boy2': {'serial_number2': 'LR35902'}},\n",
       "   'description': '余额2'},\n",
       "  'id': 'e0d22c415cd5a398c3373e8f93b065fc65c5cb6ddac5d984315270b4e5fa895a'}]"
      ]
     },
     "execution_count": 2,
     "metadata": {},
     "output_type": "execute_result"
    }
   ],
   "source": [
    "# import BigchainDB and create an object\n",
    "from bigchaindb_driver import BigchainDB\n",
    "bdb_root_url = 'http://192.168.1.110:9984'\n",
    "bdb = BigchainDB(bdb_root_url)\n",
    "bdb.assets.get(search='e0d22c415cd5a398c3373e8f93b065fc65c5cb6ddac5d984315270b4e5fa895a')"
   ]
  },
  {
   "cell_type": "code",
   "execution_count": 4,
   "metadata": {},
   "outputs": [
    {
     "data": {
      "text/plain": [
       "[{'inputs': [{'owners_before': ['HWkENox4DM4Tp3qSfYW8igndpog9GpKFzB7Tp7yXgpBq'],\n",
       "    'fulfills': None,\n",
       "    'fulfillment': 'pGSAIPVZtx4o_rOegIGfPcYb4EaFDHeiZeOMo33DyRobp6QIgUBTg2yCqp1lOE3Mk0MUyGCFNerv_rNmsBW7IZOq0nRxMVezxKI8WiVfu7BQi1VHVmjK0XkB_lOA12vVtAwmt-0H'}],\n",
       "  'outputs': [{'public_keys': ['3PKKhLTbaFSjpjdEtNYqPTSrgp17Vur25NwVjQNKK7Hm'],\n",
       "    'condition': {'details': {'type': 'ed25519-sha-256',\n",
       "      'public_key': '3PKKhLTbaFSjpjdEtNYqPTSrgp17Vur25NwVjQNKK7Hm'},\n",
       "     'uri': 'ni:///sha-256;t1GM7Bud9-p2hvzkPDn8AN8FRSc8azG8u0BG_KLswiE?fpt=ed25519-sha-256&cost=131072'},\n",
       "    'amount': '10'}],\n",
       "  'operation': 'CREATE',\n",
       "  'metadata': None,\n",
       "  'asset': {'data': {'token_for': {'game_boy2': {'serial_number2': 'LR35902'}},\n",
       "    'description': '余额2'}},\n",
       "  'version': '2.0',\n",
       "  'id': 'e0d22c415cd5a398c3373e8f93b065fc65c5cb6ddac5d984315270b4e5fa895a'},\n",
       " {'inputs': [{'owners_before': ['3PKKhLTbaFSjpjdEtNYqPTSrgp17Vur25NwVjQNKK7Hm'],\n",
       "    'fulfills': {'transaction_id': 'e0d22c415cd5a398c3373e8f93b065fc65c5cb6ddac5d984315270b4e5fa895a',\n",
       "     'output_index': 0},\n",
       "    'fulfillment': 'pGSAICNu3miMPbgnonQOrcbGgUknVoZB1S3vKt5lGBSitv90gUAC624FcZHL9pP1vVQ7_xZbTf9nY_XhU9AoJBFBc4lYXJfhizoljoFRjVU9FTl5gfFpGfHExrCtm1Ji_lBnp4YO'}],\n",
       "  'outputs': [{'public_keys': ['3PKKhLTbaFSjpjdEtNYqPTSrgp17Vur25NwVjQNKK7Hm'],\n",
       "    'condition': {'details': {'type': 'ed25519-sha-256',\n",
       "      'public_key': '3PKKhLTbaFSjpjdEtNYqPTSrgp17Vur25NwVjQNKK7Hm'},\n",
       "     'uri': 'ni:///sha-256;t1GM7Bud9-p2hvzkPDn8AN8FRSc8azG8u0BG_KLswiE?fpt=ed25519-sha-256&cost=131072'},\n",
       "    'amount': '2'},\n",
       "   {'public_keys': ['HWkENox4DM4Tp3qSfYW8igndpog9GpKFzB7Tp7yXgpBq'],\n",
       "    'condition': {'details': {'type': 'ed25519-sha-256',\n",
       "      'public_key': 'HWkENox4DM4Tp3qSfYW8igndpog9GpKFzB7Tp7yXgpBq'},\n",
       "     'uri': 'ni:///sha-256;gq2QbZZEcAzcCuCv4xicDCYQ_0RmN09VLSH6t2H0pKQ?fpt=ed25519-sha-256&cost=131072'},\n",
       "    'amount': '8'}],\n",
       "  'operation': 'TRANSFER',\n",
       "  'metadata': None,\n",
       "  'asset': {'id': 'e0d22c415cd5a398c3373e8f93b065fc65c5cb6ddac5d984315270b4e5fa895a'},\n",
       "  'version': '2.0',\n",
       "  'id': '0cac4c757e26eca6599a0cce376796a3b088635af6c7d3558917bd2939d91af0'},\n",
       " {'inputs': [{'owners_before': ['HWkENox4DM4Tp3qSfYW8igndpog9GpKFzB7Tp7yXgpBq'],\n",
       "    'fulfills': {'transaction_id': '0cac4c757e26eca6599a0cce376796a3b088635af6c7d3558917bd2939d91af0',\n",
       "     'output_index': 1},\n",
       "    'fulfillment': 'pGSAIPVZtx4o_rOegIGfPcYb4EaFDHeiZeOMo33DyRobp6QIgUARfrloEqEsNG9OqdiZt1vISZNbi6lHHc-7VZnh4MRnBabaR7Ow1vDau9CCjzU0-UzRWcOz_YhycRs5GRqMAzYF'}],\n",
       "  'outputs': [{'public_keys': ['3PKKhLTbaFSjpjdEtNYqPTSrgp17Vur25NwVjQNKK7Hm'],\n",
       "    'condition': {'details': {'type': 'ed25519-sha-256',\n",
       "      'public_key': '3PKKhLTbaFSjpjdEtNYqPTSrgp17Vur25NwVjQNKK7Hm'},\n",
       "     'uri': 'ni:///sha-256;t1GM7Bud9-p2hvzkPDn8AN8FRSc8azG8u0BG_KLswiE?fpt=ed25519-sha-256&cost=131072'},\n",
       "    'amount': '2'},\n",
       "   {'public_keys': ['HWkENox4DM4Tp3qSfYW8igndpog9GpKFzB7Tp7yXgpBq'],\n",
       "    'condition': {'details': {'type': 'ed25519-sha-256',\n",
       "      'public_key': 'HWkENox4DM4Tp3qSfYW8igndpog9GpKFzB7Tp7yXgpBq'},\n",
       "     'uri': 'ni:///sha-256;gq2QbZZEcAzcCuCv4xicDCYQ_0RmN09VLSH6t2H0pKQ?fpt=ed25519-sha-256&cost=131072'},\n",
       "    'amount': '6'}],\n",
       "  'operation': 'TRANSFER',\n",
       "  'metadata': None,\n",
       "  'asset': {'id': 'e0d22c415cd5a398c3373e8f93b065fc65c5cb6ddac5d984315270b4e5fa895a'},\n",
       "  'version': '2.0',\n",
       "  'id': 'c2b0c95c02239532f11f5d8c263d91cddbd6acf9146ac70d1a1171b8b61da050'}]"
      ]
     },
     "execution_count": 4,
     "metadata": {},
     "output_type": "execute_result"
    }
   ],
   "source": [
    "alice_fulfilled_token_tx = bdb.transactions.get(asset_id='e0d22c415cd5a398c3373e8f93b065fc65c5cb6ddac5d984315270b4e5fa895a')\n",
    "alice_fulfilled_token_tx"
   ]
  },
  {
   "cell_type": "markdown",
   "metadata": {},
   "source": [
    "以上数据是3个事务，后边的练习基于该数据\n",
    "\n",
    "1. alice为bb创建10个代币\n",
    "2. bob向alice转移8个代币,剩余2个\n",
    "3. alice向bob转移2个代币，剩余6个\n",
    "\n",
    "结果当前 bob有4（2+2）个代币，alice有6个；"
   ]
  },
  {
   "cell_type": "markdown",
   "metadata": {},
   "source": [
    "# GET /api/v1/transactions/{transaction_id}\n",
    "最简单直接的，通过事务id查询\n",
    "\n",
    "192.168.1.110:9984/api/v1/transactions/c2b0c95c02239532f11f5d8c263d91cddbd6acf9146ac70d1a1171b8b61da050 // 交易3\n",
    "\n",
    "```\n",
    "{\"inputs\": [{\"owners_before\": [\"HWkENox4DM4Tp3qSfYW8igndpog9GpKFzB7Tp7yXgpBq\"], \n",
    "\"fulfills\": {\"transaction_id\": \"0cac4c757e26eca6599a0cce376796a3b088635af6c7d3558917bd2939d91af0\", \"output_index\": 1},\n",
    "    \"fulfillment\": \"pGSAIPVZtx4o_rOegIGfPcYb4EaFDHeiZeOMo33DyRobp6QIgUARfrloEqEsNG9OqdiZt1vISZNbi6lHHc-7VZnh4MRnBabaR7Ow1vDau9CCjzU0-UzRWcOz_YhycRs5GRqMAzYF\"}], \n",
    "\"outputs\": [\n",
    "    {\"public_keys\": [\"3PKKhLTbaFSjpjdEtNYqPTSrgp17Vur25NwVjQNKK7Hm\"],\"condition\": {\"details\": {\"type\": \"ed25519-sha-256\", \"public_key\": \"3PKKhLTbaFSjpjdEtNYqPTSrgp17Vur25NwVjQNKK7Hm\"}, \"uri\": \"ni:///sha-256;t1GM7Bud9-p2hvzkPDn8AN8FRSc8azG8u0BG_KLswiE?fpt=ed25519-sha-256&cost=131072\"}, \"amount\": \"2\"},\n",
    "    {\"public_keys\": [\"HWkENox4DM4Tp3qSfYW8igndpog9GpKFzB7Tp7yXgpBq\"], \"condition\": {\"details\": {\"type\": \"ed25519-sha-256\", \"public_key\": \"HWkENox4DM4Tp3qSfYW8igndpog9GpKFzB7Tp7yXgpBq\"}, \"uri\": \"ni:///sha-256;gq2QbZZEcAzcCuCv4xicDCYQ_0RmN09VLSH6t2H0pKQ?fpt=ed25519-sha-256&cost=131072\"}, \"amount\": \"6\"}],\n",
    "\"operation\": \"TRANSFER\", \n",
    "\"metadata\": null, \n",
    "\"asset\": {\"id\": \"e0d22c415cd5a398c3373e8f93b065fc65c5cb6ddac5d984315270b4e5fa895a\"}, \"version\": \"2.0\", \"id\": \"c2b0c95c02239532f11f5d8c263d91cddbd6acf9146ac70d1a1171b8b61da050\"}\n",
    "```"
   ]
  },
  {
   "cell_type": "markdown",
   "metadata": {},
   "source": [
    "# CryptoKeypair(private_key='88L2BJC9eNtSWhpPwWqqsLDRGz7aBPhuRNyfsWx4QxWR', public_key='HWkENox4DM4Tp3qSfYW8igndpog9GpKFzB7Tp7yXgpBq') CryptoKeypair(private_key='HwLCf9fbhm6BHTagY5aC1uVKR6sz57h7viuS8DUR9x34', public_key='3PKKhLTbaFSjpjdEtNYqPTSrgp17Vur25NwVjQNKK7Hm')\n",
    "```\n",
    "alice_private_key='88L2BJC9eNtSWhpPwWqqsLDRGz7aBPhuRNyfsWx4QxWR'\n",
    "alice_public_key='HWkENox4DM4Tp3qSfYW8igndpog9GpKFzB7Tp7yXgpBq'\n",
    "bob_private_key='HwLCf9fbhm6BHTagY5aC1uVKR6sz57h7viuS8DUR9x34'\n",
    "bob_public_key='3PKKhLTbaFSjpjdEtNYqPTSrgp17Vur25NwVjQNKK7Hm'\n",
    "```"
   ]
  },
  {
   "cell_type": "markdown",
   "metadata": {},
   "source": [
    "# GET /api/v1/transactions?asset_id={asset_id}&operation={CREATE|TRANSFER}\n",
    "\n",
    "通过事务设计的资产+事务类型"
   ]
  },
  {
   "cell_type": "markdown",
   "metadata": {},
   "source": [
    "# GET /api/v1/outputs?public_key={public_key}\n",
    "某人参与的事务\n",
    "\n",
    "192.168.1.110:9984/api/v1/outputs?public_key=HWkENox4DM4Tp3qSfYW8igndpog9GpKFzB7Tp7yXgpBq\n",
    "\n",
    "```\n",
    "[{\"transaction_id\": \"41551975ddf934c0c845f65a71e9596b7429c0e78ff3d7f9b7979183013da3b3\", \"output_index\": 1}, // 垃圾数据，忽略之\n",
    "{\"transaction_id\": \"0cac4c757e26eca6599a0cce376796a3b088635af6c7d3558917bd2939d91af0\", \"output_index\": 1},\n",
    "{\"transaction_id\": \"c2b0c95c02239532f11f5d8c263d91cddbd6acf9146ac70d1a1171b8b61da050\", \"output_index\": 1}]\n",
    "```\n",
    "\n",
    "alice提交了3次事务，create*1+transaction*2"
   ]
  },
  {
   "cell_type": "markdown",
   "metadata": {},
   "source": [
    "# GET /api/v1/outputs?public_key={public_key}&spent=true\n",
    "资产已经被消费的事务输出\n",
    "\n",
    "192.168.1.110:9984/api/v1/outputs?public_key=HWkENox4DM4Tp3qSfYW8igndpog9GpKFzB7Tp7yXgpBq&spent=true\n",
    "\n",
    "```\n",
    "[{\"transaction_id\": \"0cac4c757e26eca6599a0cce376796a3b088635af6c7d3558917bd2939d91af0\", \"output_index\": 1}]\n",
    "```\n",
    "\n",
    "192.168.1.110:9984/api/v1/outputs?public_key=HWkENox4DM4Tp3qSfYW8igndpog9GpKFzB7Tp7yXgpBq&spent=false\n",
    "\n",
    "```\n",
    "[{\"transaction_id\": \"41551975ddf934c0c845f65a71e9596b7429c0e78ff3d7f9b7979183013da3b3\", \"output_index\": 1}, // 忽略\n",
    "{\"transaction_id\": \"c2b0c95c02239532f11f5d8c263d91cddbd6acf9146ac70d1a1171b8b61da050\", \"output_index\": 1}]\n",
    "```\n",
    "\n",
    "alice的output没什么问题，主要验证bob的，因为经过两次事务，bob的代币已经分散。\n",
    "\n",
    "192.168.1.110:9984/api/v1/outputs?public_key=3PKKhLTbaFSjpjdEtNYqPTSrgp17Vur25NwVjQNKK7Hm&spent=true\n",
    "\n",
    "```\n",
    "[{\"transaction_id\": \"3332b400d06433ad2edaf9820302a2eafe1a4ef081f9bdcfbbb460ee27172963\", \"output_index\": 0}, // 忽略\n",
    "{\"transaction_id\": \"e0d22c415cd5a398c3373e8f93b065fc65c5cb6ddac5d984315270b4e5fa895a\", \"output_index\": 0}]\n",
    "```\n",
    "192.168.1.110:9984/api/v1/outputs?public_key=3PKKhLTbaFSjpjdEtNYqPTSrgp17Vur25NwVjQNKK7Hm&spent=false\n",
    "\n",
    "```\n",
    "[{\"transaction_id\": \"1f83959db7d066da989bfb5902135b807e5f45aa34e6cbd43ceb95289e709338\", \"output_index\": 0}, // 忽略\n",
    "{\"transaction_id\": \"41551975ddf934c0c845f65a71e9596b7429c0e78ff3d7f9b7979183013da3b3\", \"output_index\": 0}, // 忽略\n",
    "{\"transaction_id\": \"0cac4c757e26eca6599a0cce376796a3b088635af6c7d3558917bd2939d91af0\", \"output_index\": 0}, \n",
    "{\"transaction_id\": \"c2b0c95c02239532f11f5d8c263d91cddbd6acf9146ac70d1a1171b8b61da050\", \"output_index\": 0}]\n",
    "```\n",
    "忽略的数据是以前随便提交哦事务出来的，都是独立么没有探索意义，忽略就好了。\n",
    "\n",
    "由数据可知，alice有一次花费的output，还有一个未花费的输出；分别对应了 bob转移给alice的8个代币，alice转移了2个给bob。剩余6个代币\n",
    "bob的1花2剩对应了，bob10个代币转移2个给alice，接收alice转过来的2个，所以，剩余的就是2个（2+2）的代币。\n",
    "\n",
    "通过该数据，就可以追溯某人的花费，和余额；我准备通过该方法对个人代币进行合并。合并机制放到该用户发生事务前。<(￣︶￣)↗[GO!]"
   ]
  },
  {
   "cell_type": "markdown",
   "metadata": {},
   "source": [
    "# 多输入的事务\n",
    "完成个人代币合并 // todo"
   ]
  }
 ],
 "metadata": {
  "kernelspec": {
   "display_name": "Python 3",
   "language": "python",
   "name": "python3"
  },
  "language_info": {
   "codemirror_mode": {
    "name": "ipython",
    "version": 3
   },
   "file_extension": ".py",
   "mimetype": "text/x-python",
   "name": "python",
   "nbconvert_exporter": "python",
   "pygments_lexer": "ipython3",
   "version": "3.7.1"
  }
 },
 "nbformat": 4,
 "nbformat_minor": 2
}
