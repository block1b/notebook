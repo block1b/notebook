{
 "cells": [
  {
   "cell_type": "markdown",
   "metadata": {},
   "source": [
    "# 验证元数据是否可以更改\n",
    "最终实现设备共享规则修改"
   ]
  },
  {
   "cell_type": "code",
   "execution_count": 1,
   "metadata": {},
   "outputs": [],
   "source": [
    "# metadate好像只能跟随事务\n",
    "# import BigchainDB and create an object\n",
    "from bigchaindb_driver import BigchainDB\n",
    "bdb_root_url = 'http://192.168.1.110:9984'\n",
    "bdb = BigchainDB(bdb_root_url)"
   ]
  },
  {
   "cell_type": "code",
   "execution_count": 2,
   "metadata": {},
   "outputs": [],
   "source": [
    "alice_private_key='88L2BJC9eNtSWhpPwWqqsLDRGz7aBPhuRNyfsWx4QxWR'\n",
    "alice_public_key='HWkENox4DM4Tp3qSfYW8igndpog9GpKFzB7Tp7yXgpBq'\n",
    "bob_private_key='HwLCf9fbhm6BHTagY5aC1uVKR6sz57h7viuS8DUR9x34'\n",
    "bob_public_key='3PKKhLTbaFSjpjdEtNYqPTSrgp17Vur25NwVjQNKK7Hm'"
   ]
  },
  {
   "cell_type": "code",
   "execution_count": 5,
   "metadata": {},
   "outputs": [
    {
     "name": "stdout",
     "output_type": "stream",
     "text": [
      "{'asset': {'data': {'device': {'type': 'parking'}, 'owner': {'name': 'block'}}}, 'id': 'f4d24dad7e7adff2c8aa291a910efcb68ca108f3f5377f06dee17179ea47f6ba', 'inputs': [{'fulfillment': 'pGSAICNu3miMPbgnonQOrcbGgUknVoZB1S3vKt5lGBSitv90gUDzEaJcAXAyZSEuX4Lf5kIHhlcz9H79jJaOLEIey90MRDMWEGXVuzPj8VbihxGnb0cJka0NhIoNzNEtx8TNoBEO', 'fulfills': None, 'owners_before': ['3PKKhLTbaFSjpjdEtNYqPTSrgp17Vur25NwVjQNKK7Hm']}], 'metadata': {'isShare': 1}, 'operation': 'CREATE', 'outputs': [{'amount': '1', 'condition': {'details': {'public_key': '3PKKhLTbaFSjpjdEtNYqPTSrgp17Vur25NwVjQNKK7Hm', 'type': 'ed25519-sha-256'}, 'uri': 'ni:///sha-256;t1GM7Bud9-p2hvzkPDn8AN8FRSc8azG8u0BG_KLswiE?fpt=ed25519-sha-256&cost=131072'}, 'public_keys': ['3PKKhLTbaFSjpjdEtNYqPTSrgp17Vur25NwVjQNKK7Hm']}], 'version': '2.0'}\n"
     ]
    }
   ],
   "source": [
    "\n",
    "# create a digital asset for Alice\n",
    "share_device = {\n",
    "    'data': {\n",
    "        'owner': {\n",
    "            'name':'block'\n",
    "            },\n",
    "        'device':{\n",
    "            'type': 'parking'\n",
    "            },\n",
    "        },\n",
    "        'description': 'share device.',\n",
    "    }\n",
    "\n",
    "metadata = {\n",
    "    'isShare':1\n",
    "}\n",
    "\n",
    "# prepare the transaction with the digital asset and issue 10 tokens for Bob\n",
    "prepared_token_tx = bdb.transactions.prepare(\n",
    "    operation='CREATE',\n",
    "    signers=bob_public_key,\n",
    "    recipients=[([bob_public_key], 1)],\n",
    "    asset=share_device,\n",
    "    metadata=metadata\n",
    ")\n",
    "\n",
    "# fulfill and send the transaction\n",
    "fulfilled_token_tx = bdb.transactions.fulfill(\n",
    "    prepared_token_tx,\n",
    "    private_keys=bob_private_key)\n",
    "rep = bdb.transactions.send_commit(fulfilled_token_tx)\n",
    "print(rep)"
   ]
  },
  {
   "cell_type": "code",
   "execution_count": 11,
   "metadata": {},
   "outputs": [
    {
     "data": {
      "text/plain": [
       "[{'data': {'owner': {'name': 'block'}, 'device': {'type': 'parking'}},\n",
       "  'id': 'f4d24dad7e7adff2c8aa291a910efcb68ca108f3f5377f06dee17179ea47f6ba'}]"
      ]
     },
     "execution_count": 11,
     "metadata": {},
     "output_type": "execute_result"
    }
   ],
   "source": [
    "# 查看该资产\n",
    "# 查询\n",
    "response = bdb.assets.get(search = 'block')\n",
    "response"
   ]
  },
  {
   "cell_type": "markdown",
   "metadata": {},
   "source": [
    "```\n",
    "{\n",
    "    'asset': {'data': {'device': {'type': 'parking'}, 'owner': {'name': 'block'}}}, \n",
    "    'id': 'f4d24dad7e7adff2c8aa291a910efcb68ca108f3f5377f06dee17179ea47f6ba', \n",
    "    'inputs': [{\n",
    "                'fulfillment': 'xxx', \n",
    "                'fulfills': None, \n",
    "                'owners_before': ['3PKKhLTbaFSjpjdEtNYqPTSrgp17Vur25NwVjQNKK7Hm']\n",
    "           }], \n",
    "    'metadata': {'isShare': 1}, \n",
    "    'operation': 'CREATE', \n",
    "    'outputs': [{\n",
    "                'amount': '1', \n",
    "                'condition': {\n",
    "                        'details': {\n",
    "                            'public_key': '3PKKhLTbaFSjpjdEtNYqPTSrgp17Vur25NwVjQNKK7Hm', \n",
    "                            'type': 'ed25519-sha-256'\n",
    "                            }, \n",
    "                        'uri': 'ni:///shxxx'\n",
    "                        }, \n",
    "                'public_keys': ['3PKKhLTbaFSjpjdEtNYqPTSrgp17Vur25NwVjQNKK7Hm']\n",
    "            }], \n",
    "    'version': '2.0'\n",
    "}\n",
    "```\n",
    "\n",
    "果然metadata都是跟着事务的，所以，想修改的话，可以自交易，同时修改metadate。而创建出来的资产是永远无法修改的，哦这就是那个权限管理的根基"
   ]
  },
  {
   "cell_type": "markdown",
   "metadata": {},
   "source": [
    "# GET /api/v1/assets/?search={search}\n",
    "简单查询\n",
    "\n",
    "192.168.1.110:9984/api/v1/assets/?search=block\n",
    "    \n",
    "```\n",
    "[{\"data\": {\"owner\": {\"name\": \"block\"}, \"device\": {\"type\": parking\"}},\"id\":\"f4d24dad7e7adff2c8aa291a910efcb68ca108f3f5377f06dee17179ea47f6ba\"}]\n",
    "```"
   ]
  },
  {
   "cell_type": "markdown",
   "metadata": {},
   "source": [
    "# 修改metadate\n",
    "修改共享状态 // todo"
   ]
  },
  {
   "cell_type": "code",
   "execution_count": 3,
   "metadata": {},
   "outputs": [
    {
     "data": {
      "text/plain": [
       "[{'inputs': [{'owners_before': ['3PKKhLTbaFSjpjdEtNYqPTSrgp17Vur25NwVjQNKK7Hm'],\n",
       "    'fulfills': None,\n",
       "    'fulfillment': 'pGSAICNu3miMPbgnonQOrcbGgUknVoZB1S3vKt5lGBSitv90gUDzEaJcAXAyZSEuX4Lf5kIHhlcz9H79jJaOLEIey90MRDMWEGXVuzPj8VbihxGnb0cJka0NhIoNzNEtx8TNoBEO'}],\n",
       "  'outputs': [{'public_keys': ['3PKKhLTbaFSjpjdEtNYqPTSrgp17Vur25NwVjQNKK7Hm'],\n",
       "    'condition': {'details': {'type': 'ed25519-sha-256',\n",
       "      'public_key': '3PKKhLTbaFSjpjdEtNYqPTSrgp17Vur25NwVjQNKK7Hm'},\n",
       "     'uri': 'ni:///sha-256;t1GM7Bud9-p2hvzkPDn8AN8FRSc8azG8u0BG_KLswiE?fpt=ed25519-sha-256&cost=131072'},\n",
       "    'amount': '1'}],\n",
       "  'operation': 'CREATE',\n",
       "  'metadata': {'isShare': 1},\n",
       "  'asset': {'data': {'owner': {'name': 'block'},\n",
       "    'device': {'type': 'parking'}}},\n",
       "  'version': '2.0',\n",
       "  'id': 'f4d24dad7e7adff2c8aa291a910efcb68ca108f3f5377f06dee17179ea47f6ba'}]"
      ]
     },
     "execution_count": 3,
     "metadata": {},
     "output_type": "execute_result"
    }
   ],
   "source": [
    "# 人话：提交事务更新metadate\n",
    "\n",
    "# 获取最新的事务\n",
    "device_status = bdb.transactions.get(asset_id='f4d24dad7e7adff2c8aa291a910efcb68ca108f3f5377f06dee17179ea47f6ba')\n",
    "device_status"
   ]
  },
  {
   "cell_type": "code",
   "execution_count": 4,
   "metadata": {},
   "outputs": [
    {
     "name": "stdout",
     "output_type": "stream",
     "text": [
      "{'isShare': 0}\n"
     ]
    },
    {
     "data": {
      "text/plain": [
       "{'inputs': [{'owners_before': ['3PKKhLTbaFSjpjdEtNYqPTSrgp17Vur25NwVjQNKK7Hm'],\n",
       "   'fulfills': {'transaction_id': 'f4d24dad7e7adff2c8aa291a910efcb68ca108f3f5377f06dee17179ea47f6ba',\n",
       "    'output_index': 0},\n",
       "   'fulfillment': 'pGSAICNu3miMPbgnonQOrcbGgUknVoZB1S3vKt5lGBSitv90gUDuMinYCDLrrhsKLfMXzLJU1meQmDsdQKM2refyGPgtdo1nNQo75Ff_t45Ljw1zGp_8Mcnk5msxotGUbxBBjfAP'}],\n",
       " 'outputs': [{'public_keys': ['3PKKhLTbaFSjpjdEtNYqPTSrgp17Vur25NwVjQNKK7Hm'],\n",
       "   'condition': {'details': {'type': 'ed25519-sha-256',\n",
       "     'public_key': '3PKKhLTbaFSjpjdEtNYqPTSrgp17Vur25NwVjQNKK7Hm'},\n",
       "    'uri': 'ni:///sha-256;t1GM7Bud9-p2hvzkPDn8AN8FRSc8azG8u0BG_KLswiE?fpt=ed25519-sha-256&cost=131072'},\n",
       "   'amount': '1'}],\n",
       " 'operation': 'TRANSFER',\n",
       " 'metadata': {'isShare': 0},\n",
       " 'asset': {'id': 'f4d24dad7e7adff2c8aa291a910efcb68ca108f3f5377f06dee17179ea47f6ba'},\n",
       " 'version': '2.0',\n",
       " 'id': '81a900d97dd3ba69a8746a5ef5a66bb199ff84be5699fc97f8e7b45765265e4b'}"
      ]
     },
     "execution_count": 4,
     "metadata": {},
     "output_type": "execute_result"
    }
   ],
   "source": [
    "# 与自己发生事务，修改metadata\n",
    "\n",
    "new_metadata = device_status[0]['metadata']\n",
    "new_metadata['isShare'] = 0\n",
    "print(new_metadata) \n",
    "\n",
    "output_index = 0\n",
    "output = device_status[0]['outputs'][output_index]\n",
    "transfer_input = {\n",
    "    'fulfillment': output['condition']['details'],\n",
    "    'fulfills': {\n",
    "        'output_index': output_index,\n",
    "        'transaction_id': device_status[0]['id'],\n",
    "    },\n",
    "    'owners_before': output['public_keys'],\n",
    "}\n",
    "transfer_asset = {\n",
    "     'id':device_status[0]['id'],\n",
    "}\n",
    "prepared_transfer_tx = bdb.transactions.prepare(\n",
    "     operation='TRANSFER',\n",
    "     asset=transfer_asset,\n",
    "     inputs=transfer_input,\n",
    "     recipients=[([bob_public_key], 1)],\n",
    "     metadata=new_metadata\n",
    ")\n",
    "fulfilled_transfer_tx = bdb.transactions.fulfill(prepared_transfer_tx, private_keys=[bob_private_key])\n",
    "fulfilled_transfer_tx"
   ]
  },
  {
   "cell_type": "code",
   "execution_count": 5,
   "metadata": {},
   "outputs": [
    {
     "data": {
      "text/plain": [
       "{'asset': {'id': 'f4d24dad7e7adff2c8aa291a910efcb68ca108f3f5377f06dee17179ea47f6ba'},\n",
       " 'id': '81a900d97dd3ba69a8746a5ef5a66bb199ff84be5699fc97f8e7b45765265e4b',\n",
       " 'inputs': [{'fulfillment': 'pGSAICNu3miMPbgnonQOrcbGgUknVoZB1S3vKt5lGBSitv90gUDuMinYCDLrrhsKLfMXzLJU1meQmDsdQKM2refyGPgtdo1nNQo75Ff_t45Ljw1zGp_8Mcnk5msxotGUbxBBjfAP',\n",
       "   'fulfills': {'output_index': 0,\n",
       "    'transaction_id': 'f4d24dad7e7adff2c8aa291a910efcb68ca108f3f5377f06dee17179ea47f6ba'},\n",
       "   'owners_before': ['3PKKhLTbaFSjpjdEtNYqPTSrgp17Vur25NwVjQNKK7Hm']}],\n",
       " 'metadata': {'isShare': 0},\n",
       " 'operation': 'TRANSFER',\n",
       " 'outputs': [{'amount': '1',\n",
       "   'condition': {'details': {'public_key': '3PKKhLTbaFSjpjdEtNYqPTSrgp17Vur25NwVjQNKK7Hm',\n",
       "     'type': 'ed25519-sha-256'},\n",
       "    'uri': 'ni:///sha-256;t1GM7Bud9-p2hvzkPDn8AN8FRSc8azG8u0BG_KLswiE?fpt=ed25519-sha-256&cost=131072'},\n",
       "   'public_keys': ['3PKKhLTbaFSjpjdEtNYqPTSrgp17Vur25NwVjQNKK7Hm']}],\n",
       " 'version': '2.0'}"
      ]
     },
     "execution_count": 5,
     "metadata": {},
     "output_type": "execute_result"
    }
   ],
   "source": [
    "bdb.transactions.send_commit(fulfilled_transfer_tx)\n",
    "\n",
    "# emmm因为网络的原因会出500的错误？？不知道为啥。。。"
   ]
  },
  {
   "cell_type": "code",
   "execution_count": 6,
   "metadata": {},
   "outputs": [
    {
     "data": {
      "text/plain": [
       "[{'inputs': [{'owners_before': ['3PKKhLTbaFSjpjdEtNYqPTSrgp17Vur25NwVjQNKK7Hm'],\n",
       "    'fulfills': None,\n",
       "    'fulfillment': 'pGSAICNu3miMPbgnonQOrcbGgUknVoZB1S3vKt5lGBSitv90gUDzEaJcAXAyZSEuX4Lf5kIHhlcz9H79jJaOLEIey90MRDMWEGXVuzPj8VbihxGnb0cJka0NhIoNzNEtx8TNoBEO'}],\n",
       "  'outputs': [{'public_keys': ['3PKKhLTbaFSjpjdEtNYqPTSrgp17Vur25NwVjQNKK7Hm'],\n",
       "    'condition': {'details': {'type': 'ed25519-sha-256',\n",
       "      'public_key': '3PKKhLTbaFSjpjdEtNYqPTSrgp17Vur25NwVjQNKK7Hm'},\n",
       "     'uri': 'ni:///sha-256;t1GM7Bud9-p2hvzkPDn8AN8FRSc8azG8u0BG_KLswiE?fpt=ed25519-sha-256&cost=131072'},\n",
       "    'amount': '1'}],\n",
       "  'operation': 'CREATE',\n",
       "  'metadata': {'isShare': 1},\n",
       "  'asset': {'data': {'owner': {'name': 'block'},\n",
       "    'device': {'type': 'parking'}}},\n",
       "  'version': '2.0',\n",
       "  'id': 'f4d24dad7e7adff2c8aa291a910efcb68ca108f3f5377f06dee17179ea47f6ba'},\n",
       " {'inputs': [{'owners_before': ['3PKKhLTbaFSjpjdEtNYqPTSrgp17Vur25NwVjQNKK7Hm'],\n",
       "    'fulfills': {'transaction_id': 'f4d24dad7e7adff2c8aa291a910efcb68ca108f3f5377f06dee17179ea47f6ba',\n",
       "     'output_index': 0},\n",
       "    'fulfillment': 'pGSAICNu3miMPbgnonQOrcbGgUknVoZB1S3vKt5lGBSitv90gUDuMinYCDLrrhsKLfMXzLJU1meQmDsdQKM2refyGPgtdo1nNQo75Ff_t45Ljw1zGp_8Mcnk5msxotGUbxBBjfAP'}],\n",
       "  'outputs': [{'public_keys': ['3PKKhLTbaFSjpjdEtNYqPTSrgp17Vur25NwVjQNKK7Hm'],\n",
       "    'condition': {'details': {'type': 'ed25519-sha-256',\n",
       "      'public_key': '3PKKhLTbaFSjpjdEtNYqPTSrgp17Vur25NwVjQNKK7Hm'},\n",
       "     'uri': 'ni:///sha-256;t1GM7Bud9-p2hvzkPDn8AN8FRSc8azG8u0BG_KLswiE?fpt=ed25519-sha-256&cost=131072'},\n",
       "    'amount': '1'}],\n",
       "  'operation': 'TRANSFER',\n",
       "  'metadata': {'isShare': 0},\n",
       "  'asset': {'id': 'f4d24dad7e7adff2c8aa291a910efcb68ca108f3f5377f06dee17179ea47f6ba'},\n",
       "  'version': '2.0',\n",
       "  'id': '81a900d97dd3ba69a8746a5ef5a66bb199ff84be5699fc97f8e7b45765265e4b'}]"
      ]
     },
     "execution_count": 6,
     "metadata": {},
     "output_type": "execute_result"
    }
   ],
   "source": [
    "# 获取最新的事务\n",
    "device_status = bdb.transactions.get(asset_id='f4d24dad7e7adff2c8aa291a910efcb68ca108f3f5377f06dee17179ea47f6ba')\n",
    "device_status"
   ]
  },
  {
   "cell_type": "markdown",
   "metadata": {},
   "source": [
    "# 果然可以这么搞\n",
    "自己提交事务，修改metadata，设备共享规则就放到这里用了。。。done\n",
    "\n",
    "说起来这个地方是不是可以用 规则引擎什么的，虽然我还不知到什么是规则引擎 todo"
   ]
  }
 ],
 "metadata": {
  "kernelspec": {
   "display_name": "Python 3",
   "language": "python",
   "name": "python3"
  },
  "language_info": {
   "codemirror_mode": {
    "name": "ipython",
    "version": 3
   },
   "file_extension": ".py",
   "mimetype": "text/x-python",
   "name": "python",
   "nbconvert_exporter": "python",
   "pygments_lexer": "ipython3",
   "version": "3.7.1"
  }
 },
 "nbformat": 4,
 "nbformat_minor": 2
}
