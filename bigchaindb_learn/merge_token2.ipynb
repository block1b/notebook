{
 "cells": [
  {
   "cell_type": "markdown",
   "metadata": {},
   "source": [
    "# 合并个人代币\n",
    "\n",
    "基于merge_token的场景，bob有2+2个token，将其合并之\n",
    "\n",
    "使用了request包"
   ]
  },
  {
   "cell_type": "code",
   "execution_count": 7,
   "metadata": {},
   "outputs": [],
   "source": [
    "# metadate好像只能跟随事务\n",
    "# import BigchainDB and create an object\n",
    "from bigchaindb_driver import BigchainDB\n",
    "bdb_root_url = 'http://192.168.1.110:9984'\n",
    "bdb = BigchainDB(bdb_root_url)\n",
    "\n",
    "alice_private_key='88L2BJC9eNtSWhpPwWqqsLDRGz7aBPhuRNyfsWx4QxWR'\n",
    "alice_public_key='HWkENox4DM4Tp3qSfYW8igndpog9GpKFzB7Tp7yXgpBq'\n",
    "bob_private_key='HwLCf9fbhm6BHTagY5aC1uVKR6sz57h7viuS8DUR9x34'\n",
    "bob_public_key='3PKKhLTbaFSjpjdEtNYqPTSrgp17Vur25NwVjQNKK7Hm'"
   ]
  },
  {
   "cell_type": "markdown",
   "metadata": {},
   "source": [
    "```\n",
    "192.168.1.110:9984/api/v1/outputs?public_key=3PKKhLTbaFSjpjdEtNYqPTSrgp17Vur25NwVjQNKK7Hm&spent=false\n",
    "\n",
    "[{\"transaction_id\": \"0cac4c757e26eca6599a0cce376796a3b088635af6c7d3558917bd2939d91af0\", \"output_index\": 0}, \n",
    "{\"transaction_id\": \"c2b0c95c02239532f11f5d8c263d91cddbd6acf9146ac70d1a1171b8b61da050\", \"output_index\": 0}]\n",
    "```"
   ]
  },
  {
   "cell_type": "code",
   "execution_count": 33,
   "metadata": {},
   "outputs": [
    {
     "data": {
      "text/plain": [
       "[{'transaction_id': '1f83959db7d066da989bfb5902135b807e5f45aa34e6cbd43ceb95289e709338',\n",
       "  'output_index': 0},\n",
       " {'transaction_id': '41551975ddf934c0c845f65a71e9596b7429c0e78ff3d7f9b7979183013da3b3',\n",
       "  'output_index': 0},\n",
       " {'transaction_id': '81a900d97dd3ba69a8746a5ef5a66bb199ff84be5699fc97f8e7b45765265e4b',\n",
       "  'output_index': 0},\n",
       " {'transaction_id': '28405b3c44df8d56305c3951eb6ad368a0719e51fa3e34bcb602c906a3d64e9e',\n",
       "  'output_index': 0}]"
      ]
     },
     "execution_count": 33,
     "metadata": {},
     "output_type": "execute_result"
    }
   ],
   "source": [
    "import requests\n",
    "import json\n",
    "# 某人未消耗的输出\n",
    "payload = {'public_key': '3PKKhLTbaFSjpjdEtNYqPTSrgp17Vur25NwVjQNKK7Hm', 'spent': 'false'}\n",
    "r = requests.get(\"http://192.168.1.110:9984/api/v1/outputs\", params=payload)\n",
    "# r.url\n",
    "# r.text\n",
    "# print(r.json)  # 不能解码到body\n",
    "text = json.loads(r.text)\n",
    "text"
   ]
  },
  {
   "cell_type": "code",
   "execution_count": 19,
   "metadata": {},
   "outputs": [
    {
     "data": {
      "text/plain": [
       "[{'inputs': [{'owners_before': ['HWkENox4DM4Tp3qSfYW8igndpog9GpKFzB7Tp7yXgpBq'],\n",
       "    'fulfills': None,\n",
       "    'fulfillment': 'pGSAIPVZtx4o_rOegIGfPcYb4EaFDHeiZeOMo33DyRobp6QIgUBTg2yCqp1lOE3Mk0MUyGCFNerv_rNmsBW7IZOq0nRxMVezxKI8WiVfu7BQi1VHVmjK0XkB_lOA12vVtAwmt-0H'}],\n",
       "  'outputs': [{'public_keys': ['3PKKhLTbaFSjpjdEtNYqPTSrgp17Vur25NwVjQNKK7Hm'],\n",
       "    'condition': {'details': {'type': 'ed25519-sha-256',\n",
       "      'public_key': '3PKKhLTbaFSjpjdEtNYqPTSrgp17Vur25NwVjQNKK7Hm'},\n",
       "     'uri': 'ni:///sha-256;t1GM7Bud9-p2hvzkPDn8AN8FRSc8azG8u0BG_KLswiE?fpt=ed25519-sha-256&cost=131072'},\n",
       "    'amount': '10'}],\n",
       "  'operation': 'CREATE',\n",
       "  'metadata': None,\n",
       "  'asset': {'data': {'token_for': {'game_boy2': {'serial_number2': 'LR35902'}},\n",
       "    'description': '余额2'}},\n",
       "  'version': '2.0',\n",
       "  'id': 'e0d22c415cd5a398c3373e8f93b065fc65c5cb6ddac5d984315270b4e5fa895a'},\n",
       " {'inputs': [{'owners_before': ['3PKKhLTbaFSjpjdEtNYqPTSrgp17Vur25NwVjQNKK7Hm'],\n",
       "    'fulfills': {'transaction_id': 'e0d22c415cd5a398c3373e8f93b065fc65c5cb6ddac5d984315270b4e5fa895a',\n",
       "     'output_index': 0},\n",
       "    'fulfillment': 'pGSAICNu3miMPbgnonQOrcbGgUknVoZB1S3vKt5lGBSitv90gUAC624FcZHL9pP1vVQ7_xZbTf9nY_XhU9AoJBFBc4lYXJfhizoljoFRjVU9FTl5gfFpGfHExrCtm1Ji_lBnp4YO'}],\n",
       "  'outputs': [{'public_keys': ['3PKKhLTbaFSjpjdEtNYqPTSrgp17Vur25NwVjQNKK7Hm'],\n",
       "    'condition': {'details': {'type': 'ed25519-sha-256',\n",
       "      'public_key': '3PKKhLTbaFSjpjdEtNYqPTSrgp17Vur25NwVjQNKK7Hm'},\n",
       "     'uri': 'ni:///sha-256;t1GM7Bud9-p2hvzkPDn8AN8FRSc8azG8u0BG_KLswiE?fpt=ed25519-sha-256&cost=131072'},\n",
       "    'amount': '2'},\n",
       "   {'public_keys': ['HWkENox4DM4Tp3qSfYW8igndpog9GpKFzB7Tp7yXgpBq'],\n",
       "    'condition': {'details': {'type': 'ed25519-sha-256',\n",
       "      'public_key': 'HWkENox4DM4Tp3qSfYW8igndpog9GpKFzB7Tp7yXgpBq'},\n",
       "     'uri': 'ni:///sha-256;gq2QbZZEcAzcCuCv4xicDCYQ_0RmN09VLSH6t2H0pKQ?fpt=ed25519-sha-256&cost=131072'},\n",
       "    'amount': '8'}],\n",
       "  'operation': 'TRANSFER',\n",
       "  'metadata': None,\n",
       "  'asset': {'id': 'e0d22c415cd5a398c3373e8f93b065fc65c5cb6ddac5d984315270b4e5fa895a'},\n",
       "  'version': '2.0',\n",
       "  'id': '0cac4c757e26eca6599a0cce376796a3b088635af6c7d3558917bd2939d91af0'},\n",
       " {'inputs': [{'owners_before': ['HWkENox4DM4Tp3qSfYW8igndpog9GpKFzB7Tp7yXgpBq'],\n",
       "    'fulfills': {'transaction_id': '0cac4c757e26eca6599a0cce376796a3b088635af6c7d3558917bd2939d91af0',\n",
       "     'output_index': 1},\n",
       "    'fulfillment': 'pGSAIPVZtx4o_rOegIGfPcYb4EaFDHeiZeOMo33DyRobp6QIgUARfrloEqEsNG9OqdiZt1vISZNbi6lHHc-7VZnh4MRnBabaR7Ow1vDau9CCjzU0-UzRWcOz_YhycRs5GRqMAzYF'}],\n",
       "  'outputs': [{'public_keys': ['3PKKhLTbaFSjpjdEtNYqPTSrgp17Vur25NwVjQNKK7Hm'],\n",
       "    'condition': {'details': {'type': 'ed25519-sha-256',\n",
       "      'public_key': '3PKKhLTbaFSjpjdEtNYqPTSrgp17Vur25NwVjQNKK7Hm'},\n",
       "     'uri': 'ni:///sha-256;t1GM7Bud9-p2hvzkPDn8AN8FRSc8azG8u0BG_KLswiE?fpt=ed25519-sha-256&cost=131072'},\n",
       "    'amount': '2'},\n",
       "   {'public_keys': ['HWkENox4DM4Tp3qSfYW8igndpog9GpKFzB7Tp7yXgpBq'],\n",
       "    'condition': {'details': {'type': 'ed25519-sha-256',\n",
       "      'public_key': 'HWkENox4DM4Tp3qSfYW8igndpog9GpKFzB7Tp7yXgpBq'},\n",
       "     'uri': 'ni:///sha-256;gq2QbZZEcAzcCuCv4xicDCYQ_0RmN09VLSH6t2H0pKQ?fpt=ed25519-sha-256&cost=131072'},\n",
       "    'amount': '6'}],\n",
       "  'operation': 'TRANSFER',\n",
       "  'metadata': None,\n",
       "  'asset': {'id': 'e0d22c415cd5a398c3373e8f93b065fc65c5cb6ddac5d984315270b4e5fa895a'},\n",
       "  'version': '2.0',\n",
       "  'id': 'c2b0c95c02239532f11f5d8c263d91cddbd6acf9146ac70d1a1171b8b61da050'}]"
      ]
     },
     "execution_count": 19,
     "metadata": {},
     "output_type": "execute_result"
    }
   ],
   "source": [
    "# 某资产的事务\n",
    "# /api/v1/transactions?asset_id=e0d22c415cd5a398c3373e8f93b065fc65c5cb6ddac5d984315270b4e5fa895a\n",
    "\n",
    "payload2 = {'asset_id': 'e0d22c415cd5a398c3373e8f93b065fc65c5cb6ddac5d984315270b4e5fa895a'}\n",
    "r2 = requests.get(\"http://192.168.1.110:9984/api/v1/transactions\", params=payload2)\n",
    "# text2 = json.loads(r2.text)\n",
    "text2 = json.loads(r2.text)\n",
    "text2"
   ]
  },
  {
   "cell_type": "code",
   "execution_count": 20,
   "metadata": {},
   "outputs": [
    {
     "data": {
      "text/plain": [
       "3"
      ]
     },
     "execution_count": 20,
     "metadata": {},
     "output_type": "execute_result"
    }
   ],
   "source": [
    "len(text2)"
   ]
  },
  {
   "cell_type": "markdown",
   "metadata": {},
   "source": [
    "# 如何获取 某人某资产剩余的代币\n",
    "\n",
    "通过输出，能得到某人未消耗的代币，还需要确定某资产\n",
    "按照现在的api有2种方案：\n",
    "\n",
    "1. 遍历所有的未消耗输出，以资产id为过滤条件；坑，第一次的创建事务，记录的不是资产id，而是资产本身；解决方法，主动将第一次的创建消耗掉（给自己）\n",
    "2. 遍历该资产相关的所有事务，判断是否未消耗；问题，随着事务的增加，体量会迅速增大，匹配算法复杂；不用分析了，该方法丢弃；"
   ]
  },
  {
   "cell_type": "code",
   "execution_count": 30,
   "metadata": {},
   "outputs": [
    {
     "name": "stdout",
     "output_type": "stream",
     "text": [
      "Error: 新创建资产没有['id']\n",
      "[{'fulfillment': {'type': 'ed25519-sha-256', 'public_key': '3PKKhLTbaFSjpjdEtNYqPTSrgp17Vur25NwVjQNKK7Hm'}, 'fulfills': {'output_index': 0, 'transaction_id': '0cac4c757e26eca6599a0cce376796a3b088635af6c7d3558917bd2939d91af0'}, 'owners_before': ['3PKKhLTbaFSjpjdEtNYqPTSrgp17Vur25NwVjQNKK7Hm']}, {'fulfillment': {'type': 'ed25519-sha-256', 'public_key': '3PKKhLTbaFSjpjdEtNYqPTSrgp17Vur25NwVjQNKK7Hm'}, 'fulfills': {'output_index': 0, 'transaction_id': 'c2b0c95c02239532f11f5d8c263d91cddbd6acf9146ac70d1a1171b8b61da050'}, 'owners_before': ['3PKKhLTbaFSjpjdEtNYqPTSrgp17Vur25NwVjQNKK7Hm']}]   4\n"
     ]
    }
   ],
   "source": [
    "# 遍历某人未消耗输出的事务\n",
    "bob_device = 'e0d22c415cd5a398c3373e8f93b065fc65c5cb6ddac5d984315270b4e5fa895a'\n",
    "transfer_asset = {\n",
    "     'id': bob_device,\n",
    "}\n",
    "transfer_inputs = []\n",
    "bob_token_amount = 0\n",
    "for i in text:\n",
    "#     print(i)\n",
    "    # 获取事务记录\n",
    "    ri = requests.get(\"http://192.168.1.110:9984/api/v1/transactions/\" + i['transaction_id'])\n",
    "    texti = json.loads(ri.text)\n",
    "    # filter 过滤某资产相关事务\n",
    "    try:\n",
    "        asset_id = texti['asset']['id']\n",
    "    except KeyError:\n",
    "        print(\"Error: 新创建资产没有['id']\")\n",
    "    else:\n",
    "        if asset_id == bob_device:\n",
    "            output = texti['outputs'][i['output_index']]\n",
    "            output_index = i['output_index']\n",
    "            transaction_id = i['transaction_id']\n",
    "#             asset_id = bob_device\n",
    "            bob_token_amount = bob_token_amount + int(output['amount'])\n",
    "            transfer_input = {\n",
    "                'fulfillment': output['condition']['details'],\n",
    "                'fulfills': {\n",
    "                    'output_index': output_index,\n",
    "                    'transaction_id': transaction_id,\n",
    "                },\n",
    "                'owners_before': output['public_keys'],\n",
    "            }\n",
    "            transfer_inputs.append(transfer_input)  # (dict,)加上,才能转换为tuple\n",
    "                                   \n",
    "print(transfer_inputs,\" \",bob_token_amount)\n"
   ]
  },
  {
   "cell_type": "markdown",
   "metadata": {},
   "source": [
    "# 如上过滤出bob的代币2+2，现在合并之\n",
    "事务的prepare方法param input，可以是list，即可以多个输入"
   ]
  },
  {
   "cell_type": "markdown",
   "metadata": {},
   "source": [
    "# 合并bob的token\n",
    "```\n",
    "output_index = 0\n",
    "output = fulfilled_token_tx['outputs'][output_index]\n",
    "transfer_input = {\n",
    "    'fulfillment': output['condition']['details'],\n",
    "    'fulfills': {\n",
    "        'output_index': output_index,\n",
    "        'transaction_id': fulfilled_token_tx['id'],\n",
    "    },\n",
    "    'owners_before': output['public_keys'],\n",
    "}\n",
    "transfer_asset = {\n",
    "     'id': fulfilled_token_tx['id'],\n",
    "}\n",
    "prepared_transfer_tx = bdb.transactions.prepare(\n",
    "     operation='TRANSFER',\n",
    "     asset=transfer_asset,\n",
    "     inputs=transfer_input,\n",
    "     recipients=[([bob.public_key], 2), ([alice.public_key], 8)]\n",
    ")\n",
    "fulfilled_transfer_tx = bdb.transactions.fulfill(prepared_transfer_tx, private_keys=bob.private_key)\n",
    "fulfilled_transfer_tx\n",
    "```\n",
    "基本上到outputs这一级就够了 // todo"
   ]
  },
  {
   "cell_type": "code",
   "execution_count": 31,
   "metadata": {},
   "outputs": [
    {
     "data": {
      "text/plain": [
       "{'inputs': [{'owners_before': ['3PKKhLTbaFSjpjdEtNYqPTSrgp17Vur25NwVjQNKK7Hm'],\n",
       "   'fulfills': {'transaction_id': '0cac4c757e26eca6599a0cce376796a3b088635af6c7d3558917bd2939d91af0',\n",
       "    'output_index': 0},\n",
       "   'fulfillment': 'pGSAICNu3miMPbgnonQOrcbGgUknVoZB1S3vKt5lGBSitv90gUB7DBfk2YATq8ZYj4tCmTwrCNvThdHpe4PVMpWPRwIaUalwGPpAIsrHFeELCJcpr5DI_fSz5-VKtr6LwmYPiRYP'},\n",
       "  {'owners_before': ['3PKKhLTbaFSjpjdEtNYqPTSrgp17Vur25NwVjQNKK7Hm'],\n",
       "   'fulfills': {'transaction_id': 'c2b0c95c02239532f11f5d8c263d91cddbd6acf9146ac70d1a1171b8b61da050',\n",
       "    'output_index': 0},\n",
       "   'fulfillment': 'pGSAICNu3miMPbgnonQOrcbGgUknVoZB1S3vKt5lGBSitv90gUDZFV2Qd2WLzK6aH9gEzUekW2Ge3IguDVCcMaNEENYhEUe-pQaAs1bFHjl2k15q1_4lei51ClcTQya-6ZfhwAwA'}],\n",
       " 'outputs': [{'public_keys': ['3PKKhLTbaFSjpjdEtNYqPTSrgp17Vur25NwVjQNKK7Hm'],\n",
       "   'condition': {'details': {'type': 'ed25519-sha-256',\n",
       "     'public_key': '3PKKhLTbaFSjpjdEtNYqPTSrgp17Vur25NwVjQNKK7Hm'},\n",
       "    'uri': 'ni:///sha-256;t1GM7Bud9-p2hvzkPDn8AN8FRSc8azG8u0BG_KLswiE?fpt=ed25519-sha-256&cost=131072'},\n",
       "   'amount': '4'}],\n",
       " 'operation': 'TRANSFER',\n",
       " 'metadata': None,\n",
       " 'asset': {'id': 'e0d22c415cd5a398c3373e8f93b065fc65c5cb6ddac5d984315270b4e5fa895a'},\n",
       " 'version': '2.0',\n",
       " 'id': '28405b3c44df8d56305c3951eb6ad368a0719e51fa3e34bcb602c906a3d64e9e'}"
      ]
     },
     "execution_count": 31,
     "metadata": {},
     "output_type": "execute_result"
    }
   ],
   "source": [
    "# prepare\n",
    "prepared_transfer_tx = bdb.transactions.prepare(\n",
    "     operation='TRANSFER',\n",
    "     asset=transfer_asset,\n",
    "     inputs=transfer_inputs,\n",
    "     recipients=[([bob_public_key], bob_token_amount)]\n",
    ")\n",
    "fulfilled_transfer_tx = bdb.transactions.fulfill(prepared_transfer_tx, private_keys=bob_private_key)\n",
    "fulfilled_transfer_tx"
   ]
  },
  {
   "cell_type": "code",
   "execution_count": 32,
   "metadata": {},
   "outputs": [
    {
     "name": "stdout",
     "output_type": "stream",
     "text": [
      "True\n"
     ]
    }
   ],
   "source": [
    "sent_transfer_tx = bdb.transactions.send_commit(fulfilled_transfer_tx)\n",
    "print(sent_transfer_tx == fulfilled_transfer_tx)"
   ]
  },
  {
   "cell_type": "code",
   "execution_count": 34,
   "metadata": {},
   "outputs": [
    {
     "data": {
      "text/plain": [
       "{'inputs': [{'owners_before': ['3PKKhLTbaFSjpjdEtNYqPTSrgp17Vur25NwVjQNKK7Hm'],\n",
       "   'fulfills': {'transaction_id': '0cac4c757e26eca6599a0cce376796a3b088635af6c7d3558917bd2939d91af0',\n",
       "    'output_index': 0},\n",
       "   'fulfillment': 'pGSAICNu3miMPbgnonQOrcbGgUknVoZB1S3vKt5lGBSitv90gUB7DBfk2YATq8ZYj4tCmTwrCNvThdHpe4PVMpWPRwIaUalwGPpAIsrHFeELCJcpr5DI_fSz5-VKtr6LwmYPiRYP'},\n",
       "  {'owners_before': ['3PKKhLTbaFSjpjdEtNYqPTSrgp17Vur25NwVjQNKK7Hm'],\n",
       "   'fulfills': {'transaction_id': 'c2b0c95c02239532f11f5d8c263d91cddbd6acf9146ac70d1a1171b8b61da050',\n",
       "    'output_index': 0},\n",
       "   'fulfillment': 'pGSAICNu3miMPbgnonQOrcbGgUknVoZB1S3vKt5lGBSitv90gUDZFV2Qd2WLzK6aH9gEzUekW2Ge3IguDVCcMaNEENYhEUe-pQaAs1bFHjl2k15q1_4lei51ClcTQya-6ZfhwAwA'}],\n",
       " 'outputs': [{'public_keys': ['3PKKhLTbaFSjpjdEtNYqPTSrgp17Vur25NwVjQNKK7Hm'],\n",
       "   'condition': {'details': {'type': 'ed25519-sha-256',\n",
       "     'public_key': '3PKKhLTbaFSjpjdEtNYqPTSrgp17Vur25NwVjQNKK7Hm'},\n",
       "    'uri': 'ni:///sha-256;t1GM7Bud9-p2hvzkPDn8AN8FRSc8azG8u0BG_KLswiE?fpt=ed25519-sha-256&cost=131072'},\n",
       "   'amount': '4'}],\n",
       " 'operation': 'TRANSFER',\n",
       " 'metadata': None,\n",
       " 'asset': {'id': 'e0d22c415cd5a398c3373e8f93b065fc65c5cb6ddac5d984315270b4e5fa895a'},\n",
       " 'version': '2.0',\n",
       " 'id': '28405b3c44df8d56305c3951eb6ad368a0719e51fa3e34bcb602c906a3d64e9e'}"
      ]
     },
     "execution_count": 34,
     "metadata": {},
     "output_type": "execute_result"
    }
   ],
   "source": [
    "# 如上合并成功，bob有了完整的4token\n",
    "# 28405b3c44df8d56305c3951eb6ad368a0719e51fa3e34bcb602c906a3d64e9e\n",
    "r3 = requests.get(\"http://192.168.1.110:9984/api/v1/transactions/28405b3c44df8d56305c3951eb6ad368a0719e51fa3e34bcb602c906a3d64e9e\")\n",
    "text3 = json.loads(r3.text)\n",
    "text3"
   ]
  },
  {
   "cell_type": "markdown",
   "metadata": {},
   "source": [
    "# 2019年4月21日21点27分 done"
   ]
  }
 ],
 "metadata": {
  "kernelspec": {
   "display_name": "Python 3",
   "language": "python",
   "name": "python3"
  },
  "language_info": {
   "codemirror_mode": {
    "name": "ipython",
    "version": 3
   },
   "file_extension": ".py",
   "mimetype": "text/x-python",
   "name": "python",
   "nbconvert_exporter": "python",
   "pygments_lexer": "ipython3",
   "version": "3.7.1"
  }
 },
 "nbformat": 4,
 "nbformat_minor": 2
}
