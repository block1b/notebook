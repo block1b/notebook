{
 "cells": [
  {
   "cell_type": "markdown",
   "metadata": {},
   "source": [
    "# 创建0token\n",
    "\n",
    "error: needs to be greater than zero"
   ]
  },
  {
   "cell_type": "code",
   "execution_count": 3,
   "metadata": {},
   "outputs": [
    {
     "name": "stdout",
     "output_type": "stream",
     "text": [
      "True\n"
     ]
    }
   ],
   "source": [
    "# import BigchainDB and create an object\n",
    "from bigchaindb_driver import BigchainDB\n",
    "bdb_root_url = 'http://192.168.113.6:9984'\n",
    "bdb = BigchainDB(bdb_root_url)\n",
    "\n",
    "# generate a keypair\n",
    "from bigchaindb_driver.crypto import generate_keypair\n",
    "alice, bob = generate_keypair(), generate_keypair()\n",
    "\n",
    "# create a digital asset for Alice\n",
    "game_boy_token = {\n",
    "    'data': {\n",
    "        'description': 'test',\n",
    "    },\n",
    "}\n",
    "\n",
    "# prepare the transaction with the digital asset and issue 10 tokens for Bob\n",
    "prepared_token_tx = bdb.transactions.prepare(\n",
    "    operation='CREATE',\n",
    "    signers=alice.public_key,\n",
    "    recipients=[([bob.public_key], 20)],\n",
    "    asset=game_boy_token\n",
    ")\n",
    "\n",
    "# fulfill and send the transaction\n",
    "fulfilled_token_tx = bdb.transactions.fulfill(\n",
    "    prepared_token_tx,\n",
    "    private_keys=alice.private_key)\n",
    "sent_transfer_tx=bdb.transactions.send_commit(fulfilled_token_tx)\n",
    "\n",
    "print(sent_transfer_tx==fulfilled_token_tx)"
   ]
  },
  {
   "cell_type": "code",
   "execution_count": 4,
   "metadata": {},
   "outputs": [
    {
     "name": "stdout",
     "output_type": "stream",
     "text": [
      "{'asset': {'data': {'description': 'test'}}, 'id': 'b847a768e83f046c0344b4e5544b922fef43047dc9a03ea53273bcd24ca30f68', 'inputs': [{'fulfillment': 'pGSAIGUpVZ-w4W_qstyc57KMOPuD0momu-5HNhOb26auIoYAgUDIH5X2Tss5bnxfjakYS4xva-_Kq-edj-9vKyt-QFIN9pxTjsO17vsSz6GYaeLxUUosdsU_VzD37Z-1gENTc6kG', 'fulfills': None, 'owners_before': ['7otjZo8rp5LfNMkqDW8YRVoRfGxV4cHvumkiem667Hq1']}], 'metadata': None, 'operation': 'CREATE', 'outputs': [{'amount': '20', 'condition': {'details': {'public_key': 'FUoHxc9DoVt6GNCoKARrSS7UVnySuYQzoGyBTyA8cMtF', 'type': 'ed25519-sha-256'}, 'uri': 'ni:///sha-256;J4wbcouedBKlUEb0YW3usXCywOQBomtBkXWSVfW8hHA?fpt=ed25519-sha-256&cost=131072'}, 'public_keys': ['FUoHxc9DoVt6GNCoKARrSS7UVnySuYQzoGyBTyA8cMtF']}], 'version': '2.0'}\n",
      "FUoHxc9DoVt6GNCoKARrSS7UVnySuYQzoGyBTyA8cMtF\n"
     ]
    }
   ],
   "source": [
    "print(sent_transfer_tx)\n",
    "print(bob.public_key)"
   ]
  },
  {
   "cell_type": "code",
   "execution_count": 5,
   "metadata": {},
   "outputs": [
    {
     "data": {
      "text/plain": [
       "[{'transaction_id': 'b847a768e83f046c0344b4e5544b922fef43047dc9a03ea53273bcd24ca30f68',\n",
       "  'output_index': 0}]"
      ]
     },
     "execution_count": 5,
     "metadata": {},
     "output_type": "execute_result"
    }
   ],
   "source": [
    "import requests\n",
    "import json\n",
    "# 某人未消耗的输出\n",
    "payload = {'public_key': 'FUoHxc9DoVt6GNCoKARrSS7UVnySuYQzoGyBTyA8cMtF', 'spent': 'false'}\n",
    "r = requests.get(\"http://192.168.113.6:9984/api/v1/outputs\", params=payload)\n",
    "# r.url\n",
    "# r.text\n",
    "# print(r.json)  # 不能解码到body\n",
    "text = json.loads(r.text)\n",
    "text"
   ]
  }
 ],
 "metadata": {
  "kernelspec": {
   "display_name": "Python 3",
   "language": "python",
   "name": "python3"
  },
  "language_info": {
   "codemirror_mode": {
    "name": "ipython",
    "version": 3
   },
   "file_extension": ".py",
   "mimetype": "text/x-python",
   "name": "python",
   "nbconvert_exporter": "python",
   "pygments_lexer": "ipython3",
   "version": "3.7.1"
  }
 },
 "nbformat": 4,
 "nbformat_minor": 2
}
