{
 "cells": [
  {
   "cell_type": "code",
   "execution_count": 28,
   "metadata": {},
   "outputs": [],
   "source": [
    "from bigchaindb_driver import BigchainDB\n",
    "from bigchaindb_driver.crypto import generate_keypair\n",
    "bdb_root_url = 'http://localhost:9984'  # http\n",
    "bdb = BigchainDB(bdb_root_url)\n",
    "# 创建时间共享令牌\n",
    "bicycle_token = {\n",
    "    'data': {\n",
    "        'token_for': {\n",
    "            'bicycle': {\n",
    "                'serial_number': '101',\n",
    "                'maunfacturer': 'bkfab'\n",
    "            }\n",
    "        },\n",
    "        'description': '分时共享代币。每个代币代表１小时'\n",
    "    },\n",
    "}\n",
    "\n",
    "bob, carly = generate_keypair(), generate_keypair()\n",
    "# ｂｏｂ签发１０个代币分配给ｃａｒｌｙ\n",
    "prepared_token_tx = bdb.transactions.prepare(\n",
    "    operation='CREATE',\n",
    "    signers=bob.public_key,\n",
    "    # 使用元组表示ｃａｒｌｙ接受１０个令牌\n",
    "    recipients=[([carly.public_key], 10)],\n",
    "    asset=bicycle_token,\n",
    ")\n",
    "\n",
    "fulfilled_token_tx = bdb.transactions.fulfill(\n",
    "    prepared_token_tx, private_keys=bob.private_key\n",
    ")"
   ]
  },
  {
   "cell_type": "code",
   "execution_count": 29,
   "metadata": {},
   "outputs": [
    {
     "data": {
      "text/plain": [
       "True"
      ]
     },
     "execution_count": 29,
     "metadata": {},
     "output_type": "execute_result"
    }
   ],
   "source": [
    "# 发送交易\n",
    "sent_token_tx = bdb.transactions.send_commit(fulfilled_token_tx)\n",
    "sent_token_tx == fulfilled_token_tx"
   ]
  },
  {
   "cell_type": "code",
   "execution_count": 31,
   "metadata": {},
   "outputs": [
    {
     "data": {
      "text/plain": [
       "True"
      ]
     },
     "execution_count": 31,
     "metadata": {},
     "output_type": "execute_result"
    }
   ],
   "source": [
    "# bob是发行人，ｃａｒｌｙ是１０个令牌的拥有者\n",
    "fulfilled_token_tx['outputs'][0]['public_keys'][0] == carly.public_key"
   ]
  },
  {
   "cell_type": "code",
   "execution_count": 33,
   "metadata": {},
   "outputs": [
    {
     "data": {
      "text/plain": [
       "True"
      ]
     },
     "execution_count": 33,
     "metadata": {},
     "output_type": "execute_result"
    }
   ],
   "source": [
    "# 这里可用于查询个人代币余额\n",
    "fulfilled_token_tx['outputs'][0]['amount'] == '10'"
   ]
  },
  {
   "cell_type": "code",
   "execution_count": 35,
   "metadata": {},
   "outputs": [],
   "source": [
    "# ｃａｒｌｙ拥有１０个代币，花费两个。\n",
    "output_index = 0\n",
    "output = fulfilled_token_tx['outputs'][output_index]\n",
    "transfer_input = {\n",
    "    'fulfillment': output['condition']['details'],\n",
    "    'fulfills': {\n",
    "        'output_index': output_index,\n",
    "        'transaction_id': fulfilled_token_tx['id'],\n",
    "    },\n",
    "    'owners_before': output['public_keys'],\n",
    "}\n",
    "transfer_asset = {\n",
    "    'id': fulfilled_token_tx['id'],\n",
    "}\n",
    "prepared_transfer_tx = bdb.transactions.prepare(\n",
    "    operation='TRANSFER',\n",
    "    asset=transfer_asset,\n",
    "    inputs=transfer_input,\n",
    "    # 将２个代币转移给ｂｏｂ，将８个代币分配给自己，ｄｂ保证事务ｉｎｐｕｔ与ｏｕｔｐｕｔ相同\n",
    "    recipients=[([bob.public_key], 2), ([carly.public_key], 8)]\n",
    ")\n",
    "fulfilled_transfer_tx = bdb.transactions.fulfill(\n",
    "    prepared_transfer_tx, private_keys=carly.private_key\n",
    ")"
   ]
  },
  {
   "cell_type": "code",
   "execution_count": 38,
   "metadata": {},
   "outputs": [],
   "source": [
    "# 发送资产\n",
    "# sent_transfer_tx = bdb.transactions.send_commit(fulfilled_transfer_tx)\n",
    "# sent_transfer_tx == fulfilled_transfer_tx"
   ]
  },
  {
   "cell_type": "markdown",
   "metadata": {},
   "source": [
    "问题１：创建代币的时候并没有验证自行车是否可用？\n",
    "因为：在本例中未将自行车作为客观的资产，在ｂｉｇｃｈａｉｎ　ｄｂ中一切都是资产，本例也是一样，本例资产只是代币本身，所以该问题实际是权限问题，在ＲＢＡＣ中进行解决。\n",
    "\n",
    "问题２：双花问题，正如问题１说所，本体不存在客观资产。"
   ]
  }
 ],
 "metadata": {
  "kernelspec": {
   "display_name": "Python 3",
   "language": "python",
   "name": "python3"
  },
  "language_info": {
   "codemirror_mode": {
    "name": "ipython",
    "version": 3
   },
   "file_extension": ".py",
   "mimetype": "text/x-python",
   "name": "python",
   "nbconvert_exporter": "python",
   "pygments_lexer": "ipython3",
   "version": "3.7.0"
  }
 },
 "nbformat": 4,
 "nbformat_minor": 2
}
