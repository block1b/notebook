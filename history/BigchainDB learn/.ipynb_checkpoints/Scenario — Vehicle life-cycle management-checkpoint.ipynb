{
 "cells": [
  {
   "cell_type": "markdown",
   "metadata": {},
   "source": [
    "# RBAC案例\n",
    "车辆生命周期管理，扩展的汽车销售情景"
   ]
  },
  {
   "cell_type": "markdown",
   "metadata": {},
   "source": [
    "***"
   ]
  },
  {
   "cell_type": "markdown",
   "metadata": {},
   "source": [
    "成员\n",
    "\n",
    "1. Dealer——销售\n",
    "2. Owner——购买并拥有车辆\n",
    "3. Police——报告车辆事故\n",
    "\n",
    "实体\n",
    "\n",
    "1. Vehicle 车辆\n",
    "2. Incident　事故\n",
    "\n",
    "**权限**——只有销售可以 create vehicle,只有police可以　create incident.\n",
    "\n",
    "所以创建初始资产app 包含以下 types\n",
    "\n",
    "1. Admin\n",
    "2. Dealer\n",
    "3. Owner\n",
    "4. Vehicle\n",
    "5. Incident\n",
    "6. Police\n",
    "\n",
    "如图：\n",
    "![a](types_link_app.png)\n",
    "\n"
   ]
  },
  {
   "cell_type": "markdown",
   "metadata": {},
   "source": [
    "1. 创建Admin type(id:1111),作为管理员组，`namespace:ipdb.vehiclemanagement.admin`\n",
    "2. 之后，创建App asset(id:1234),`namespace:ipdb.vehiclemanagement`,设置`metadata.can_link:1111`.这可以使用户中`link:1111`,即链接到Admin type的用户拥有create　types的权限，即有授权给用户的权限\n",
    "3. 创建一个Admin实例，只要使`link:1111`,这个实例的public key成为这个app的管理员。\n",
    "4. 通过管理员的密钥对，可以创建其它的type asset如销售，警察，车辆，事故，拥有者和所有在step2中创建的App asset。在创建车辆type前创建销售type,这样可以在创建车辆时将销售添加至`can_link`，警察与事故同理。（实现了定义的权限）\n",
    "5. 在事故类型的实例中，可以在`asset.data`中设置属性`parent`值为相关的车辆类型实例id，将事故紧密的耦合到车辆上。\n",
    "6. 以此定义了各种类型实例admin.the app,the types and permissions.\n"
   ]
  },
  {
   "cell_type": "markdown",
   "metadata": {},
   "source": [
    "The tree structure App -> Type -> Instance can be further extended to any depth by extending the server side validation logic. (这个层次结构可以通过扩展server验证逻辑进一步扩展到任何深度)\n",
    "\n",
    "**Note**: The RBAC solution described here only restricts write (CREATE and TRANSFER) access on assets. It does not restrict read access.（这个RBAC解决方案只限制了对资产的写访问，未限制读）"
   ]
  }
 ],
 "metadata": {
  "kernelspec": {
   "display_name": "Python 3",
   "language": "python",
   "name": "python3"
  },
  "language_info": {
   "codemirror_mode": {
    "name": "ipython",
    "version": 3
   },
   "file_extension": ".py",
   "mimetype": "text/x-python",
   "name": "python",
   "nbconvert_exporter": "python",
   "pygments_lexer": "ipython3",
   "version": "3.7.0"
  }
 },
 "nbformat": 4,
 "nbformat_minor": 2
}
