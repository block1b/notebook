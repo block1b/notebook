{
 "cells": [
  {
   "cell_type": "code",
   "execution_count": 20,
   "metadata": {},
   "outputs": [
    {
     "name": "stdout",
     "output_type": "stream",
     "text": [
      "<bigchaindb_driver.driver.BigchainDB object at 0x7f8cb01e3438>\n",
      "{'inputs': [{'owners_before': ['C2pA8L6y9pFu9vNJyfvNVPbgVHz2WBp4GnXBq5z5vADN'], 'fulfills': None, 'fulfillment': 'pGSAIKPndT6QqUOIOiT9z7FGPvAsNymgChtqVSLaCkonG8s5gUDCSEH1B4At_8QIHWcmgNmlpstSk107pm-jueNqp9yLvn1UTpz4IEZ8ZgTeed9_EiYOW2b6S-_xUGe-UY7GbfUF'}], 'outputs': [{'public_keys': ['C2pA8L6y9pFu9vNJyfvNVPbgVHz2WBp4GnXBq5z5vADN'], 'condition': {'details': {'type': 'ed25519-sha-256', 'public_key': 'C2pA8L6y9pFu9vNJyfvNVPbgVHz2WBp4GnXBq5z5vADN'}, 'uri': 'ni:///sha-256;HE_8hFiu8DqLj6olqN9aAEZiFnmhDM43xEoAsOIEjOM?fpt=ed25519-sha-256&cost=131072'}, 'amount': '1'}], 'operation': 'CREATE', 'metadata': {'planet': 'earth'}, 'asset': {'data': {'bicycle': {'serial_number': 'abcd1234', 'manufacturer': 'bkfab'}}}, 'version': '2.0', 'id': 'c430da7c09b2a6fa9676d243f4b822d23301e39c7e91cf5807347c17dbac1ca2'}\n",
      "True\n"
     ]
    }
   ],
   "source": [
    "from bigchaindb_driver import BigchainDB\n",
    "bdb_root_url = 'http://localhost:9984'  # http\n",
    "bdb = BigchainDB(bdb_root_url)\n",
    "print(bdb)\n",
    "\n",
    "bicycle = {\n",
    "    'data': {\n",
    "        'bicycle': {\n",
    "            'serial_number': 'abcd1234',\n",
    "            'manufacturer': '1号自行车',\n",
    "        },\n",
    "    },\n",
    "}\n",
    "\n",
    "metadata = {'planet': 'earth'}\n",
    "\n",
    "from bigchaindb_driver.crypto import generate_keypair\n",
    "alice, bob = generate_keypair(), generate_keypair()\n",
    "\n",
    "prepared_creation_tx = bdb.transactions.prepare(\n",
    "    operation='CREATE',\n",
    "    signers=alice.public_key,\n",
    "    asset=bicycle,\n",
    "    metadata=metadata,\n",
    ")\n",
    "\n",
    "# print(prepared_creation_tx)\n",
    "\n",
    "fulfilled_creation_tx = bdb.transactions.fulfill(prepared_creation_tx, private_keys=alice.private_key)\n",
    "print(fulfilled_creation_tx)\n",
    "\n",
    "# send to bigchaindb node\n",
    "sent_creation_tx = bdb.transactions.send_commit(fulfilled_creation_tx)\n",
    "print(sent_creation_tx == fulfilled_creation_tx)\n"
   ]
  },
  {
   "cell_type": "code",
   "execution_count": 19,
   "metadata": {},
   "outputs": [
    {
     "name": "stdout",
     "output_type": "stream",
     "text": [
      "f5ca7b7f71d15f535178f0b1ae3278480e81a2f9332d55211b0eb48e914828c4\n",
      "852\n",
      "True\n",
      "True\n"
     ]
    }
   ],
   "source": [
    "# 交易id\n",
    "txid = fulfilled_creation_tx['id']\n",
    "print(txid)\n",
    "\n",
    "# 检查交易是否成功发送（是否在区块（block）中）,返回事务区块高度\n",
    "block_height = bdb.blocks.get(txid=txid)\n",
    "print(block_height)\n",
    "# 如果事务不在任何区块中，返回None，也可能有其他原因如事务无效，仍在队列中\n",
    "\n",
    "# 通过快高度检索整个块\n",
    "block = bdb.blocks.retrieve(str(block_height))\n",
    "# print(block)\n",
    "\n",
    "# 资产转移\n",
    "# 检索交易，通过txid,等价fulfilled_creation_tx\n",
    "creation_tx = bdb.transactions.retrieve(txid)\n",
    "\n",
    "issame2 = (creation_tx == fulfilled_creation_tx)\n",
    "print(issame2)\n",
    "\n",
    "# 待转移的资产id\n",
    "assert_id = creation_tx['id']\n",
    "transfer_asset = {\n",
    "    'id': assert_id,\n",
    "}\n",
    "\n",
    "# 准备转移交易\n",
    "output_index = 0\n",
    "output = creation_tx['outputs'][output_index]\n",
    "transfer_input = {\n",
    "    'fulfillment': output['condition']['details'],\n",
    "    'fulfills': {\n",
    "        'output_index': output_index,\n",
    "        'transaction_id': creation_tx['id'],\n",
    "    },\n",
    "    'owners_before': output['public_keys'],\n",
    "}\n",
    "\n",
    "prepared_transfer_tx = bdb.transactions.prepare(\n",
    "    operation='TRANSFER',\n",
    "    asset=transfer_asset,\n",
    "    inputs=transfer_input,\n",
    "    recipients=bob.public_key,\n",
    ")\n",
    "\n",
    "# 实现资产转移\n",
    "fulfilled_transfer_tx = bdb.transactions.fulfill(\n",
    "    prepared_transfer_tx,\n",
    "    private_keys=alice.private_key,\n",
    ")\n",
    "\n",
    "# 讲交易发送至db节点\n",
    "sent_transfer_tx = bdb.transactions.send_commit(fulfilled_transfer_tx)\n",
    "\n",
    "isSame3 = (sent_transfer_tx == fulfilled_transfer_tx)\n",
    "print(isSame3)"
   ]
  }
 ],
 "metadata": {
  "kernelspec": {
   "display_name": "Python 3",
   "language": "python",
   "name": "python3"
  },
  "language_info": {
   "codemirror_mode": {
    "name": "ipython",
    "version": 3
   },
   "file_extension": ".py",
   "mimetype": "text/x-python",
   "name": "python",
   "nbconvert_exporter": "python",
   "pygments_lexer": "ipython3",
   "version": "3.7.0"
  }
 },
 "nbformat": 4,
 "nbformat_minor": 2
}
