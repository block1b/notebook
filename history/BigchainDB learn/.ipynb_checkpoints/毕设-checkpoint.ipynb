{
 "cells": [
  {
   "cell_type": "markdown",
   "metadata": {},
   "source": [
    "# 毕设题目：基于区块链的设备分时共享系统\n",
    "\n",
    "人话就是，租赁设备。\n",
    "```\n",
    "卖点：基于区块链，所以区块链有的特性都带上，主要是去中心化，不可修改。\n",
    "组件：ＢｉｇｃｈａｉｎＤＢ相关，ｆｌａｓｋ\n",
    "技术点：\n",
    "    ＢｉｇｃｈａｉｎDB server install\n",
    "    manage server:\n",
    "        db driver\n",
    "        ＲＢＡＣ\n",
    "        Ｔｏｋｅｎ\n",
    "        Double Spends\n",
    "    flask:\n",
    "        web\n",
    "```\n",
    "额ｓｅｒｖｅｒ里边需要做的是　权限，代币，双花.自动分发代币这个还是用ｌｏｇｉｃ做好了。"
   ]
  },
  {
   "cell_type": "markdown",
   "metadata": {},
   "source": [
    "需求：角色权限，资产锁定，代币（分发，消费）较真的情景，还有代币失效和赎回。\n",
    "代币有几个待探索的问题，代币分发逻辑（自动），代币的转移逻辑，代币查询，代币分发情况查询，实物的双花问题。"
   ]
  }
 ],
 "metadata": {
  "kernelspec": {
   "display_name": "Python 3",
   "language": "python",
   "name": "python3"
  },
  "language_info": {
   "codemirror_mode": {
    "name": "ipython",
    "version": 3
   },
   "file_extension": ".py",
   "mimetype": "text/x-python",
   "name": "python",
   "nbconvert_exporter": "python",
   "pygments_lexer": "ipython3",
   "version": "3.7.0"
  }
 },
 "nbformat": 4,
 "nbformat_minor": 2
}
