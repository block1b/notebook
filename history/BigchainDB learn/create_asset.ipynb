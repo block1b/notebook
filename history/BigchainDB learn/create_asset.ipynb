{
 "cells": [
  {
   "cell_type": "markdown",
   "metadata": {},
   "source": [
    "# 创建资产"
   ]
  },
  {
   "cell_type": "code",
   "execution_count": 1,
   "metadata": {},
   "outputs": [
    {
     "name": "stdout",
     "output_type": "stream",
     "text": [
      "<bigchaindb_driver.driver.BigchainDB object at 0x7fb0fd167b70>\n"
     ]
    },
    {
     "ename": "AttributeError",
     "evalue": "'str' object has no attribute 'decode'",
     "output_type": "error",
     "traceback": [
      "\u001b[0;31m---------------------------------------------------------------------------\u001b[0m",
      "\u001b[0;31mAttributeError\u001b[0m                            Traceback (most recent call last)",
      "\u001b[0;32m<ipython-input-1-daf8853436d3>\u001b[0m in \u001b[0;36m<module>\u001b[0;34m\u001b[0m\n\u001b[1;32m     17\u001b[0m \u001b[0;34m\u001b[0m\u001b[0m\n\u001b[1;32m     18\u001b[0m \u001b[0;32mfrom\u001b[0m \u001b[0mbigchaindb_driver\u001b[0m\u001b[0;34m.\u001b[0m\u001b[0mcrypto\u001b[0m \u001b[0;32mimport\u001b[0m \u001b[0mgenerate_keypair\u001b[0m\u001b[0;34m\u001b[0m\u001b[0;34m\u001b[0m\u001b[0m\n\u001b[0;32m---> 19\u001b[0;31m \u001b[0malice\u001b[0m\u001b[0;34m,\u001b[0m \u001b[0mbob\u001b[0m \u001b[0;34m=\u001b[0m \u001b[0mgenerate_keypair\u001b[0m\u001b[0;34m(\u001b[0m\u001b[0;34m)\u001b[0m\u001b[0;34m,\u001b[0m \u001b[0mgenerate_keypair\u001b[0m\u001b[0;34m(\u001b[0m\u001b[0;34m)\u001b[0m\u001b[0;34m\u001b[0m\u001b[0;34m\u001b[0m\u001b[0m\n\u001b[0m\u001b[1;32m     20\u001b[0m \u001b[0;34m\u001b[0m\u001b[0m\n\u001b[1;32m     21\u001b[0m prepared_creation_tx = bdb.transactions.prepare(\n",
      "\u001b[0;32m/opt/conda/lib/python3.7/site-packages/bigchaindb_driver/crypto.py\u001b[0m in \u001b[0;36mgenerate_keypair\u001b[0;34m(seed)\u001b[0m\n\u001b[1;32m     25\u001b[0m     \"\"\"\n\u001b[1;32m     26\u001b[0m     return CryptoKeypair(\n\u001b[0;32m---> 27\u001b[0;31m         *(k.decode() for k in crypto.ed25519_generate_key_pair(seed)))\n\u001b[0m",
      "\u001b[0;32m/opt/conda/lib/python3.7/site-packages/bigchaindb_driver/crypto.py\u001b[0m in \u001b[0;36m<genexpr>\u001b[0;34m(.0)\u001b[0m\n\u001b[1;32m     25\u001b[0m     \"\"\"\n\u001b[1;32m     26\u001b[0m     return CryptoKeypair(\n\u001b[0;32m---> 27\u001b[0;31m         *(k.decode() for k in crypto.ed25519_generate_key_pair(seed)))\n\u001b[0m",
      "\u001b[0;31mAttributeError\u001b[0m: 'str' object has no attribute 'decode'"
     ]
    }
   ],
   "source": [
    "\n",
    "from bigchaindb_driver import BigchainDB\n",
    "bdb_root_url = 'http://192.168.1.108:9984'  # http\n",
    "bdb = BigchainDB(bdb_root_url)\n",
    "print(bdb)\n",
    "\n",
    "bicycle = {\n",
    "    'data': {\n",
    "        'bicycle': {\n",
    "            'serial_number': 'abcd1234',\n",
    "            'manufacturer': '1号自行车',\n",
    "        },\n",
    "    },\n",
    "}\n",
    "\n",
    "metadata = {'planet': 'earth'}\n",
    "\n",
    "from bigchaindb_driver.crypto import generate_keypair\n",
    "alice, bob = generate_keypair(), generate_keypair()\n",
    "\n",
    "prepared_creation_tx = bdb.transactions.prepare(\n",
    "    operation='CREATE',\n",
    "    signers=alice.public_key,\n",
    "    asset=bicycle,\n",
    "    metadata=metadata,\n",
    ")\n",
    "\n",
    "# print(prepared_creation_tx)\n",
    "\n",
    "fulfilled_creation_tx = bdb.transactions.fulfill(prepared_creation_tx, private_keys=alice.private_key)\n",
    "print(fulfilled_creation_tx)\n",
    "\n",
    "# send to bigchaindb node\n",
    "sent_creation_tx = bdb.transactions.send_commit(fulfilled_creation_tx)\n",
    "print(sent_creation_tx == fulfilled_creation_tx)\n"
   ]
  },
  {
   "cell_type": "markdown",
   "metadata": {},
   "source": [
    "# 交易"
   ]
  },
  {
   "cell_type": "code",
   "execution_count": 27,
   "metadata": {},
   "outputs": [
    {
     "name": "stdout",
     "output_type": "stream",
     "text": [
      "7a09efe754476dc7934011710b63400331aa9fbd59c2617333c80edda0555e6b\n",
      "868\n",
      "True\n",
      "True\n"
     ]
    }
   ],
   "source": [
    "# 交易id\n",
    "txid = fulfilled_creation_tx['id']\n",
    "print(txid)\n",
    "\n",
    "# 检查交易是否成功发送（是否在区块（block）中）,返回事务区块高度\n",
    "block_height = bdb.blocks.get(txid=txid)\n",
    "print(block_height)\n",
    "# 如果事务不在任何区块中，返回None，也可能有其他原因如事务无效，仍在队列中\n",
    "\n",
    "# 通过快高度检索整个块\n",
    "block = bdb.blocks.retrieve(str(block_height))\n",
    "# print(block)\n",
    "\n",
    "# 资产转移\n",
    "# 检索交易，通过txid,等价fulfilled_creation_tx\n",
    "creation_tx = bdb.transactions.retrieve(txid)\n",
    "\n",
    "issame2 = (creation_tx == fulfilled_creation_tx)\n",
    "print(issame2)\n",
    "\n",
    "# 待转移的资产id\n",
    "assert_id = creation_tx['id']\n",
    "transfer_asset = {\n",
    "    'id': assert_id,\n",
    "}\n",
    "\n",
    "# 准备转移交易\n",
    "output_index = 0\n",
    "output = creation_tx['outputs'][output_index]\n",
    "transfer_input = {\n",
    "    'fulfillment': output['condition']['details'],\n",
    "    'fulfills': {\n",
    "        'output_index': output_index,\n",
    "        'transaction_id': creation_tx['id'],\n",
    "    },\n",
    "    'owners_before': output['public_keys'],\n",
    "}\n",
    "\n",
    "prepared_transfer_tx = bdb.transactions.prepare(\n",
    "    operation='TRANSFER',\n",
    "    asset=transfer_asset,\n",
    "    inputs=transfer_input,\n",
    "    recipients=bob.public_key,\n",
    ")\n",
    "\n",
    "# 实现资产转移\n",
    "fulfilled_transfer_tx = bdb.transactions.fulfill(\n",
    "    prepared_transfer_tx,\n",
    "    private_keys=alice.private_key,\n",
    ")\n",
    "\n",
    "# 讲交易发送至db节点\n",
    "sent_transfer_tx = bdb.transactions.send_commit(fulfilled_transfer_tx)\n",
    "\n",
    "isSame3 = (sent_transfer_tx == fulfilled_transfer_tx)\n",
    "print(isSame3)"
   ]
  }
 ],
 "metadata": {
  "kernelspec": {
   "display_name": "Python 3",
   "language": "python",
   "name": "python3"
  },
  "language_info": {
   "codemirror_mode": {
    "name": "ipython",
    "version": 3
   },
   "file_extension": ".py",
   "mimetype": "text/x-python",
   "name": "python",
   "nbconvert_exporter": "python",
   "pygments_lexer": "ipython3",
   "version": "3.7.1"
  }
 },
 "nbformat": 4,
 "nbformat_minor": 2
}
