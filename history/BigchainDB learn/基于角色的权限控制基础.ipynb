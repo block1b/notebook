{
 "cells": [
  {
   "cell_type": "markdown",
   "metadata": {},
   "source": [
    "# 基于角色的权限控制 RBAC入门"
   ]
  },
  {
   "cell_type": "markdown",
   "metadata": {},
   "source": [
    "如果使用ｄｂ内置支持需注意`bigchaindb RBAC模块在bigchaindb中没有开箱即用，需要使用kyber-master分支，加载smart asset插件`\n",
    "\n",
    "另一种方法是在ｓｅｒｖｅｒ端设置验证，感觉更灵活一些。"
   ]
  },
  {
   "cell_type": "markdown",
   "metadata": {},
   "source": [
    "# 一切都是资产\n",
    "角色，权限，资源，用户都可以视为资产\n",
    "\n",
    "## ａｐｐ结构和资产等级\n",
    "通过资产层次结构用于为用户提供不同资源\n",
    "\n",
    "## ｌｉｎｋ\n",
    "定义资产间的父子关系\n",
    "\n",
    "１.创建父资产，`父ｉｄ为ＣＲＥＡＴＥ事务ｉｄ`\n",
    "\n",
    "２.父资产为层次结构中顶层资产，父资产ｉｄ作为`ａｐｐ　ｉｄ`\n",
    "\n",
    "３.在子资产中定义新的保留属性　`ｌｉｎｋ：父资产ｉｄ`，从而定义了资产的父子关系。\n",
    "\n",
    "例："
   ]
  },
  {
   "cell_type": "raw",
   "metadata": {},
   "source": [
    "“asset”：{ \n",
    "“link”：“1007bb1ce8b258599c3deec810bf16424ea92be62f186c8aab42f1cf5165767d” \n",
    "}"
   ]
  },
  {
   "cell_type": "markdown",
   "metadata": {},
   "source": [
    "## App,Types,Instance实例\n",
    "ａｐｐ由ｄｂ中的ａｓｓｅｔ表示,位于顶层层级,ａｐｐ有types作为子,ｔｙｐｅｓ有ｉｎｓｔａｎｃｅ.\n",
    "他们实质都是ｄｂ的 asset.types　ｌｉｎｋ　ｔｏ　ａｐｐ,ｉｎｓｔａｎｃｅｓ　ｌｉｎｋ to 各自的ｔｙｐｅｓ.\n",
    "\n",
    "ｔｙｐｅｓ 就像ＯＯ　ｓｙｓｔｅｍ（面向对象系统）中的类.他也是唯一ｌｉｎｋ到ａｐｐ的ａｓｓｅｔ.\n",
    "典型实例：ｒｏｌｅ，users，message,（以及在场景中可以有多个实例的任何事物，车辆，报告等）.\n",
    "\n",
    "ｉｎｓｔａｎｃｅ是待表一种单个实体类型的对象.例如:与ａｐｐ交互的用户都有为他们创建的ａｓｓｅｔ,\n",
    "这种ａｓｓｅｔ　ｌｉｎｋｓ to 用户的　ｔｙｐｅ　ａｓｓｅｔ.本质上,每个物理用户都有一个与之关联的用户类型实例.\n",
    "例子,一个物联网设备会有一个ａｓｓｅｔ代表它,在系统中，这个ａｓｓｅｔ会被连接到各自的父类型,如设备,事物等.\n",
    "\n",
    "ｎａｍｅｓｐａｃｅ（ｎｓ）是另一个添加到ａｓｓｅｔ.data的属性，用于方便查找特定类型的资产,在ｄｂ中.\n",
    "ａｐｐ　ａｓｓｅｔ定义ｒｏｏｔ接口,附加ｔｙｐｅｓ到ａｐｐ.非常相似的.ｎｅｔ　ｎｓ　在文件名添加子命名空间.\n",
    "在这个ＲＢＡＣ设置中,使用ｎｓ属性作为ｔｅｘｔ参数查找特定类型的资产.\n",
    "\n",
    "如下层次结构："
   ]
  },
  {
   "cell_type": "markdown",
   "metadata": {},
   "source": [
    "## 1. App"
   ]
  },
  {
   "cell_type": "raw",
   "metadata": {},
   "source": [
    "{\n",
    " “asset”: {\n",
    " “ns”: “ipdb.testapp”\n",
    " },\n",
    " “id”: “1007bb1ce8b258599c3deec810bf16424ea92be62f186c8aab42f1cf5165767d”\n",
    "}"
   ]
  },
  {
   "cell_type": "markdown",
   "metadata": {},
   "source": [
    "## 2. Types"
   ]
  },
  {
   "cell_type": "raw",
   "metadata": {},
   "source": [
    "{\n",
    " “asset”: {\n",
    " “ns”: “ipdb.testapp.admin”,\n",
    " “link”: “1007bb1ce8b258599c3deec810bf16424ea92be62f186c8aab42f1cf5165767d”\n",
    " },\n",
    " “id”: “4d051f1802337236a28424f57ddddcf2ca116fd7fea4b1883922b288fb245cf5”\n",
    "}\n",
    "\n",
    "{\n",
    " “asset”: {\n",
    " “ns”: “ipdb.testapp.vehicle”,\n",
    " “link”: “1007bb1ce8b258599c3deec810bf16424ea92be62f186c8aab42f1cf5165767d”\n",
    " },\n",
    " “id”: “8b10e51f1b9c04498d4b310cc31cb7e30f53243294c299b82b116dfba48ee74a”\n",
    "}"
   ]
  },
  {
   "cell_type": "markdown",
   "metadata": {},
   "source": [
    "## 3. Instances"
   ]
  },
  {
   "cell_type": "raw",
   "metadata": {},
   "source": [
    "{\n",
    " “asset”: {\n",
    " “ns”: “ipdb.testapp.admin”,\n",
    " “link”: “4d051f1802337236a28424f57ddddcf2ca116fd7fea4b1883922b288fb245cf5”\n",
    " },\n",
    " “id”: “3010a83bc17f9943b5c22a2708c147c49684845b69f1704a0c3dab56835b82d2”\n",
    "}\n",
    "\n",
    "{\n",
    " “asset”: {\n",
    " “ns”: “ipdb.testapp.vehicle”,\n",
    " “link”: “8b10e51f1b9c04498d4b310cc31cb7e30f53243294c299b82b116dfba48ee74a”\n",
    " },\n",
    " “id”: “4c1ab088b00f7fed43b3e46dc20fb63f03133d3be8f4b69f663b5d8961dcf777”\n",
    "}"
   ]
  },
  {
   "cell_type": "markdown",
   "metadata": {},
   "source": [
    "```\n",
    "Note:\n",
    "app{ns,id:create id} \n",
    "types{ns,link:app.id,id} \n",
    "instances(ns,link:type.id,id)\n",
    "```"
   ]
  },
  {
   "cell_type": "markdown",
   "metadata": {},
   "source": [
    "# Permissions 权限\n",
    "\n",
    "## 现在已经定义了层次结构，问题变为谁有权限link asset？现在需要在asset中定义两个类型的权限。\n",
    "\n",
    "1.向系统中添加新资源的权限－如新用户，新设备，new instance of a type.\n",
    "\n",
    "2.对资源执行动作的权限"
   ]
  },
  {
   "cell_type": "markdown",
   "metadata": {},
   "source": [
    "## To implement permissions\n",
    "\n",
    "1.添加属性 can_link 到　transaction　的　metdata 中。值是公钥列表或代表用户types的asset id（代表admin group）.\n",
    "\n",
    "2.在ｄｂ中添加一些服务端验证，以读取can_link属性，验证创建link链接资产的用户公钥是否在允许列表中，或在其钱包中是否只有资产链接到list中的资产ｉｄ。验证通过则记录交易。\n",
    "\n",
    "样例："
   ]
  },
  {
   "cell_type": "markdown",
   "metadata": {},
   "source": [
    "## 1. As a list of public keys"
   ]
  },
  {
   "cell_type": "raw",
   "metadata": {},
   "source": [
    " “metadata”: {\n",
    " “can_link”: [“CLUaowKR8U3WmCyS6fvXLnxgn9wXCyaGySiYVD6yffQF, BChSACLnA3xcdAt9tpZgwiv8RwdwEN7syYaifqRguUbV”]\n",
    " }"
   ]
  },
  {
   "cell_type": "markdown",
   "metadata": {},
   "source": [
    "## 2. As the asset id of a user type"
   ]
  },
  {
   "cell_type": "raw",
   "metadata": {},
   "source": [
    "“metadata”: {\n",
    " “can_link”: “8b10e51f1b9c04498d4b310cc31cb7e30f53243294c299b82b116dfba48ee74a”\n",
    " }"
   ]
  },
  {
   "cell_type": "markdown",
   "metadata": {},
   "source": [
    "## And, here’s the pseudo code for validation on server side:"
   ]
  },
  {
   "cell_type": "raw",
   "metadata": {},
   "source": [
    "if transaction.operation == CREATE and transaction.asset.data.link is not null\n",
    " linked_transaction = get_transaction(transaction.asset.data.link)\n",
    "if user.publicKey exists in \n",
    "linked_transaction.metadata.can_link list\n",
    " pass\n",
    "if user has a asset A such that\n",
    "A.asset.data.link exists in linked_transaction.metadata.can_link list\n",
    " pass\n",
    "else\n",
    " throw authorization error"
   ]
  },
  {
   "cell_type": "markdown",
   "metadata": {},
   "source": [
    "现在只对有　link　属性的ａｓｓｅｔ强制执行验证。如果这个资产没有与其他资产链接，不会强制执行次验证，并且无需进一步检查即可创建资产。\n",
    "\n",
    "作者已将故意将　can_link　保存在 metada 中,所以可以使用　TRANSFER 交易添加这个　key　的值，而且可以读最新的值，用于在未来更新这个权限。\n",
    "\n",
    "第二个设置权限的方式是使用ｄｂ的内置支持crypto-conditions强制执行。\n",
    "不知道这句翻译的对不对，放原文：\n",
    "The second set of permissions to act on an asset (TRANSFER) can be enforced using BigchainDB’s inbuilt support for crypto-conditions and is self-explanatory.\n",
    "不过这个内置的不在主分支，不能开箱即用。"
   ]
  },
  {
   "cell_type": "markdown",
   "metadata": {},
   "source": [
    "# Putting it all together\n",
    " do RBAC on BigchainDB assets　\n",
    " 使用服务端的权限验证，就不用内置的支持了。\n",
    " For example: \n",
    " [Scenario — Vehicle life-cycle management](http://localhost:8888/notebooks/my_python/notebook_demo/Scenario%E2%80%8A%E2%80%94%E2%80%8AVehicle%20life-cycle%20management.ipynb)"
   ]
  },
  {
   "cell_type": "markdown",
   "metadata": {},
   "source": [
    "２０１８／１２／１３"
   ]
  }
 ],
 "metadata": {
  "kernelspec": {
   "display_name": "Python 3",
   "language": "python",
   "name": "python3"
  },
  "language_info": {
   "codemirror_mode": {
    "name": "ipython",
    "version": 3
   },
   "file_extension": ".py",
   "mimetype": "text/x-python",
   "name": "python",
   "nbconvert_exporter": "python",
   "pygments_lexer": "ipython3",
   "version": "3.7.1"
  }
 },
 "nbformat": 4,
 "nbformat_minor": 2
}
