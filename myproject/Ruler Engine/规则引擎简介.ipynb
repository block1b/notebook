{
 "cells": [
  {
   "cell_type": "markdown",
   "metadata": {},
   "source": [
    "# [规则引擎简介](https://www.biaodianfu.com/rules-engine.html)\n",
    "\n",
    "规则无处不在。法律、法规和各种制度均是；对于企业级应用来说，在IT技术领域，很多地方也应用了规则，比如路由表，防火墙策略，乃至角色权限控制(RBAC)，或者Web框架中的URL匹配。不管是那种规则，都规定了一组确定的条件和此条件所产生的结果。\n",
    "\n",
    "1. 每条规则都是一组条件决定的一系列结果\n",
    "2. 一条规则可能与其他规则共同决定最终结果。比如例子中的规则只产生了增量，还需要与确定基数的规则共同作用才能决定最终的费率\n",
    "3. 可能存在条件互相交叉的规则，此时有必要规定规则的优先级\n",
    "\n",
    "根据实际情况和规则得出结论，规则的运用过程叫做推理，有程序实现，程序就叫做推理机/推理引擎。\n",
    "推理引擎根据根据知识表示的不同采取的控制策略也是不同的，常见的 基于神经网络、基于案例、基于规则 的推理机。\n",
    "基于规则的推理机易理解、易获取、易管理，被广泛采用。被称为“规则引擎”。\n"
   ]
  },
  {
   "cell_type": "markdown",
   "metadata": {},
   "source": [
    "规则引擎起源于基于郭泽的专家系统，是专家系统的一部分。专家系统属于人工只能范畴，它模仿人类的推理方式，使用试探性的方法进行推理。\n",
    "\n",
    "基于规则的专家系统（RBES）包括 三部分：Rule Base(knowwledge base)、Working Memory(fact base)和Interence Engine。\n",
    "\n",
    "![RBES基于规则的专家系统](./rbes.jpg)"
   ]
  },
  {
   "cell_type": "markdown",
   "metadata": {},
   "source": [
    "( •̀ ω •́ )y决定不搬运了，就随便记点笔记好了"
   ]
  },
  {
   "cell_type": "markdown",
   "metadata": {},
   "source": [
    "正向推理：演绎法\n",
    "反向推理：归纳法\n",
    "\n",
    "将事实与规则进行匹配的算法。常见的模式匹配算法有RETE,LFA,TREAI,LEAPS。Rete算法是目前效率最高的一个演绎法推理算法，许多规则引擎都是基于Rete算法来进行推理计算的。\n",
    "\n",
    "推理引擎的推理步骤如下：模式匹配、冲突消解、执行引擎。\n",
    "\n",
    "1. 将初始数据（fact）输入 Working Memory 。使用 Pattern Matcher 比较规则库（rule base）中的规则（rule）和数据（fact）。\n",
    "2. 如果执行规则存在冲突（conflict），即同时激活了多个规则，将冲突的规则放入冲突集合。\n",
    "3. 解决冲突，将激活的规则按顺序放入Agenda。\n",
    "4. 使用执行引擎执行Agenda中的规则。重复步骤2至5，直到执行完毕所有Agenda中的规则。\n",
    "\n",
    "规则引擎的作用：\n",
    "\n",
    "1. 规则外部化，即有利于规则知识的复用，也可避免改变规则时带来的代码变更问题\n",
    "2. 由规则引擎使用某种算法进行推理过程，不需要编写复杂晦涩的逻辑判断代码\n",
    "3. 开发人员的不需要过多关注逻辑判断，可以专注于逻辑处理"
   ]
  },
  {
   "cell_type": "markdown",
   "metadata": {},
   "source": [
    "RETE算法可以分为两部分：规则编译（rule compilation）和运行时执行（runtime execution）。规则编译是指根据规则集生成推理网络的过程，运行时执行指将数据送入推理网络进行筛选的过程。\n",
    "\n",
    "相关概念：\n",
    "\n",
    "1. 事实（Fact）：对象之间及对象属性之间的关系\n",
    "2. 规则（rule）：是由条件和结论构成的推理语句，一般表示为if…Then。一个规则的if部分称为LHS（left-hand-side），then部分称为RHS（right hand side）。\n",
    "3. 模式（module）：就是指IF语句的条件。这里IF条件可能是有几个更小的条件组成的大条件。模式就是指的不能在继续分割下去的最小的原子条件。\n",
    "\n",
    "RETE推理网络的生成过程：从规则集{规则1，规则2……..}中拿出一条来，根据一定算法，变成RETE推理网络的节点。不断循环将所有规则都处理完，RETE推理网络就生成了。RETE网络主要分为两个部分，alpha网络和beta网络。\n",
    "\n",
    "![RETE网络](./rete.png)\n",
    "\n",
    "1. alpha网络：过滤working memory，找出符合规则中每一个模式的集合，生成alpha memory（满足该模式的集合）。有两种类型的节点，过滤type的节点和其他条件过滤的节点（我觉得这两种是依照需要设定的，也并不一定需要两种节点）。\n",
    "2. Beta网络：有两种类型的节点Beta Memory和Join Node。前者主要存储Join完成后的集合。后者包含两个输入口，分别输入需要匹配的两个集合，由Join节点做合并工作传输给下一个节点。"
   ]
  },
  {
   "cell_type": "markdown",
   "metadata": {},
   "source": [
    "在一个产生式系统中，主要流程可以分为以下步骤：\n",
    "\n",
    "1. Match：找出符合LHS部分的working memory集合\n",
    "2. Confilict resolution：选出一个条件被满足的规则\n",
    "3. Act：执行RHS的内容\n",
    "4. 返回1\n",
    "\n",
    "RETE算法主要改进Match的处理过程，通过构建一个网络进行匹配。\n",
    "\n",
    "具体过程如下：\n",
    "\n",
    "1. 创建root节点（根节点），推理网络的入口。\n",
    "2. 拿到规则1，从规则1中取出模式1（前面说了，模式就是最小的原子条件，所以规则模式的关系是1：n）。\n",
    "\n",
    "        a)   检查模式1中的参数类型，如果是新类型，添加一个类型节点。\n",
    "        b)   检查模式1对应的Alpha节点是否存在，如果存在记录下节点的位置；如果没有，将模式1作为一个Alpha节点加入到网络中。同时根据Alpha节点建立Alpah内存表。\n",
    "        c)   重复b，直到处理完所有模式。\n",
    "        d)   组合Beta节点：Beta(2)左输入节点为Alpha(1)，右输入节点为Alpha(2)；Beta(i)左输入节点是Beta(i-1),右输入节点为Alpha(i)，并将两个父节点的内存表内联成为自己的内存表\n",
    "        e)   重复d，直到所有Beta节点处理完毕\n",
    "        f)   将动作Then部分封装成最后节点做为Beta（n）\n",
    "\n",
    "3. 重复2，直到所有规则处理完毕\n"
   ]
  },
  {
   "cell_type": "markdown",
   "metadata": {},
   "source": []
  }
 ],
 "metadata": {
  "kernelspec": {
   "display_name": "Python 3",
   "language": "python",
   "name": "python3"
  },
  "language_info": {
   "codemirror_mode": {
    "name": "ipython",
    "version": 3
   },
   "file_extension": ".py",
   "mimetype": "text/x-python",
   "name": "python",
   "nbconvert_exporter": "python",
   "pygments_lexer": "ipython3",
   "version": "3.7.1"
  }
 },
 "nbformat": 4,
 "nbformat_minor": 2
}
