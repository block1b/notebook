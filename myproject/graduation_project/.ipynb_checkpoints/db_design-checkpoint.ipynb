{
 "cells": [
  {
   "cell_type": "markdown",
   "metadata": {},
   "source": [
    "# 数据库设计\n",
    "\n",
    "分为sql和nodql两部分"
   ]
  },
  {
   "cell_type": "markdown",
   "metadata": {},
   "source": [
    "功能需求\n",
    "区块链模块\n",
    "余额记录，租用记录，设备记录；\n",
    "\n",
    "余额用代币数量表示，设备信息能改的放元数据，不能改的当资产信息。租用的时候要不要把设备所有权交出去，果然还是不能交的就这样。\n",
    "余额是可以交的，在交易的时候，计算完花费就交易，共享的时候，修改设备的共享状态和单价，这个没得说，花多少转多少就是了。\n",
    "\n",
    "balance{\n",
    "    userid\n",
    "    type\n",
    "    public_key\n",
    "    info\n",
    "}\n",
    "device{\n",
    "    deviceid\n",
    "    type\n",
    "    public_key\n",
    "    info{adder,describe}\n",
    "}\n",
    "\n",
    "tran_balance{\n",
    "    metadata{\n",
    "        A_public\n",
    "        B_public\n",
    "        cost\n",
    "        detail\n",
    "   }\n",
    "}\n",
    "tran_device{\n",
    "    metadata{\n",
    "       status \n",
    "       ruler\n",
    "       start_time\n",
    "       end_time\n",
    "   }\n",
    "}\n",
    "\n",
    "突然发现metadate的查询param为text，return 元数据和事务id；\n",
    "这样的话只要key唯一，就可以找到指定的id了。不好，作为过滤的一种，得根据具体业务补充。// todo\n",
    "\n",
    "物联网通信模块\n",
    "（mqtt） 代理服务器，客户端\n",
    "\n",
    "web服务模块\n",
    "用户注册，设备注册，设置共享；\n",
    "\n",
    "用户登陆，开始租用，停止租用；\n",
    "\n",
    "查看设备信息；租用历史；\n",
    "\n",
    "充值，兑换；\n",
    "\n",
    "后台管理（用户管理，设备管理）\n",
    "\n",
    "user（userid，public_key,balance,role）\n",
    "\n",
    "记录公钥，公钥公开，余额同步chain，role代表权限（用户，管理员）\n",
    "\n",
    "device(diviceid,ownerid,status,ruler)\n",
    "\n",
    "status空值设备使用权限（限制，未使用，使用中，非共享）\n",
    "\n",
    "账单（userid，设备，单价，使用时间，花费）\n"
   ]
  },
  {
   "cell_type": "markdown",
   "metadata": {},
   "source": []
  }
 ],
 "metadata": {
  "kernelspec": {
   "display_name": "Python 3",
   "language": "python",
   "name": "python3"
  },
  "language_info": {
   "codemirror_mode": {
    "name": "ipython",
    "version": 3
   },
   "file_extension": ".py",
   "mimetype": "text/x-python",
   "name": "python",
   "nbconvert_exporter": "python",
   "pygments_lexer": "ipython3",
   "version": "3.7.1"
  }
 },
 "nbformat": 4,
 "nbformat_minor": 2
}
