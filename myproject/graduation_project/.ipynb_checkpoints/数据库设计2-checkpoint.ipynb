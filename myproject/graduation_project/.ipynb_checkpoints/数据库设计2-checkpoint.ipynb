{
 "cells": [
  {
   "cell_type": "markdown",
   "metadata": {},
   "source": [
    "# SQL部分数据库设计\n",
    "\n",
    "支撑功能：用户创建，公钥记录，余额记录，设备状态，交易记录。"
   ]
  },
  {
   "cell_type": "markdown",
   "metadata": {},
   "source": [
    "balance($\\underline{uid}$,public_key,coin)\n",
    "```\n",
    "uid：资产拥有用户id；用户注册时生成； 唯一\n",
    "public_key：用于chain支付的用户id；用户注册时生成，对应密钥钥对保存在本地\n",
    "coin：用户的余额；同步chain中的用户token count\n",
    "```"
   ]
  },
  {
   "cell_type": "markdown",
   "metadata": {},
   "source": [
    "iot(thing_id,dec,owner_id,status,ruler)\n",
    "\n",
    "```\n",
    "thing_id：设备编号；注册设备时生成；唯一\n",
    "dec：设备描述；注册设备时由用户增加\n",
    "owner_id：拥有者id，注册该设备的用户id\n",
    "status：控制设备状态，同步chain（限制，未使用，使用中，非共享）\n",
    "ruler：最新的收费规则\n",
    "```"
   ]
  },
  {
   "cell_type": "markdown",
   "metadata": {},
   "source": [
    "bill(user_id,device_id,ruler,cost_time,cost)\n",
    "```\n",
    "user：使用者id\n",
    "device：使用的设备id\n",
    "tule：开始使用时的收费规则\n",
    "cost_time：使用的时间\n",
    "cost：结束使用时支付金额\n",
    "```"
   ]
  },
  {
   "cell_type": "markdown",
   "metadata": {},
   "source": [
    "除了用户和密钥外的所有数据都同步自chain；\n",
    "\n",
    "sql用于管理，nosql用于实际交易，以nosql支撑主要业务；"
   ]
  },
  {
   "cell_type": "code",
   "execution_count": null,
   "metadata": {},
   "outputs": [],
   "source": []
  }
 ],
 "metadata": {
  "kernelspec": {
   "display_name": "Python 3",
   "language": "python",
   "name": "python3"
  },
  "language_info": {
   "codemirror_mode": {
    "name": "ipython",
    "version": 3
   },
   "file_extension": ".py",
   "mimetype": "text/x-python",
   "name": "python",
   "nbconvert_exporter": "python",
   "pygments_lexer": "ipython3",
   "version": "3.7.1"
  }
 },
 "nbformat": 4,
 "nbformat_minor": 2
}
