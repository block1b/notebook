{
 "cells": [
  {
   "cell_type": "markdown",
   "metadata": {},
   "source": [
    "# 数据服务\n",
    "\n",
    "因为bigchaindb的其go驱动加密错误，使用python提供post相关的服务，包括生成事务，提交；合并成提交去球。\n",
    "\n",
    "使用mqtt协议进行数据通信"
   ]
  },
  {
   "cell_type": "markdown",
   "metadata": {},
   "source": [
    "param：\n",
    "\n",
    "    operation='TRANSFER',\n",
    "    asset={},\n",
    "    inputs=[{}],\n",
    "    recipients=[([''], 2), ([''], 6)]\n",
    "    private_keys=['']\n",
    "    "
   ]
  },
  {
   "cell_type": "markdown",
   "metadata": {},
   "source": [
    "几乎可以直接传，唯一有问题的是元祖，看看go有没有 // todo\n",
    "go没有，balebale，就是多转一次的事。"
   ]
  },
  {
   "cell_type": "markdown",
   "metadata": {},
   "source": [
    "所以输入的结构\n",
    "```\n",
    "{\n",
    "    operation='TRANSFER|CREATE',\n",
    "    asset={},\n",
    "    inputs=[{}],\n",
    "    recipients= [[[''],2],[[''],6]] // [([''], 2), ([''], 6)]\n",
    "    private_keys=''\n",
    "}\n",
    "```"
   ]
  },
  {
   "cell_type": "markdown",
   "metadata": {},
   "source": [
    "reply：\n",
    "就是本次业务 {}\n",
    "\n",
    "生成时检查，提交后对比，然后响应回去"
   ]
  },
  {
   "cell_type": "markdown",
   "metadata": {},
   "source": [
    "测试数据：\n",
    "\n",
    "```\n",
    "{\n",
    "    operation='TRANSFER',\n",
    "    asset={},\n",
    "    inputs=[{}],\n",
    "    recipients= [[[''],2],[[''],6]]\n",
    "    private_keys=['private_key']\n",
    "}\n",
    "```"
   ]
  },
  {
   "cell_type": "code",
   "execution_count": 2,
   "metadata": {},
   "outputs": [
    {
     "name": "stdout",
     "output_type": "stream",
     "text": [
      "[([['key1'], 2],), ([['key2'], 6],)]\n"
     ]
    }
   ],
   "source": [
    "# recipients= [[[bob_public_key],2],[[alice_public_key],6]] --> [([bob_public_key], 2), ([alice_public_key], 6)]\n",
    "datas = [[['key1'],2],[['key2'],6]]\n",
    "new_datas = []\n",
    "for i in datas:\n",
    "    new_data = (i,)\n",
    "    new_datas.append(new_data)\n",
    "    \n",
    "print(new_datas)"
   ]
  },
  {
   "cell_type": "markdown",
   "metadata": {},
   "source": [
    "2019年4月24日16点24分 done 转个结构easy"
   ]
  },
  {
   "cell_type": "code",
   "execution_count": 26,
   "metadata": {},
   "outputs": [
    {
     "data": {
      "text/plain": [
       "{'operation': 'TRANSFER',\n",
       " 'asset': {'id': '123456'},\n",
       " 'inputs': [{'input': 'input_msg'}],\n",
       " 'recipients': [[['public_key1'], 2], [['public_key2', 6]]],\n",
       " 'metadata': {'a': 1},\n",
       " 'private_keys': ['p1', 'p2']}"
      ]
     },
     "execution_count": 26,
     "metadata": {},
     "output_type": "execute_result"
    }
   ],
   "source": [
    "import json\n",
    "# byte --> map\n",
    "byte_data = '''{\n",
    "    \"operation\":\"TRANSFER\",\n",
    "    \"asset\":{\"id\":\"123456\"},\n",
    "    \"inputs\":[{\"input\":\"input_msg\"}],\n",
    "    \"recipients\": [[[\"public_key1\"],2],[[\"public_key2\",6]]],\n",
    "    \"metadata\": {\"a\":1},\n",
    "    \"private_keys\": [\"p1\",\"p2\"]\n",
    "}'''\n",
    "                    \n",
    "dict_data = json.loads(byte_data)\n",
    "dict_data"
   ]
  },
  {
   "cell_type": "code",
   "execution_count": 24,
   "metadata": {},
   "outputs": [
    {
     "data": {
      "text/plain": [
       "'\"{\\\\n    \\\\\"operation\\\\\":\\\\\"TRANSFER\\\\\",\\\\n    \\\\\"asset\\\\\":{\\\\\"id\\\\\":\\\\\"123456\\\\\"},\\\\n    \\\\\"inputs\\\\\":[{\\\\\"input\\\\\":\\\\\"input_msg\\\\\"}],\\\\n    \\\\\"recipients\\\\\": [[[\\\\\"public_key1\\\\\"],2],[[\\\\\"public_key2\\\\\",6]]],\\\\n    \\\\\"private_keys\\\\\": [\\\\\"p1\\\\\",\\\\\"p2\\\\\"]\\\\n}\"'"
      ]
     },
     "execution_count": 24,
     "metadata": {},
     "output_type": "execute_result"
    }
   ],
   "source": [
    "byte_data = '''{\n",
    "    \"operation\":\"TRANSFER\",\n",
    "    \"asset\":{\"id\":\"123456\"},\n",
    "    \"inputs\":[{\"input\":\"input_msg\"}],\n",
    "    \"recipients\": [[[\"public_key1\"],2],[[\"public_key2\",6]]],\n",
    "    \"private_keys\": [\"p1\",\"p2\"]\n",
    "}'''\n",
    "                    \n",
    "dict_data = json.dumps(byte_data)\n",
    "dict_data"
   ]
  },
  {
   "cell_type": "markdown",
   "metadata": {},
   "source": [
    "简单，取到参数后，就组装事务数据就可以了。"
   ]
  },
  {
   "cell_type": "markdown",
   "metadata": {},
   "source": [
    "# 组装事务\n",
    "```\n",
    "dict_data = {\n",
    "    \"operation\":\"TRANSFER\",\n",
    "    \"asset\":{\"id\":\"123456\"},\n",
    "    \"inputs\":[{\"input\":\"input_msg\"}],\n",
    "    \"recipients\": [[[\"public_key1\"],2],[[\"public_key2\",6]]],\n",
    "    \"metadata\": {\"a\":1},\n",
    "    \"private_keys\": [\"p1\",\"p2\"]\n",
    "}\n",
    "\n",
    "tuple_recipients = []\n",
    "for i in dict_data[\"recipients\"]:\n",
    "    new_data = (i,)\n",
    "    tuple_recipients.append(new_data)\n",
    "\n",
    "prepared_transfer_tx = bdb.transactions.prepare(\n",
    "     operation=dict_data[\"operation\"],\n",
    "     asset=dict_data[\"asset\"],\n",
    "     inputs=dict_data[\"inputs\"],\n",
    "     recipients=tuple_recipients,\n",
    "     metadata=dict_data[\"metadata\"]\n",
    "     \n",
    ")\n",
    "fulfilled_transfer_tx = bdb.transactions.fulfill(prepared_transfer_tx, private_keys=dict_data[\"private_keys\"])\n",
    "fulfilled_transfer_tx\n",
    "```"
   ]
  },
  {
   "cell_type": "markdown",
   "metadata": {},
   "source": [
    "然后是抓错误，raise 产生的，应该号抓吧 todo"
   ]
  }
 ],
 "metadata": {
  "kernelspec": {
   "display_name": "Python 3",
   "language": "python",
   "name": "python3"
  },
  "language_info": {
   "codemirror_mode": {
    "name": "ipython",
    "version": 3
   },
   "file_extension": ".py",
   "mimetype": "text/x-python",
   "name": "python",
   "nbconvert_exporter": "python",
   "pygments_lexer": "ipython3",
   "version": "3.7.1"
  }
 },
 "nbformat": 4,
 "nbformat_minor": 2
}
