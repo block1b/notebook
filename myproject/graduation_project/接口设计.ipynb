{
 "cells": [
  {
   "cell_type": "markdown",
   "metadata": {},
   "source": [
    "# 接口设计\n",
    "\n",
    "表现形式rest api|mqtt topic在设计层差别不大"
   ]
  },
  {
   "cell_type": "markdown",
   "metadata": {},
   "source": [
    "杂谈：使用mqtt，好像可以做到去中心化中的去中心管理，管理服务成为一个客户;topic定义是个精细活"
   ]
  },
  {
   "cell_type": "markdown",
   "metadata": {},
   "source": [
    "1. 通过 设备号 查询 设备信息\n",
    "2. 通过 用户名+设备号 租用/归还 设备\n",
    "3. 通过 用户名 查看账单信息 【这个是使用记录】\n",
    "4. 通过 用户名 查自己的余额\n",
    "5. 通过 用户名 充值/提现\n",
    "6. 通过 用户名 查看自己的设备\n",
    "7. 通过 用户名+设备信息 添加自己的设备\n",
    "8. 通过 用户名+设备号 注销自己的设备"
   ]
  },
  {
   "cell_type": "markdown",
   "metadata": {},
   "source": [
    "用户名这个通过应用直接转成公钥好了；"
   ]
  },
  {
   "cell_type": "markdown",
   "metadata": {},
   "source": [
    "9. 通过昵称 生成密钥对\n",
    "\n",
    "进行业务前检查本地是否有用户密钥对，若没有申请，且保存到本地。"
   ]
  },
  {
   "cell_type": "markdown",
   "metadata": {},
   "source": [
    "# 详细设计"
   ]
  },
  {
   "cell_type": "markdown",
   "metadata": {},
   "source": [
    "原来有个问题就是，操作需要拥有者同意授权，及要获取其私钥，so，确定用mqtt了；\n",
    "\n",
    "组件命名：\n",
    "\n",
    "## broken 100%\n",
    "mqtt代理服务，使用EMQ\n",
    "## weClient 30%\n",
    "微信客户端，使用mqtt客户端连接系统\n",
    "## smartServer 10%\n",
    "智能合约提供服务，使用mqtt客户端连接系统\n",
    "## postServer 50%\n",
    "因为bigchaindb的go驱动实现问题，使用python提供post转发服务，透明；\n",
    "## managerServer 100%\n",
    "传统的数据管理服务，使用go-admin库，echo框架；\n",
    "## blockChainDB 100%\n",
    "区块链数据库服务，使用BigChainDB；"
   ]
  },
  {
   "cell_type": "markdown",
   "metadata": {},
   "source": [
    "e上面的还是用table比较好。。。"
   ]
  },
  {
   "cell_type": "markdown",
   "metadata": {},
   "source": [
    "1. 密钥检查/获取密钥\n",
    "\n",
    "用户首次登陆时，本地缺少密钥，使用  微信你昵称 新建用户，记录进入Mysql，生成密钥对，初始化chain中的用户余额数据。"
   ]
  },
  {
   "cell_type": "markdown",
   "metadata": {},
   "source": []
  }
 ],
 "metadata": {
  "kernelspec": {
   "display_name": "Python 3",
   "language": "python",
   "name": "python3"
  },
  "language_info": {
   "codemirror_mode": {
    "name": "ipython",
    "version": 3
   },
   "file_extension": ".py",
   "mimetype": "text/x-python",
   "name": "python",
   "nbconvert_exporter": "python",
   "pygments_lexer": "ipython3",
   "version": "3.7.1"
  }
 },
 "nbformat": 4,
 "nbformat_minor": 2
}
