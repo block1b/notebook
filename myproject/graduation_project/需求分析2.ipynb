{
 "cells": [
  {
   "cell_type": "markdown",
   "metadata": {},
   "source": [
    "# 主业务\n",
    "\n",
    "注册用户，登陆，注册设备，\n",
    "\n",
    "共享设备（设置规则，共享状态），\n",
    "\n",
    "租用设备（扫码识别，确认/终止租用），\n",
    "\n",
    "历史交易，\n",
    "\n",
    "充值，兑现"
   ]
  },
  {
   "cell_type": "markdown",
   "metadata": {},
   "source": [
    "大概是7个页面，用小程序还是用web呢？todo"
   ]
  },
  {
   "cell_type": "markdown",
   "metadata": {},
   "source": [
    "2019年5月4日 决定使用小程序"
   ]
  },
  {
   "cell_type": "markdown",
   "metadata": {},
   "source": [
    "管理服务顺便提供api好了，前后端同步推进好了，不加什么auth了。"
   ]
  },
  {
   "cell_type": "markdown",
   "metadata": {},
   "source": [
    "## api\n",
    "```\n",
    "租用/归还设备\n",
    "账单\n",
    "注册设备\n",
    "设置设备\n",
    "设备信息\n",
    "余额\n",
    "充值/提现\n",
    "登陆/注册（隐式，使用微信号，密钥对）\n",
    "```"
   ]
  },
  {
   "cell_type": "markdown",
   "metadata": {},
   "source": [
    "测试 go生成的密钥对，在chain中能否使用。// todo"
   ]
  },
  {
   "cell_type": "markdown",
   "metadata": {},
   "source": [
    "```\n",
    "api详细说明：\n",
    "\n",
    "分配密钥：当用户使用weiid使用系统时，若首次使用，主动创建系统账号，分配密钥对；密钥对保存到用户本地。\n",
    "/user/secretKey\n",
    "param：weId\n",
    "return：密钥对\n",
    "\n",
    "充值/提现：当用户需要向账户充值或体现时，选择金额提交\n",
    "/balance/:type\n",
    "param：weId，secretKey，money，type[in|out]\n",
    "return: 200|500\n",
    "\n",
    "注册设备：设备拥有者将设备注册入系统中，用于共享\n",
    "/iot/register\n",
    "param: weId，secretKey,dec,status,ruler\n",
    "reutrn: 200|500\n",
    "\n",
    "查看设备：该用户的所有或某个设备\n",
    "/iot/showList/:filter\n",
    "param: weId,secretKey,filter[\"\"|iot_id]\n",
    "return: [iot_info]\n",
    "\n",
    "修改设备信息：只能修改共享状态和收费规则 status和ruler\n",
    "/iot/update\n",
    "param: weId,secretKey,iot_id,status,ruler\n",
    "\n",
    "租用/归还设备：使用者通过扫码获取待租用设备的id，可以查看该设备的信息，装态和收费规则，选择是否租用，归还。\n",
    "/iot/rent/:type\n",
    "param：weId,secretKey,iot_id,type[use|return]\n",
    "return:200|500\n",
    "如果租用时，余额不足，不允许租用，如果归还时余额不足,跳转到充值页面。否则不归还一直计费。\n",
    "\n",
    "账单 使用者可以在账单处查看历史租用和正在使用的记录\n",
    "/bill/showList/:filter\n",
    "param: weId,secretKey,filter[\"\"|history|now]\n",
    "return:[bill info]\n",
    "```"
   ]
  },
  {
   "cell_type": "markdown",
   "metadata": {},
   "source": []
  }
 ],
 "metadata": {
  "kernelspec": {
   "display_name": "Python 3",
   "language": "python",
   "name": "python3"
  },
  "language_info": {
   "codemirror_mode": {
    "name": "ipython",
    "version": 3
   },
   "file_extension": ".py",
   "mimetype": "text/x-python",
   "name": "python",
   "nbconvert_exporter": "python",
   "pygments_lexer": "ipython3",
   "version": "3.7.1"
  }
 },
 "nbformat": 4,
 "nbformat_minor": 2
}
