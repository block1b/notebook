{
 "cells": [
  {
   "cell_type": "code",
   "execution_count": null,
   "metadata": {},
   "outputs": [],
   "source": [
    "# postServer-mqtt client\n",
    "import paho.mqtt.client as mqtt\n",
    "\n",
    "\n",
    "def on_connect(client, userdata, flags, rc):\n",
    "    print(\"Connected with result code \" + str(rc))\n",
    "\n",
    "\n",
    "def on_message(client, userdata, msg):\n",
    "    print(msg.topic + \" \" + str(msg.payload))\n",
    "    if msg.topic == \"secretKey/\":\n",
    "        print(\"提供给1密钥对\")\n",
    "        # todo 生成密钥对\n",
    "        client.publish('secretKey/1/rep', payload='secretKey', qos=0)\n",
    "\n",
    "    if msg.topic == \"transaction/\":\n",
    "        print(\"提交transaction\")\n",
    "        # todo chain 事务提交\n",
    "        client.publish('transaction/1/rep', payload='{transactionInfo}', qos=0)\n",
    "\n",
    "\n",
    "client = mqtt.Client(\"postServer\")\n",
    "client.on_connect = on_connect\n",
    "client.on_message = on_message\n",
    "client.connect(\"192.168.18.128\", 1883, 60)\n",
    "\n",
    "client.subscribe('secretKey/', qos=0)  # 请求密钥对\n",
    "client.subscribe('transaction/', qos=0)  # 提交transaction\n",
    "\n",
    "# client.publish('block/emqtt', payload='Hello,EMQ!', qos=0)\n",
    "client.loop_forever()\n"
   ]
  }
 ],
 "metadata": {
  "kernelspec": {
   "display_name": "Python 3",
   "language": "python",
   "name": "python3"
  },
  "language_info": {
   "codemirror_mode": {
    "name": "ipython",
    "version": 3
   },
   "file_extension": ".py",
   "mimetype": "text/x-python",
   "name": "python",
   "nbconvert_exporter": "python",
   "pygments_lexer": "ipython3",
   "version": "3.7.1"
  }
 },
 "nbformat": 4,
 "nbformat_minor": 2
}
