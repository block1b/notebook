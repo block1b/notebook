{
 "cells": [
  {
   "cell_type": "code",
   "execution_count": 6,
   "metadata": {},
   "outputs": [
    {
     "name": "stdout",
     "output_type": "stream",
     "text": [
      "Connected with result code 0\n",
      "postServer/post b'{\"clientId\":\"WeChat\",\"transferData\":{\"operation\":\"TRANSFER\",\"asset\":{\"id\":\"c279f15ce6414a8c6e6e07313f93cf5c124caeeb30bf5a4ab8564c3fcdc626e3\",\"data\":{\"info\":null,\"sn\":\"\"}},\"signers\":\"\",\"inputs\":[{\"owners_before\":[\"3PKKhLTbaFSjpjdEtNYqPTSrgp17Vur25NwVjQNKK7Hm\"],\"fulfills\":{\"transaction_id\":\"c279f15ce6414a8c6e6e07313f93cf5c124caeeb30bf5a4ab8564c3fcdc626e3\",\"output_index\":0},\"fulfillment\":{\"type\":\"ed25519-sha-256\",\"public_key\":\"3PKKhLTbaFSjpjdEtNYqPTSrgp17Vur25NwVjQNKK7Hm\"}}],\"recipients\":[[[\"3PKKhLTbaFSjpjdEtNYqPTSrgp17Vur25NwVjQNKK7Hm\"],950],[[\"HWkENox4DM4Tp3qSfYW8igndpog9GpKFzB7Tp7yXgpBq\"],50]],\"private_keys\":[\"HwLCf9fbhm6BHTagY5aC1uVKR6sz57h7viuS8DUR9x34\"],\"metadata\":{\"info\":{\"signer_nick_name\":\"Admin\",\"signer_public_key\":\"3PKKhLTbaFSjpjdEtNYqPTSrgp17Vur25NwVjQNKK7Hm\",\"recipient_nick_name\":\"alice\",\"recipient_public_key\":\"HWkENox4DM4Tp3qSfYW8igndpog9GpKFzB7Tp7yXgpBq\",\"reason\":\"recharge\",\"cost\":\"50\",\"time\":\"2019-05-17 02:55:02\"},\"sn\":\"3PKKhLTbaFSjpjdEtNYqPTSrgp17Vur25NwVjQNKK7Hm.balance.main\"}}}'\n",
      "提交transaction\n",
      "事务提交成功\n"
     ]
    },
    {
     "ename": "KeyboardInterrupt",
     "evalue": "",
     "output_type": "error",
     "traceback": [
      "\u001b[0;31m---------------------------------------------------------------------------\u001b[0m",
      "\u001b[0;31mKeyboardInterrupt\u001b[0m                         Traceback (most recent call last)",
      "\u001b[0;32m<ipython-input-6-845e357193f8>\u001b[0m in \u001b[0;36m<module>\u001b[0;34m\u001b[0m\n\u001b[1;32m    104\u001b[0m \u001b[0;34m\u001b[0m\u001b[0m\n\u001b[1;32m    105\u001b[0m \u001b[0;31m# client.publish('block/emqtt', payload='Hello,EMQ!', qos=0)\u001b[0m\u001b[0;34m\u001b[0m\u001b[0;34m\u001b[0m\u001b[0;34m\u001b[0m\u001b[0m\n\u001b[0;32m--> 106\u001b[0;31m \u001b[0mclient\u001b[0m\u001b[0;34m.\u001b[0m\u001b[0mloop_forever\u001b[0m\u001b[0;34m(\u001b[0m\u001b[0;34m)\u001b[0m\u001b[0;34m\u001b[0m\u001b[0;34m\u001b[0m\u001b[0m\n\u001b[0m",
      "\u001b[0;32m/opt/conda/lib/python3.7/site-packages/paho/mqtt/client.py\u001b[0m in \u001b[0;36mloop_forever\u001b[0;34m(self, timeout, max_packets, retry_first_connection)\u001b[0m\n\u001b[1;32m   1576\u001b[0m             \u001b[0mrc\u001b[0m \u001b[0;34m=\u001b[0m \u001b[0mMQTT_ERR_SUCCESS\u001b[0m\u001b[0;34m\u001b[0m\u001b[0;34m\u001b[0m\u001b[0m\n\u001b[1;32m   1577\u001b[0m             \u001b[0;32mwhile\u001b[0m \u001b[0mrc\u001b[0m \u001b[0;34m==\u001b[0m \u001b[0mMQTT_ERR_SUCCESS\u001b[0m\u001b[0;34m:\u001b[0m\u001b[0;34m\u001b[0m\u001b[0;34m\u001b[0m\u001b[0m\n\u001b[0;32m-> 1578\u001b[0;31m                 \u001b[0mrc\u001b[0m \u001b[0;34m=\u001b[0m \u001b[0mself\u001b[0m\u001b[0;34m.\u001b[0m\u001b[0mloop\u001b[0m\u001b[0;34m(\u001b[0m\u001b[0mtimeout\u001b[0m\u001b[0;34m,\u001b[0m \u001b[0mmax_packets\u001b[0m\u001b[0;34m)\u001b[0m\u001b[0;34m\u001b[0m\u001b[0;34m\u001b[0m\u001b[0m\n\u001b[0m\u001b[1;32m   1579\u001b[0m                 \u001b[0;31m# We don't need to worry about locking here, because we've\u001b[0m\u001b[0;34m\u001b[0m\u001b[0;34m\u001b[0m\u001b[0;34m\u001b[0m\u001b[0m\n\u001b[1;32m   1580\u001b[0m                 \u001b[0;31m# either called loop_forever() when in single threaded mode, or\u001b[0m\u001b[0;34m\u001b[0m\u001b[0;34m\u001b[0m\u001b[0;34m\u001b[0m\u001b[0m\n",
      "\u001b[0;32m/opt/conda/lib/python3.7/site-packages/paho/mqtt/client.py\u001b[0m in \u001b[0;36mloop\u001b[0;34m(self, timeout, max_packets)\u001b[0m\n\u001b[1;32m   1055\u001b[0m         \u001b[0mrlist\u001b[0m \u001b[0;34m=\u001b[0m \u001b[0;34m[\u001b[0m\u001b[0mself\u001b[0m\u001b[0;34m.\u001b[0m\u001b[0m_sock\u001b[0m\u001b[0;34m,\u001b[0m \u001b[0mself\u001b[0m\u001b[0;34m.\u001b[0m\u001b[0m_sockpairR\u001b[0m\u001b[0;34m]\u001b[0m\u001b[0;34m\u001b[0m\u001b[0;34m\u001b[0m\u001b[0m\n\u001b[1;32m   1056\u001b[0m         \u001b[0;32mtry\u001b[0m\u001b[0;34m:\u001b[0m\u001b[0;34m\u001b[0m\u001b[0;34m\u001b[0m\u001b[0m\n\u001b[0;32m-> 1057\u001b[0;31m             \u001b[0msocklist\u001b[0m \u001b[0;34m=\u001b[0m \u001b[0mselect\u001b[0m\u001b[0;34m.\u001b[0m\u001b[0mselect\u001b[0m\u001b[0;34m(\u001b[0m\u001b[0mrlist\u001b[0m\u001b[0;34m,\u001b[0m \u001b[0mwlist\u001b[0m\u001b[0;34m,\u001b[0m \u001b[0;34m[\u001b[0m\u001b[0;34m]\u001b[0m\u001b[0;34m,\u001b[0m \u001b[0mtimeout\u001b[0m\u001b[0;34m)\u001b[0m\u001b[0;34m\u001b[0m\u001b[0;34m\u001b[0m\u001b[0m\n\u001b[0m\u001b[1;32m   1058\u001b[0m         \u001b[0;32mexcept\u001b[0m \u001b[0mTypeError\u001b[0m\u001b[0;34m:\u001b[0m\u001b[0;34m\u001b[0m\u001b[0;34m\u001b[0m\u001b[0m\n\u001b[1;32m   1059\u001b[0m             \u001b[0;31m# Socket isn't correct type, in likelihood connection is lost\u001b[0m\u001b[0;34m\u001b[0m\u001b[0;34m\u001b[0m\u001b[0;34m\u001b[0m\u001b[0m\n",
      "\u001b[0;31mKeyboardInterrupt\u001b[0m: "
     ]
    }
   ],
   "source": [
    "# postServer-mqtt client\n",
    "import paho.mqtt.client as mqtt\n",
    "from bigchaindb_driver.crypto import generate_keypair\n",
    "import json\n",
    "from bigchaindb_driver import BigchainDB\n",
    "bdb_root_url = 'http://192.168.113.6:9984'\n",
    "bdb = BigchainDB(bdb_root_url)\n",
    "\n",
    "# 提交事务\n",
    "def transactionsPost(dict_data):\n",
    "#     dict_data = {\n",
    "#     \"operation\":\"TRANSFER\",\n",
    "#     \"asset\":{\"id\":\"123456\"},\n",
    "#     \"signers\"=\"admin_public_key\"\n",
    "#     \"inputs\":[{\"input\":\"input_msg\"}],\n",
    "#     \"recipients\": [[[\"public_key1\"],2],[[\"public_key2\",6]]],\n",
    "#     \"metadata\": {\"a\":1},\n",
    "#     \"private_keys\": [\"p1\",\"p2\"]\n",
    "#     }\n",
    "\n",
    "    tuple_recipients = []\n",
    "    for i in dict_data[\"recipients\"]:\n",
    "        new_data = (i[0],i[1])\n",
    "        tuple_recipients.append(new_data)\n",
    "        \n",
    "    # 准备事务\n",
    "    prepared_transfer_tx = \"\"\n",
    "    #  operation='CREATE',\n",
    "    if dict_data[\"operation\"] == 'CREATE':\n",
    "        prepared_transfer_tx = bdb.transactions.prepare(\n",
    "         operation=dict_data[\"operation\"],\n",
    "         asset=dict_data[\"asset\"],\n",
    "         signers=dict_data[\"signers\"],\n",
    "         recipients=tuple_recipients,\n",
    "         metadata=dict_data[\"metadata\"]\n",
    "\n",
    "    )\n",
    "    #  operation='TRANSFER',\n",
    "    if dict_data[\"operation\"] == 'TRANSFER':\n",
    "        prepared_transfer_tx = bdb.transactions.prepare(\n",
    "             operation=dict_data[\"operation\"],\n",
    "             asset=dict_data[\"asset\"],\n",
    "             inputs=dict_data[\"inputs\"],\n",
    "             recipients=tuple_recipients,\n",
    "             metadata=dict_data[\"metadata\"]\n",
    "\n",
    "        )\n",
    "    # 准备事务\n",
    "    fulfilled_transfer_tx = bdb.transactions.fulfill(prepared_transfer_tx, private_keys=dict_data[\"private_keys\"])\n",
    "    # 提交事务\n",
    "    sent_transfer_tx = bdb.transactions.send_commit(fulfilled_transfer_tx)\n",
    "    # 验证提交结果\n",
    "    if fulfilled_transfer_tx == sent_transfer_tx:\n",
    "        print(\"事务提交成功\")\n",
    "        return fulfilled_transfer_tx\n",
    "    return {\"errMsg\":\"事务提交失败\"}\n",
    "    \n",
    "\n",
    "# 生成密钥对\n",
    "def generateKeypair():\n",
    "    # generate a keypair\n",
    "    keypair = generate_keypair()\n",
    "    return {\"publicKey\": str(keypair.public_key),\"privateKey\": str(keypair.private_key)}\n",
    "\n",
    "def on_connect(client, userdata, flags, rc):\n",
    "    print(\"Connected with result code \" + str(rc))\n",
    "\n",
    "\n",
    "def on_message(client, userdata, msg):\n",
    "    print(msg.topic + \" \" + str(msg.payload))\n",
    "    \n",
    "    reqTopic = str(msg.topic)\n",
    "#     print(reqTopic, type(reqTopic))\n",
    "    reqPayload = json.loads(msg.payload)  # 解码请求参数\n",
    "    reqId = reqPayload[\"clientId\"]\n",
    "    transferData = reqPayload[\"transferData\"]\n",
    "    repTopic = reqTopic.replace(\"postServer\", reqId)  # 生成响应topic\n",
    "    \n",
    "    if reqTopic == \"postServer/secretKey\":\n",
    "        print(reqId+\"生成密钥对\")\n",
    "        # 生成密钥对；\n",
    "        print(json.dumps(generateKeypair()))\n",
    "        client.publish(repTopic, payload=json.dumps(generateKeypair()), qos=0)\n",
    "        return\n",
    "\n",
    "    if reqTopic == \"postServer/post\":\n",
    "        print(\"提交transaction\")\n",
    "        # chain 事务提交\n",
    "        \n",
    "        client.publish(repTopic, payload=json.dumps(transactionsPost(transferData)), qos=0)\n",
    "        return\n",
    "    \n",
    "    print(\"undefine topic \" + repTopic)\n",
    "    return\n",
    "\n",
    "\n",
    "client = mqtt.Client(\"postServer\")\n",
    "client.on_connect = on_connect\n",
    "client.on_message = on_message\n",
    "client.connect(\"192.168.113.6\", 1883, 60)\n",
    "\n",
    "client.subscribe('postServer/secretKey', qos=0)  # 请求密钥对\n",
    "client.subscribe('postServer/post', qos=0)  # 提交transaction\n",
    "\n",
    "# client.publish('block/emqtt', payload='Hello,EMQ!', qos=0)\n",
    "client.loop_forever()\n"
   ]
  },
  {
   "cell_type": "code",
   "execution_count": 2,
   "metadata": {},
   "outputs": [
    {
     "data": {
      "text/plain": [
       "'{\"publicKey\": \"CiDPR8eWMWSBKBJWwB6aTFoShiTLiNC5hUPLHSNFjWNT\", \"privateKey\": \"CpoaYJKM8rr89tnGVd2NbykNAMfsuVz7iadmLvRbaKL4\"}'"
      ]
     },
     "execution_count": 2,
     "metadata": {},
     "output_type": "execute_result"
    }
   ],
   "source": [
    "# test def generateKeypair()\n",
    "from bigchaindb_driver.crypto import generate_keypair\n",
    "import json\n",
    "\n",
    "# 生成密钥对\n",
    "def generateKeypair():\n",
    "    # generate a keypair\n",
    "    keypair = generate_keypair()\n",
    "    return json.dumps({\"publicKey\": str(keypair.public_key),\"privateKey\": str(keypair.private_key)})\n",
    "\n",
    "createKeypair()"
   ]
  },
  {
   "cell_type": "code",
   "execution_count": 2,
   "metadata": {},
   "outputs": [
    {
     "name": "stdout",
     "output_type": "stream",
     "text": [
      "{'operation': 'TRANSFER', 'asset': {'id': '', 'data': {'info': None, 'sn': ''}}, 'signers': '', 'inputs': [{'owners_before': ['3PKKhLTbaFSjpjdEtNYqPTSrgp17Vur25NwVjQNKK7Hm'], 'fulfills': {'transaction_id': 'c279f15ce6414a8c6e6e07313f93cf5c124caeeb30bf5a4ab8564c3fcdc626e3', 'output_index': 0}, 'fulfillment': {'type': 'ed25519-sha-256', 'public_key': '3PKKhLTbaFSjpjdEtNYqPTSrgp17Vur25NwVjQNKK7Hm'}}], 'recipients': [[['3PKKhLTbaFSjpjdEtNYqPTSrgp17Vur25NwVjQNKK7Hm'], 950], [['HWkENox4DM4Tp3qSfYW8igndpog9GpKFzB7Tp7yXgpBq'], 50]], 'private_keys': ['HwLCf9fbhm6BHTagY5aC1uVKR6sz57h7viuS8DUR9x34'], 'metadata': {'info': {'signer_nick_name': 'Admin', 'signer_public_key': '3PKKhLTbaFSjpjdEtNYqPTSrgp17Vur25NwVjQNKK7Hm', 'recipient_nick_name': 'alice', 'recipient_public_key': 'HWkENox4DM4Tp3qSfYW8igndpog9GpKFzB7Tp7yXgpBq', 'reason': 'recharge', 'cost': '50', 'time': '2019-05-17 02:47:20'}, 'sn': '3PKKhLTbaFSjpjdEtNYqPTSrgp17Vur25NwVjQNKK7Hm.balance.main'}}\n"
     ]
    }
   ],
   "source": [
    "import json\n",
    "data = '''{\"operation\":\"CREATE\",\"asset\":{\"id\":\"\",\"data\":{\"info\":{\"owner_nick_name\":\"block\",\"owner_public_key\":\"3PKKhLTbaFSjpjdEtNYqPTSrgp17Vur25NwVjQNKK7Hm\",\"type\":\"iot\",\"id\":\"clock0\",\"device_name\":\"clock0\",\"device_info\":\"shareParking\"},\"sn\":\"3PKKhLTbaFSjpjdEtNYqPTSrgp17Vur25NwVjQNKK7Hm.iot.clock0\"}},\"signers\":\"3PKKhLTbaFSjpjdEtNYqPTSrgp17Vur25NwVjQNKK7Hm\",\"inputs\":0,\"recipients\":[[[\"3PKKhLTbaFSjpjdEtNYqPTSrgp17Vur25NwVjQNKK7Hm\"],1]],\"private_keys\":[\"HwLCf9fbhm6BHTagY5aC1uVKR6sz57h7viuS8DUR9x34\"],\"metadata\":{\"info\":{\"device_id\":\"clock0\",\"owner_nick_name\":\"block\",\"owner_public_key\":\"3PKKhLTbaFSjpjdEtNYqPTSrgp17Vur25NwVjQNKK7Hm\",\"user_nick_name\":\"null\",\"user_public_key\":\"null\",\"status\":\"CanUse\",\"ruler\":\"5\",\"start_time\":\"2019-05-13 04:12:49\",\"cost_time\":\"0\"},\"sn\":\"3PKKhLTbaFSjpjdEtNYqPTSrgp17Vur25NwVjQNKK7Hm.iot.clock0\"}}'''\n",
    "data = '''{\"operation\":\"CREATE\",\"asset\":{\"id\":\"\",\"data\":{\"info\":{\"owner_nick_name\":\"block\",\"owner_public_key\":\"3PKKhLTbaFSjpjdEtNYqPTSrgp17Vur25NwVjQNKK7Hm\",\"type\":\"balance\",\"id\":\"main\"},\"sn\":\"3PKKhLTbaFSjpjdEtNYqPTSrgp17Vur25NwVjQNKK7Hm.balance.main\"}},\"signers\":\"\",\"inputs\":null,\"recipients\":[[[\"3PKKhLTbaFSjpjdEtNYqPTSrgp17Vur25NwVjQNKK7Hm\"],1]],\"private_keys\":[\"HwLCf9fbhm6BHTagY5aC1uVKR6sz57h7viuS8DUR9x34\"],\"metadata\":{\"info\":{\"signer_nick_name\":\"BLOCK.1.B\",\"signer_public_key\":\"3PKKhLTbaFSjpjdEtNYqPTSrgp17Vur25NwVjQNKK7Hm\",\"recipient_nick_name\":\"block\",\"recipient_public_key\":\"3PKKhLTbaFSjpjdEtNYqPTSrgp17Vur25NwVjQNKK7Hm\",\"reason\":\"\\xe6\\x96\\xb0\\xe7\\x94\\xa8\\xe6\\x88\\xb7\\xe4\\xbd\\x99\\xe9\\xa2\\x9d\\xe5\\x88\\x9d\\xe5\\xa7\\x8b\\xe5\\x8c\\x96\",\"cost\":\"1\",\"time\":\"2019-05-14 03:04:01\"},\"sn\":\"3PKKhLTbaFSjpjdEtNYqPTSrgp17Vur25NwVjQNKK7Hm.balance.main\"}}'''\n",
    "data = '''{\"operation\":\"TRANSFER\",\"asset\":{\"id\":\"\",\"data\":{\"info\":null,\"sn\":\"\"}},\"signers\":\"\",\"inputs\":[{\"owners_before\":[\"3PKKhLTbaFSjpjdEtNYqPTSrgp17Vur25NwVjQNKK7Hm\"],\"fulfills\":{\"transaction_id\":\"c279f15ce6414a8c6e6e07313f93cf5c124caeeb30bf5a4ab8564c3fcdc626e3\",\"output_index\":0},\"fulfillment\":{\"type\":\"ed25519-sha-256\",\"public_key\":\"3PKKhLTbaFSjpjdEtNYqPTSrgp17Vur25NwVjQNKK7Hm\"}}],\"recipients\":[[[\"3PKKhLTbaFSjpjdEtNYqPTSrgp17Vur25NwVjQNKK7Hm\"],950],[[\"HWkENox4DM4Tp3qSfYW8igndpog9GpKFzB7Tp7yXgpBq\"],50]],\"private_keys\":[\"HwLCf9fbhm6BHTagY5aC1uVKR6sz57h7viuS8DUR9x34\"],\"metadata\":{\"info\":{\"signer_nick_name\":\"Admin\",\"signer_public_key\":\"3PKKhLTbaFSjpjdEtNYqPTSrgp17Vur25NwVjQNKK7Hm\",\"recipient_nick_name\":\"alice\",\"recipient_public_key\":\"HWkENox4DM4Tp3qSfYW8igndpog9GpKFzB7Tp7yXgpBq\",\"reason\":\"recharge\",\"cost\":\"50\",\"time\":\"2019-05-17 02:47:20\"},\"sn\":\"3PKKhLTbaFSjpjdEtNYqPTSrgp17Vur25NwVjQNKK7Hm.balance.main\"}}'''\n",
    "# print(data)\n",
    "dictData = json.loads(data)\n",
    "print(dictData)\n"
   ]
  },
  {
   "cell_type": "code",
   "execution_count": 3,
   "metadata": {},
   "outputs": [
    {
     "name": "stdout",
     "output_type": "stream",
     "text": [
      "[(['3PKKhLTbaFSjpjdEtNYqPTSrgp17Vur25NwVjQNKK7Hm'], 950), (['HWkENox4DM4Tp3qSfYW8igndpog9GpKFzB7Tp7yXgpBq'], 50)]\n"
     ]
    },
    {
     "data": {
      "text/plain": [
       "{'inputs': [{'owners_before': ['3PKKhLTbaFSjpjdEtNYqPTSrgp17Vur25NwVjQNKK7Hm'],\n",
       "   'fulfills': {'transaction_id': 'c279f15ce6414a8c6e6e07313f93cf5c124caeeb30bf5a4ab8564c3fcdc626e3',\n",
       "    'output_index': 0},\n",
       "   'fulfillment': {'type': 'ed25519-sha-256',\n",
       "    'public_key': '3PKKhLTbaFSjpjdEtNYqPTSrgp17Vur25NwVjQNKK7Hm'}}],\n",
       " 'outputs': [{'public_keys': ['3PKKhLTbaFSjpjdEtNYqPTSrgp17Vur25NwVjQNKK7Hm'],\n",
       "   'condition': {'details': {'type': 'ed25519-sha-256',\n",
       "     'public_key': '3PKKhLTbaFSjpjdEtNYqPTSrgp17Vur25NwVjQNKK7Hm'},\n",
       "    'uri': 'ni:///sha-256;t1GM7Bud9-p2hvzkPDn8AN8FRSc8azG8u0BG_KLswiE?fpt=ed25519-sha-256&cost=131072'},\n",
       "   'amount': '950'},\n",
       "  {'public_keys': ['HWkENox4DM4Tp3qSfYW8igndpog9GpKFzB7Tp7yXgpBq'],\n",
       "   'condition': {'details': {'type': 'ed25519-sha-256',\n",
       "     'public_key': 'HWkENox4DM4Tp3qSfYW8igndpog9GpKFzB7Tp7yXgpBq'},\n",
       "    'uri': 'ni:///sha-256;gq2QbZZEcAzcCuCv4xicDCYQ_0RmN09VLSH6t2H0pKQ?fpt=ed25519-sha-256&cost=131072'},\n",
       "   'amount': '50'}],\n",
       " 'operation': 'TRANSFER',\n",
       " 'metadata': {'info': {'signer_nick_name': 'Admin',\n",
       "   'signer_public_key': '3PKKhLTbaFSjpjdEtNYqPTSrgp17Vur25NwVjQNKK7Hm',\n",
       "   'recipient_nick_name': 'alice',\n",
       "   'recipient_public_key': 'HWkENox4DM4Tp3qSfYW8igndpog9GpKFzB7Tp7yXgpBq',\n",
       "   'reason': 'recharge',\n",
       "   'cost': '50',\n",
       "   'time': '2019-05-17 02:47:20'},\n",
       "  'sn': '3PKKhLTbaFSjpjdEtNYqPTSrgp17Vur25NwVjQNKK7Hm.balance.main'},\n",
       " 'asset': {'id': ''},\n",
       " 'version': '2.0',\n",
       " 'id': None}"
      ]
     },
     "execution_count": 3,
     "metadata": {},
     "output_type": "execute_result"
    }
   ],
   "source": [
    "import json\n",
    "from bigchaindb_driver import BigchainDB\n",
    "bdb_root_url = 'http://192.168.113.6:9984'\n",
    "bdb = BigchainDB(bdb_root_url)\n",
    "\n",
    "# 提交事务\n",
    "def transactionsPost(dict_data):\n",
    "#     dict_data = {\n",
    "#     \"operation\":\"TRANSFER\",\n",
    "#     \"asset\":{\"id\":\"123456\"},\n",
    "#     \"signers\"=\"admin_public_key\"\n",
    "#     \"inputs\":[{\"input\":\"input_msg\"}],\n",
    "#     \"recipients\": [[[\"public_key1\"],2],[[\"public_key2\",6]]],\n",
    "#     \"metadata\": {\"a\":1},\n",
    "#     \"private_keys\": [\"p1\",\"p2\"]\n",
    "#     }\n",
    "\n",
    "    tuple_recipients = []\n",
    "    for i in dict_data[\"recipients\"]:\n",
    "        new_data = (i[0],i[1])\n",
    "        tuple_recipients.append(new_data)\n",
    "        \n",
    "    print(tuple_recipients)\n",
    "    # 准备事务\n",
    "    prepared_transfer_tx = \"\"\n",
    "    #  operation='CREATE',\n",
    "    if dict_data[\"operation\"] == 'CREATE':\n",
    "        prepared_transfer_tx = bdb.transactions.prepare(\n",
    "         operation=dict_data[\"operation\"],\n",
    "         asset=dict_data[\"asset\"],\n",
    "         signers=dict_data[\"signers\"],\n",
    "         recipients=tuple_recipients,\n",
    "         metadata=dict_data[\"metadata\"]\n",
    "\n",
    "    )\n",
    "    #  operation='TRANSFER',\n",
    "    if dict_data[\"operation\"] == 'TRANSFER':\n",
    "        prepared_transfer_tx = bdb.transactions.prepare(\n",
    "             operation=dict_data[\"operation\"],\n",
    "             asset=dict_data[\"asset\"],\n",
    "             inputs=dict_data[\"inputs\"],\n",
    "             recipients=tuple_recipients,\n",
    "             metadata=dict_data[\"metadata\"]\n",
    "\n",
    "        )\n",
    "    return prepared_transfer_tx\n",
    "    \n",
    "transactionsPost(dictData)"
   ]
  },
  {
   "cell_type": "code",
   "execution_count": 4,
   "metadata": {},
   "outputs": [
    {
     "name": "stdout",
     "output_type": "stream",
     "text": [
      "[(['3PKKhLTbaFSjpjdEtNYqPTSrgp17Vur25NwVjQNKK7Hm'], 950), (['HWkENox4DM4Tp3qSfYW8igndpog9GpKFzB7Tp7yXgpBq'], 50)]\n"
     ]
    },
    {
     "ename": "BadRequest",
     "evalue": "(400, '{\"message\":\"Invalid transaction schema: \\'\\' does not match \\'[0-9a-f]{64}\\'\",\"status\":400}\\n', {'message': \"Invalid transaction schema: '' does not match '[0-9a-f]{64}'\", 'status': 400}, 'http://192.168.113.6:9984/api/v1/transactions/')",
     "output_type": "error",
     "traceback": [
      "\u001b[0;31m---------------------------------------------------------------------------\u001b[0m",
      "\u001b[0;31mBadRequest\u001b[0m                                Traceback (most recent call last)",
      "\u001b[0;32m<ipython-input-4-e9d174823b11>\u001b[0m in \u001b[0;36m<module>\u001b[0;34m\u001b[0m\n\u001b[1;32m      3\u001b[0m \u001b[0mfulfilled_transfer_tx\u001b[0m \u001b[0;34m=\u001b[0m \u001b[0mbdb\u001b[0m\u001b[0;34m.\u001b[0m\u001b[0mtransactions\u001b[0m\u001b[0;34m.\u001b[0m\u001b[0mfulfill\u001b[0m\u001b[0;34m(\u001b[0m\u001b[0mprepared_transfer_tx\u001b[0m\u001b[0;34m,\u001b[0m \u001b[0mprivate_keys\u001b[0m\u001b[0;34m=\u001b[0m\u001b[0mdictData\u001b[0m\u001b[0;34m[\u001b[0m\u001b[0;34m\"private_keys\"\u001b[0m\u001b[0;34m]\u001b[0m\u001b[0;34m)\u001b[0m\u001b[0;34m\u001b[0m\u001b[0;34m\u001b[0m\u001b[0m\n\u001b[1;32m      4\u001b[0m \u001b[0;31m# 提交事务\u001b[0m\u001b[0;34m\u001b[0m\u001b[0;34m\u001b[0m\u001b[0;34m\u001b[0m\u001b[0m\n\u001b[0;32m----> 5\u001b[0;31m \u001b[0msent_transfer_tx\u001b[0m \u001b[0;34m=\u001b[0m \u001b[0mbdb\u001b[0m\u001b[0;34m.\u001b[0m\u001b[0mtransactions\u001b[0m\u001b[0;34m.\u001b[0m\u001b[0msend_commit\u001b[0m\u001b[0;34m(\u001b[0m\u001b[0mfulfilled_transfer_tx\u001b[0m\u001b[0;34m)\u001b[0m\u001b[0;34m\u001b[0m\u001b[0;34m\u001b[0m\u001b[0m\n\u001b[0m\u001b[1;32m      6\u001b[0m \u001b[0;31m# 验证提交结果\u001b[0m\u001b[0;34m\u001b[0m\u001b[0;34m\u001b[0m\u001b[0;34m\u001b[0m\u001b[0m\n\u001b[1;32m      7\u001b[0m \u001b[0;32mif\u001b[0m \u001b[0mfulfilled_transfer_tx\u001b[0m \u001b[0;34m==\u001b[0m \u001b[0msent_transfer_tx\u001b[0m\u001b[0;34m:\u001b[0m\u001b[0;34m\u001b[0m\u001b[0;34m\u001b[0m\u001b[0m\n",
      "\u001b[0;32m/opt/conda/lib/python3.7/site-packages/bigchaindb_driver/driver.py\u001b[0m in \u001b[0;36msend_commit\u001b[0;34m(self, transaction, headers)\u001b[0m\n\u001b[1;32m    409\u001b[0m             \u001b[0mjson\u001b[0m\u001b[0;34m=\u001b[0m\u001b[0mtransaction\u001b[0m\u001b[0;34m,\u001b[0m\u001b[0;34m\u001b[0m\u001b[0;34m\u001b[0m\u001b[0m\n\u001b[1;32m    410\u001b[0m             \u001b[0mparams\u001b[0m\u001b[0;34m=\u001b[0m\u001b[0;34m{\u001b[0m\u001b[0;34m'mode'\u001b[0m\u001b[0;34m:\u001b[0m \u001b[0;34m'commit'\u001b[0m\u001b[0;34m}\u001b[0m\u001b[0;34m,\u001b[0m\u001b[0;34m\u001b[0m\u001b[0;34m\u001b[0m\u001b[0m\n\u001b[0;32m--> 411\u001b[0;31m             headers=headers)\n\u001b[0m\u001b[1;32m    412\u001b[0m \u001b[0;34m\u001b[0m\u001b[0m\n\u001b[1;32m    413\u001b[0m     \u001b[0;32mdef\u001b[0m \u001b[0mretrieve\u001b[0m\u001b[0;34m(\u001b[0m\u001b[0mself\u001b[0m\u001b[0;34m,\u001b[0m \u001b[0mtxid\u001b[0m\u001b[0;34m,\u001b[0m \u001b[0mheaders\u001b[0m\u001b[0;34m=\u001b[0m\u001b[0;32mNone\u001b[0m\u001b[0;34m)\u001b[0m\u001b[0;34m:\u001b[0m\u001b[0;34m\u001b[0m\u001b[0;34m\u001b[0m\u001b[0m\n",
      "\u001b[0;32m/opt/conda/lib/python3.7/site-packages/bigchaindb_driver/transport.py\u001b[0m in \u001b[0;36mforward_request\u001b[0;34m(self, method, path, json, params, headers)\u001b[0m\n\u001b[1;32m     80\u001b[0m                     \u001b[0mheaders\u001b[0m\u001b[0;34m=\u001b[0m\u001b[0mheaders\u001b[0m\u001b[0;34m,\u001b[0m\u001b[0;34m\u001b[0m\u001b[0;34m\u001b[0m\u001b[0m\n\u001b[1;32m     81\u001b[0m                     \u001b[0mtimeout\u001b[0m\u001b[0;34m=\u001b[0m\u001b[0mtimeout\u001b[0m\u001b[0;34m,\u001b[0m\u001b[0;34m\u001b[0m\u001b[0;34m\u001b[0m\u001b[0m\n\u001b[0;32m---> 82\u001b[0;31m                     \u001b[0mbackoff_cap\u001b[0m\u001b[0;34m=\u001b[0m\u001b[0mbackoff_cap\u001b[0m\u001b[0;34m,\u001b[0m\u001b[0;34m\u001b[0m\u001b[0;34m\u001b[0m\u001b[0m\n\u001b[0m\u001b[1;32m     83\u001b[0m                 )\n\u001b[1;32m     84\u001b[0m             \u001b[0;32mexcept\u001b[0m \u001b[0mConnectionError\u001b[0m \u001b[0;32mas\u001b[0m \u001b[0merr\u001b[0m\u001b[0;34m:\u001b[0m\u001b[0;34m\u001b[0m\u001b[0;34m\u001b[0m\u001b[0m\n",
      "\u001b[0;32m/opt/conda/lib/python3.7/site-packages/bigchaindb_driver/connection.py\u001b[0m in \u001b[0;36mrequest\u001b[0;34m(self, method, path, json, params, headers, timeout, backoff_cap, **kwargs)\u001b[0m\n\u001b[1;32m     89\u001b[0m                 \u001b[0mparams\u001b[0m\u001b[0;34m=\u001b[0m\u001b[0mparams\u001b[0m\u001b[0;34m,\u001b[0m\u001b[0;34m\u001b[0m\u001b[0;34m\u001b[0m\u001b[0m\n\u001b[1;32m     90\u001b[0m                 \u001b[0mheaders\u001b[0m\u001b[0;34m=\u001b[0m\u001b[0mheaders\u001b[0m\u001b[0;34m,\u001b[0m\u001b[0;34m\u001b[0m\u001b[0;34m\u001b[0m\u001b[0m\n\u001b[0;32m---> 91\u001b[0;31m                 \u001b[0;34m**\u001b[0m\u001b[0mkwargs\u001b[0m\u001b[0;34m,\u001b[0m\u001b[0;34m\u001b[0m\u001b[0;34m\u001b[0m\u001b[0m\n\u001b[0m\u001b[1;32m     92\u001b[0m             )\n\u001b[1;32m     93\u001b[0m         \u001b[0;32mexcept\u001b[0m \u001b[0mConnectionError\u001b[0m \u001b[0;32mas\u001b[0m \u001b[0merr\u001b[0m\u001b[0;34m:\u001b[0m\u001b[0;34m\u001b[0m\u001b[0;34m\u001b[0m\u001b[0m\n",
      "\u001b[0;32m/opt/conda/lib/python3.7/site-packages/bigchaindb_driver/connection.py\u001b[0m in \u001b[0;36m_request\u001b[0;34m(self, **kwargs)\u001b[0m\n\u001b[1;32m    126\u001b[0m         \u001b[0;32mif\u001b[0m \u001b[0;32mnot\u001b[0m \u001b[0;34m(\u001b[0m\u001b[0;36m200\u001b[0m \u001b[0;34m<=\u001b[0m \u001b[0mresponse\u001b[0m\u001b[0;34m.\u001b[0m\u001b[0mstatus_code\u001b[0m \u001b[0;34m<\u001b[0m \u001b[0;36m300\u001b[0m\u001b[0;34m)\u001b[0m\u001b[0;34m:\u001b[0m\u001b[0;34m\u001b[0m\u001b[0;34m\u001b[0m\u001b[0m\n\u001b[1;32m    127\u001b[0m             \u001b[0mexc_cls\u001b[0m \u001b[0;34m=\u001b[0m \u001b[0mHTTP_EXCEPTIONS\u001b[0m\u001b[0;34m.\u001b[0m\u001b[0mget\u001b[0m\u001b[0;34m(\u001b[0m\u001b[0mresponse\u001b[0m\u001b[0;34m.\u001b[0m\u001b[0mstatus_code\u001b[0m\u001b[0;34m,\u001b[0m \u001b[0mTransportError\u001b[0m\u001b[0;34m)\u001b[0m\u001b[0;34m\u001b[0m\u001b[0;34m\u001b[0m\u001b[0m\n\u001b[0;32m--> 128\u001b[0;31m             \u001b[0;32mraise\u001b[0m \u001b[0mexc_cls\u001b[0m\u001b[0;34m(\u001b[0m\u001b[0mresponse\u001b[0m\u001b[0;34m.\u001b[0m\u001b[0mstatus_code\u001b[0m\u001b[0;34m,\u001b[0m \u001b[0mtext\u001b[0m\u001b[0;34m,\u001b[0m \u001b[0mjson\u001b[0m\u001b[0;34m,\u001b[0m \u001b[0mkwargs\u001b[0m\u001b[0;34m[\u001b[0m\u001b[0;34m'url'\u001b[0m\u001b[0;34m]\u001b[0m\u001b[0;34m)\u001b[0m\u001b[0;34m\u001b[0m\u001b[0;34m\u001b[0m\u001b[0m\n\u001b[0m\u001b[1;32m    129\u001b[0m         \u001b[0mdata\u001b[0m \u001b[0;34m=\u001b[0m \u001b[0mjson\u001b[0m \u001b[0;32mif\u001b[0m \u001b[0mjson\u001b[0m \u001b[0;32mis\u001b[0m \u001b[0;32mnot\u001b[0m \u001b[0;32mNone\u001b[0m \u001b[0;32melse\u001b[0m \u001b[0mtext\u001b[0m\u001b[0;34m\u001b[0m\u001b[0;34m\u001b[0m\u001b[0m\n\u001b[1;32m    130\u001b[0m         \u001b[0;32mreturn\u001b[0m \u001b[0mHttpResponse\u001b[0m\u001b[0;34m(\u001b[0m\u001b[0mresponse\u001b[0m\u001b[0;34m.\u001b[0m\u001b[0mstatus_code\u001b[0m\u001b[0;34m,\u001b[0m \u001b[0mresponse\u001b[0m\u001b[0;34m.\u001b[0m\u001b[0mheaders\u001b[0m\u001b[0;34m,\u001b[0m \u001b[0mdata\u001b[0m\u001b[0;34m)\u001b[0m\u001b[0;34m\u001b[0m\u001b[0;34m\u001b[0m\u001b[0m\n",
      "\u001b[0;31mBadRequest\u001b[0m: (400, '{\"message\":\"Invalid transaction schema: \\'\\' does not match \\'[0-9a-f]{64}\\'\",\"status\":400}\\n', {'message': \"Invalid transaction schema: '' does not match '[0-9a-f]{64}'\", 'status': 400}, 'http://192.168.113.6:9984/api/v1/transactions/')"
     ]
    }
   ],
   "source": [
    "prepared_transfer_tx = transactionsPost(dictData)\n",
    "# 准备事务\n",
    "fulfilled_transfer_tx = bdb.transactions.fulfill(prepared_transfer_tx, private_keys=dictData[\"private_keys\"])\n",
    "# 提交事务\n",
    "sent_transfer_tx = bdb.transactions.send_commit(fulfilled_transfer_tx)\n",
    "# 验证提交结果\n",
    "if fulfilled_transfer_tx == sent_transfer_tx:\n",
    "    print(\"事务提交成功\")\n",
    "    return fulfilled_transfer_tx\n",
    "return {\"errMsg\":\"事务提交失败\"}"
   ]
  }
 ],
 "metadata": {
  "kernelspec": {
   "display_name": "Python 3",
   "language": "python",
   "name": "python3"
  },
  "language_info": {
   "codemirror_mode": {
    "name": "ipython",
    "version": 3
   },
   "file_extension": ".py",
   "mimetype": "text/x-python",
   "name": "python",
   "nbconvert_exporter": "python",
   "pygments_lexer": "ipython3",
   "version": "3.7.1"
  }
 },
 "nbformat": 4,
 "nbformat_minor": 2
}
