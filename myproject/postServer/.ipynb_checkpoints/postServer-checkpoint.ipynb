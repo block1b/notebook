{
 "cells": [
  {
   "cell_type": "code",
   "execution_count": 28,
   "metadata": {},
   "outputs": [
    {
     "name": "stdout",
     "output_type": "stream",
     "text": [
      "Connected with result code 0\n"
     ]
    },
    {
     "ename": "KeyboardInterrupt",
     "evalue": "",
     "output_type": "error",
     "traceback": [
      "\u001b[0;31m---------------------------------------------------------------------------\u001b[0m",
      "\u001b[0;31mKeyboardInterrupt\u001b[0m                         Traceback (most recent call last)",
      "\u001b[0;32m<ipython-input-28-845e357193f8>\u001b[0m in \u001b[0;36m<module>\u001b[0;34m\u001b[0m\n\u001b[1;32m    104\u001b[0m \u001b[0;34m\u001b[0m\u001b[0m\n\u001b[1;32m    105\u001b[0m \u001b[0;31m# client.publish('block/emqtt', payload='Hello,EMQ!', qos=0)\u001b[0m\u001b[0;34m\u001b[0m\u001b[0;34m\u001b[0m\u001b[0;34m\u001b[0m\u001b[0m\n\u001b[0;32m--> 106\u001b[0;31m \u001b[0mclient\u001b[0m\u001b[0;34m.\u001b[0m\u001b[0mloop_forever\u001b[0m\u001b[0;34m(\u001b[0m\u001b[0;34m)\u001b[0m\u001b[0;34m\u001b[0m\u001b[0;34m\u001b[0m\u001b[0m\n\u001b[0m",
      "\u001b[0;32m/opt/conda/lib/python3.7/site-packages/paho/mqtt/client.py\u001b[0m in \u001b[0;36mloop_forever\u001b[0;34m(self, timeout, max_packets, retry_first_connection)\u001b[0m\n\u001b[1;32m   1576\u001b[0m             \u001b[0mrc\u001b[0m \u001b[0;34m=\u001b[0m \u001b[0mMQTT_ERR_SUCCESS\u001b[0m\u001b[0;34m\u001b[0m\u001b[0;34m\u001b[0m\u001b[0m\n\u001b[1;32m   1577\u001b[0m             \u001b[0;32mwhile\u001b[0m \u001b[0mrc\u001b[0m \u001b[0;34m==\u001b[0m \u001b[0mMQTT_ERR_SUCCESS\u001b[0m\u001b[0;34m:\u001b[0m\u001b[0;34m\u001b[0m\u001b[0;34m\u001b[0m\u001b[0m\n\u001b[0;32m-> 1578\u001b[0;31m                 \u001b[0mrc\u001b[0m \u001b[0;34m=\u001b[0m \u001b[0mself\u001b[0m\u001b[0;34m.\u001b[0m\u001b[0mloop\u001b[0m\u001b[0;34m(\u001b[0m\u001b[0mtimeout\u001b[0m\u001b[0;34m,\u001b[0m \u001b[0mmax_packets\u001b[0m\u001b[0;34m)\u001b[0m\u001b[0;34m\u001b[0m\u001b[0;34m\u001b[0m\u001b[0m\n\u001b[0m\u001b[1;32m   1579\u001b[0m                 \u001b[0;31m# We don't need to worry about locking here, because we've\u001b[0m\u001b[0;34m\u001b[0m\u001b[0;34m\u001b[0m\u001b[0;34m\u001b[0m\u001b[0m\n\u001b[1;32m   1580\u001b[0m                 \u001b[0;31m# either called loop_forever() when in single threaded mode, or\u001b[0m\u001b[0;34m\u001b[0m\u001b[0;34m\u001b[0m\u001b[0;34m\u001b[0m\u001b[0m\n",
      "\u001b[0;32m/opt/conda/lib/python3.7/site-packages/paho/mqtt/client.py\u001b[0m in \u001b[0;36mloop\u001b[0;34m(self, timeout, max_packets)\u001b[0m\n\u001b[1;32m   1055\u001b[0m         \u001b[0mrlist\u001b[0m \u001b[0;34m=\u001b[0m \u001b[0;34m[\u001b[0m\u001b[0mself\u001b[0m\u001b[0;34m.\u001b[0m\u001b[0m_sock\u001b[0m\u001b[0;34m,\u001b[0m \u001b[0mself\u001b[0m\u001b[0;34m.\u001b[0m\u001b[0m_sockpairR\u001b[0m\u001b[0;34m]\u001b[0m\u001b[0;34m\u001b[0m\u001b[0;34m\u001b[0m\u001b[0m\n\u001b[1;32m   1056\u001b[0m         \u001b[0;32mtry\u001b[0m\u001b[0;34m:\u001b[0m\u001b[0;34m\u001b[0m\u001b[0;34m\u001b[0m\u001b[0m\n\u001b[0;32m-> 1057\u001b[0;31m             \u001b[0msocklist\u001b[0m \u001b[0;34m=\u001b[0m \u001b[0mselect\u001b[0m\u001b[0;34m.\u001b[0m\u001b[0mselect\u001b[0m\u001b[0;34m(\u001b[0m\u001b[0mrlist\u001b[0m\u001b[0;34m,\u001b[0m \u001b[0mwlist\u001b[0m\u001b[0;34m,\u001b[0m \u001b[0;34m[\u001b[0m\u001b[0;34m]\u001b[0m\u001b[0;34m,\u001b[0m \u001b[0mtimeout\u001b[0m\u001b[0;34m)\u001b[0m\u001b[0;34m\u001b[0m\u001b[0;34m\u001b[0m\u001b[0m\n\u001b[0m\u001b[1;32m   1058\u001b[0m         \u001b[0;32mexcept\u001b[0m \u001b[0mTypeError\u001b[0m\u001b[0;34m:\u001b[0m\u001b[0;34m\u001b[0m\u001b[0;34m\u001b[0m\u001b[0m\n\u001b[1;32m   1059\u001b[0m             \u001b[0;31m# Socket isn't correct type, in likelihood connection is lost\u001b[0m\u001b[0;34m\u001b[0m\u001b[0;34m\u001b[0m\u001b[0;34m\u001b[0m\u001b[0m\n",
      "\u001b[0;31mKeyboardInterrupt\u001b[0m: "
     ]
    }
   ],
   "source": [
    "# postServer-mqtt client\n",
    "import paho.mqtt.client as mqtt\n",
    "from bigchaindb_driver.crypto import generate_keypair\n",
    "import json\n",
    "from bigchaindb_driver import BigchainDB\n",
    "bdb_root_url = 'http://192.168.113.6:9984'\n",
    "bdb = BigchainDB(bdb_root_url)\n",
    "\n",
    "# 提交事务\n",
    "def transactionsPost(dict_data):\n",
    "#     dict_data = {\n",
    "#     \"operation\":\"TRANSFER\",\n",
    "#     \"asset\":{\"id\":\"123456\"},\n",
    "#     \"signers\"=\"admin_public_key\"\n",
    "#     \"inputs\":[{\"input\":\"input_msg\"}],\n",
    "#     \"recipients\": [[[\"public_key1\"],2],[[\"public_key2\",6]]],\n",
    "#     \"metadata\": {\"a\":1},\n",
    "#     \"private_keys\": [\"p1\",\"p2\"]\n",
    "#     }\n",
    "\n",
    "    tuple_recipients = []\n",
    "    for i in dict_data[\"recipients\"]:\n",
    "        new_data = (i[0],i[1])\n",
    "        tuple_recipients.append(new_data)\n",
    "        \n",
    "    # 准备事务\n",
    "    prepared_transfer_tx = \"\"\n",
    "    #  operation='CREATE',\n",
    "    if dict_data[\"operation\"] == 'CREATE':\n",
    "        prepared_transfer_tx = bdb.transactions.prepare(\n",
    "         operation=dict_data[\"operation\"],\n",
    "         asset=dict_data[\"asset\"],\n",
    "         signers=dict_data[\"signers\"],\n",
    "         recipients=tuple_recipients,\n",
    "         metadata=dict_data[\"metadata\"]\n",
    "\n",
    "    )\n",
    "    #  operation='TRANSFER',\n",
    "    if dict_data[\"operation\"] == 'TRANSFER':\n",
    "        prepared_transfer_tx = bdb.transactions.prepare(\n",
    "             operation=dict_data[\"operation\"],\n",
    "             asset=dict_data[\"asset\"],\n",
    "             inputs=dict_data[\"inputs\"],\n",
    "             recipients=tuple_recipients,\n",
    "             metadata=dict_data[\"metadata\"]\n",
    "\n",
    "        )\n",
    "    # 准备事务\n",
    "    fulfilled_transfer_tx = bdb.transactions.fulfill(prepared_transfer_tx, private_keys=dict_data[\"private_keys\"])\n",
    "    # 提交事务\n",
    "    sent_transfer_tx = bdb.transactions.send_commit(fulfilled_transfer_tx)\n",
    "    # 验证提交结果\n",
    "    if fulfilled_transfer_tx == sent_transfer_tx:\n",
    "        print(\"事务提交成功\")\n",
    "        return fulfilled_transfer_tx\n",
    "    return {\"errMsg\":\"事务提交失败\"}\n",
    "    \n",
    "\n",
    "# 生成密钥对\n",
    "def generateKeypair():\n",
    "    # generate a keypair\n",
    "    keypair = generate_keypair()\n",
    "    return {\"publicKey\": str(keypair.public_key),\"privateKey\": str(keypair.private_key)}\n",
    "\n",
    "def on_connect(client, userdata, flags, rc):\n",
    "    print(\"Connected with result code \" + str(rc))\n",
    "\n",
    "\n",
    "def on_message(client, userdata, msg):\n",
    "    print(msg.topic + \" \" + str(msg.payload))\n",
    "    \n",
    "    reqTopic = str(msg.topic)\n",
    "#     print(reqTopic, type(reqTopic))\n",
    "    reqPayload = json.loads(msg.payload)  # 解码请求参数\n",
    "    reqId = reqPayload[\"clientId\"]\n",
    "    transferData = reqPayload[\"transferData\"]\n",
    "    repTopic = reqTopic.replace(\"postServer\", reqId)  # 生成响应topic\n",
    "    \n",
    "    if reqTopic == \"postServer/secretKey\":\n",
    "        print(reqId+\"生成密钥对\")\n",
    "        # 生成密钥对；\n",
    "        print(json.dumps(generateKeypair()))\n",
    "        client.publish(repTopic, payload=json.dumps(generateKeypair()), qos=0)\n",
    "        return\n",
    "\n",
    "    if reqTopic == \"postServer/post\":\n",
    "        print(\"提交transaction\")\n",
    "        # chain 事务提交\n",
    "        \n",
    "        client.publish(repTopic, payload=json.dumps(transactionsPost(transferData)), qos=0)\n",
    "        return\n",
    "    \n",
    "    print(\"undefine topic \" + repTopic)\n",
    "    return\n",
    "\n",
    "\n",
    "client = mqtt.Client(\"postServer\")\n",
    "client.on_connect = on_connect\n",
    "client.on_message = on_message\n",
    "client.connect(\"192.168.113.6\", 1883, 60)\n",
    "\n",
    "client.subscribe('postServer/secretKey', qos=0)  # 请求密钥对\n",
    "client.subscribe('postServer/post', qos=0)  # 提交transaction\n",
    "\n",
    "# client.publish('block/emqtt', payload='Hello,EMQ!', qos=0)\n",
    "client.loop_forever()\n"
   ]
  },
  {
   "cell_type": "code",
   "execution_count": 2,
   "metadata": {},
   "outputs": [
    {
     "data": {
      "text/plain": [
       "'{\"publicKey\": \"CiDPR8eWMWSBKBJWwB6aTFoShiTLiNC5hUPLHSNFjWNT\", \"privateKey\": \"CpoaYJKM8rr89tnGVd2NbykNAMfsuVz7iadmLvRbaKL4\"}'"
      ]
     },
     "execution_count": 2,
     "metadata": {},
     "output_type": "execute_result"
    }
   ],
   "source": [
    "# test def generateKeypair()\n",
    "from bigchaindb_driver.crypto import generate_keypair\n",
    "import json\n",
    "\n",
    "# 生成密钥对\n",
    "def generateKeypair():\n",
    "    # generate a keypair\n",
    "    keypair = generate_keypair()\n",
    "    return json.dumps({\"publicKey\": str(keypair.public_key),\"privateKey\": str(keypair.private_key)})\n",
    "\n",
    "createKeypair()"
   ]
  },
  {
   "cell_type": "code",
   "execution_count": 22,
   "metadata": {},
   "outputs": [
    {
     "name": "stdout",
     "output_type": "stream",
     "text": [
      "{'operation': 'CREATE', 'asset': {'id': '', 'data': {'info': {'owner_nick_name': 'block', 'owner_public_key': '3PKKhLTbaFSjpjdEtNYqPTSrgp17Vur25NwVjQNKK7Hm', 'type': 'iot', 'id': 'clock0', 'device_name': 'clock0', 'device_info': 'shareParking'}, 'sn': '3PKKhLTbaFSjpjdEtNYqPTSrgp17Vur25NwVjQNKK7Hm.iot.clock0'}}, 'signers': '3PKKhLTbaFSjpjdEtNYqPTSrgp17Vur25NwVjQNKK7Hm', 'inputs': 0, 'recipients': [[['3PKKhLTbaFSjpjdEtNYqPTSrgp17Vur25NwVjQNKK7Hm'], 1]], 'private_keys': ['HwLCf9fbhm6BHTagY5aC1uVKR6sz57h7viuS8DUR9x34'], 'metadata': {'info': {'device_id': 'clock0', 'owner_nick_name': 'block', 'owner_public_key': '3PKKhLTbaFSjpjdEtNYqPTSrgp17Vur25NwVjQNKK7Hm', 'user_nick_name': 'null', 'user_public_key': 'null', 'status': 'CanUse', 'ruler': '5', 'start_time': '2019-05-13 04:12:49', 'cost_time': '0'}, 'sn': '3PKKhLTbaFSjpjdEtNYqPTSrgp17Vur25NwVjQNKK7Hm.iot.clock0'}}\n"
     ]
    }
   ],
   "source": [
    "data = '''{\"operation\":\"CREATE\",\"asset\":{\"id\":\"\",\"data\":{\"info\":{\"owner_nick_name\":\"block\",\"owner_public_key\":\"3PKKhLTbaFSjpjdEtNYqPTSrgp17Vur25NwVjQNKK7Hm\",\"type\":\"iot\",\"id\":\"clock0\",\"device_name\":\"clock0\",\"device_info\":\"shareParking\"},\"sn\":\"3PKKhLTbaFSjpjdEtNYqPTSrgp17Vur25NwVjQNKK7Hm.iot.clock0\"}},\"signers\":\"3PKKhLTbaFSjpjdEtNYqPTSrgp17Vur25NwVjQNKK7Hm\",\"inputs\":0,\"recipients\":[[[\"3PKKhLTbaFSjpjdEtNYqPTSrgp17Vur25NwVjQNKK7Hm\"],1]],\"private_keys\":[\"HwLCf9fbhm6BHTagY5aC1uVKR6sz57h7viuS8DUR9x34\"],\"metadata\":{\"info\":{\"device_id\":\"clock0\",\"owner_nick_name\":\"block\",\"owner_public_key\":\"3PKKhLTbaFSjpjdEtNYqPTSrgp17Vur25NwVjQNKK7Hm\",\"user_nick_name\":\"null\",\"user_public_key\":\"null\",\"status\":\"CanUse\",\"ruler\":\"5\",\"start_time\":\"2019-05-13 04:12:49\",\"cost_time\":\"0\"},\"sn\":\"3PKKhLTbaFSjpjdEtNYqPTSrgp17Vur25NwVjQNKK7Hm.iot.clock0\"}}'''\n",
    "# print(data)\n",
    "dictData = json.loads(data)\n",
    "print(dictData)\n"
   ]
  },
  {
   "cell_type": "code",
   "execution_count": 26,
   "metadata": {},
   "outputs": [
    {
     "name": "stdout",
     "output_type": "stream",
     "text": [
      "[(['3PKKhLTbaFSjpjdEtNYqPTSrgp17Vur25NwVjQNKK7Hm'], 1)]\n",
      "{'inputs': [{'owners_before': ['3PKKhLTbaFSjpjdEtNYqPTSrgp17Vur25NwVjQNKK7Hm'], 'fulfills': None, 'fulfillment': {'type': 'ed25519-sha-256', 'public_key': '3PKKhLTbaFSjpjdEtNYqPTSrgp17Vur25NwVjQNKK7Hm'}}], 'outputs': [{'public_keys': ['3PKKhLTbaFSjpjdEtNYqPTSrgp17Vur25NwVjQNKK7Hm'], 'condition': {'details': {'type': 'ed25519-sha-256', 'public_key': '3PKKhLTbaFSjpjdEtNYqPTSrgp17Vur25NwVjQNKK7Hm'}, 'uri': 'ni:///sha-256;t1GM7Bud9-p2hvzkPDn8AN8FRSc8azG8u0BG_KLswiE?fpt=ed25519-sha-256&cost=131072'}, 'amount': '1'}], 'operation': 'CREATE', 'metadata': {'info': {'device_id': 'clock0', 'owner_nick_name': 'block', 'owner_public_key': '3PKKhLTbaFSjpjdEtNYqPTSrgp17Vur25NwVjQNKK7Hm', 'user_nick_name': 'null', 'user_public_key': 'null', 'status': 'CanUse', 'ruler': '5', 'start_time': '2019-05-13 04:12:49', 'cost_time': '0'}, 'sn': '3PKKhLTbaFSjpjdEtNYqPTSrgp17Vur25NwVjQNKK7Hm.iot.clock0'}, 'asset': {'data': {'info': {'owner_nick_name': 'block', 'owner_public_key': '3PKKhLTbaFSjpjdEtNYqPTSrgp17Vur25NwVjQNKK7Hm', 'type': 'iot', 'id': 'clock0', 'device_name': 'clock0', 'device_info': 'shareParking'}, 'sn': '3PKKhLTbaFSjpjdEtNYqPTSrgp17Vur25NwVjQNKK7Hm.iot.clock0'}}, 'version': '2.0', 'id': None}\n"
     ]
    }
   ],
   "source": [
    "import json\n",
    "from bigchaindb_driver import BigchainDB\n",
    "bdb_root_url = 'http://192.168.113.6:9984'\n",
    "bdb = BigchainDB(bdb_root_url)\n",
    "\n",
    "# 提交事务\n",
    "def transactionsPost(dict_data):\n",
    "#     dict_data = {\n",
    "#     \"operation\":\"TRANSFER\",\n",
    "#     \"asset\":{\"id\":\"123456\"},\n",
    "#     \"signers\"=\"admin_public_key\"\n",
    "#     \"inputs\":[{\"input\":\"input_msg\"}],\n",
    "#     \"recipients\": [[[\"public_key1\"],2],[[\"public_key2\",6]]],\n",
    "#     \"metadata\": {\"a\":1},\n",
    "#     \"private_keys\": [\"p1\",\"p2\"]\n",
    "#     }\n",
    "\n",
    "    tuple_recipients = []\n",
    "    for i in dict_data[\"recipients\"]:\n",
    "        new_data = (i[0],i[1])\n",
    "        tuple_recipients.append(new_data)\n",
    "        \n",
    "    print(tuple_recipients)\n",
    "    # 准备事务\n",
    "    prepared_transfer_tx = \"\"\n",
    "    #  operation='CREATE',\n",
    "    if dict_data[\"operation\"] == 'CREATE':\n",
    "        prepared_transfer_tx = bdb.transactions.prepare(\n",
    "         operation=dict_data[\"operation\"],\n",
    "         asset=dict_data[\"asset\"],\n",
    "         signers=dict_data[\"signers\"],\n",
    "         recipients=tuple_recipients,\n",
    "         metadata=dict_data[\"metadata\"]\n",
    "\n",
    "    )\n",
    "    #  operation='TRANSFER',\n",
    "    if dict_data[\"operation\"] == 'TRANSFER':\n",
    "        prepared_transfer_tx = bdb.transactions.prepare(\n",
    "             operation=dict_data[\"operation\"],\n",
    "             asset=dict_data[\"asset\"],\n",
    "             inputs=dict_data[\"inputs\"],\n",
    "             recipients=tuple_recipients,\n",
    "             metadata=dict_data[\"metadata\"]\n",
    "\n",
    "        )\n",
    "    print(prepared_transfer_tx)\n",
    "    \n",
    "transactionsPost(dictData)"
   ]
  }
 ],
 "metadata": {
  "kernelspec": {
   "display_name": "Python 3",
   "language": "python",
   "name": "python3"
  },
  "language_info": {
   "codemirror_mode": {
    "name": "ipython",
    "version": 3
   },
   "file_extension": ".py",
   "mimetype": "text/x-python",
   "name": "python",
   "nbconvert_exporter": "python",
   "pygments_lexer": "ipython3",
   "version": "3.7.1"
  }
 },
 "nbformat": 4,
 "nbformat_minor": 2
}
