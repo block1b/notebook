{
 "cells": [
  {
   "cell_type": "markdown",
   "metadata": {},
   "source": [
    "# 数据备份与恢复\n",
    "\n",
    "`SAVE` 创建当前数据库备份\n",
    "\n",
    "该命令会在redis安装目录中创建dump.rdb文件\n",
    "\n",
    "`CONFIG GET dir` 获取redis目录\n",
    "\n",
    "恢复数据，只需要将备份文件（dump.rdb）放到redis的安装目录启动服务即可。\n",
    "\n",
    "`BGSAVE` 在后台备份文件"
   ]
  },
  {
   "cell_type": "markdown",
   "metadata": {},
   "source": [
    " # 安全\n",
    " \n",
    " 通过配置文件设置密码参数\n",
    " \n",
    " `CONFIG get|set \"xxx\"`"
   ]
  },
  {
   "cell_type": "markdown",
   "metadata": {},
   "source": [
    "# 管道\n",
    "\n",
    "就是个批量处理"
   ]
  },
  {
   "cell_type": "markdown",
   "metadata": {},
   "source": [
    "# 分区\n",
    "\n",
    "分区是分割数据到多个Redis实例的处理过程，因此每个实例只保存key的一个子集。\n",
    "\n",
    "分区的优势\n",
    "通过利用多台计算机内存的和值，允许我们构造更大的数据库。\n",
    "通过多核和多台计算机，允许我们扩展计算能力；通过多台计算机和网络适配器，允许我们扩展网络带宽。\n",
    "分区的不足\n",
    "redis的一些特性在分区方面表现的不是很好：\n",
    "\n",
    "涉及多个key的操作通常是不被支持的。举例来说，当两个set映射到不同的redis实例上时，你就不能对这两个set执行交集操作。\n",
    "涉及多个key的redis事务不能使用。\n",
    "当使用分区时，数据处理较为复杂，比如你需要处理多个rdb/aof文件，并且从多个实例和主机备份持久化文件。\n",
    "增加或删除容量也比较复杂。redis集群大多数支持在运行时增加、删除节点的透明数据平衡的能力，但是类似于客户端分区、代理等其他系统则不支持这项特性。然而，一种叫做presharding的技术对此是有帮助的。\n"
   ]
  }
 ],
 "metadata": {
  "kernelspec": {
   "display_name": "Python 3",
   "language": "python",
   "name": "python3"
  },
  "language_info": {
   "codemirror_mode": {
    "name": "ipython",
    "version": 3
   },
   "file_extension": ".py",
   "mimetype": "text/x-python",
   "name": "python",
   "nbconvert_exporter": "python",
   "pygments_lexer": "ipython3",
   "version": "3.7.1"
  }
 },
 "nbformat": 4,
 "nbformat_minor": 2
}
