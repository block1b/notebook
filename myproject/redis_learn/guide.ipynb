{
 "cells": [
  {
   "cell_type": "markdown",
   "metadata": {},
   "source": [
    "# redis基础知识\n",
    "\n",
    "要知其所以然"
   ]
  },
  {
   "cell_type": "markdown",
   "metadata": {},
   "source": [
    "## 简介\n",
    "\n",
    "遵守BSD协议 ?\n",
    "\n",
    "高性能key-value数据库\n",
    "\n",
    "与其他key-value缓存产品相比的特点：\n",
    "\n",
    "1. 支持持久化，内存-》硬盘；重启后 内存 《-硬盘\n",
    "2. 数据类型 key-value；list；set；zset；hash；\n",
    "3. 支持数据备份，即master-slave模式的数据备份；\n"
   ]
  },
  {
   "cell_type": "markdown",
   "metadata": {},
   "source": [
    "## 优势\n",
    "\n",
    "1. 速度 读11w/s；写8.1w/s\n",
    "2. 支持二进制的Strings,List,Hashes,Sets,Ordered Sets数据类型操作\n",
    "3. 原子性。事务。\n",
    "4. 至此 pub/sub；通知；key过期；\n"
   ]
  },
  {
   "cell_type": "markdown",
   "metadata": {},
   "source": [
    "## 与其他key-value存储的不同\n",
    "\n",
    "1. 基于基本数据结构，对程序员透明\n",
    "2. 在内存中操作数据简单，所以飘了；磁盘格式方面是追加的方式，不需要随机访问；"
   ]
  },
  {
   "cell_type": "markdown",
   "metadata": {},
   "source": [
    "# 配置\n",
    "config [get|set] name\n",
    "扁平化配置"
   ]
  },
  {
   "cell_type": "markdown",
   "metadata": {},
   "source": [
    "## 数据类型\n",
    "支持5种数据类型：string,hash,list,set,zset(有序集合)\n",
    "\n",
    "### String\n",
    "\n",
    "1. 最基本类型，同Memcached,key-value\n",
    "2. 二进制安全，可以包含任何数据jpg，序列化；\n",
    "3. < 512MB\n",
    "\n",
    "例：\n",
    "```\n",
    "    SET name \"block\"\n",
    "    Get name\n",
    "```\n",
    "\n",
    "### Hash\n",
    "\n",
    "1. [key-value...] 对的集合\n",
    "2. hash是string类型的field和value的映射表，hash特别适合存储对象\n",
    "\n",
    "例：\n",
    "```\n",
    "    HMSET myhash field1 \"hello\" field2\n",
    "    HGET myhash field1\n",
    "    HGET myhash field2\n",
    "```\n",
    "\n",
    "### List\n",
    "\n",
    "1. 的字符串列表，按照插入顺序排序。可以向列表头部，或尾部添加；\n",
    "2. 最多 2^32-1个元素（40亿+）\n",
    "例：\n",
    "```\n",
    "    lpush runoob redis\n",
    "    lpush runoob monogodb\n",
    "    \n",
    "    lrange runoob 0 10\n",
    "```\n",
    "\n",
    "### Set\n",
    "\n",
    "1. string类型的无序集合\n",
    "2. 集合是通过hash表实现的，增删查的复杂度为O（1）\n",
    "\n",
    "例：\n",
    "```\n",
    "    sadd runnoob redis\n",
    "    sadd runnoob monogodb\n",
    "    \n",
    "    smember runoob\n",
    "```\n",
    "### zset(sort set)\n",
    "\n",
    "1. 不重复，因为每个元素都会关联一个double类型的分数。类比hash排序；\n",
    "2. 增加元素到集合，更新对应的score\n",
    "\n",
    "例：\n",
    "```\n",
    "    zadd key score member\n",
    "    zadd runoob 0 redis\n",
    "    zadd runoob 0 monogodb\n",
    "    \n",
    "    ZRANGEBYSOCRE runoob 0 1000\n",
    "```\n"
   ]
  },
  {
   "cell_type": "markdown",
   "metadata": {},
   "source": [
    "## HyperLogLog\n",
    "基数估计,集合中不重复元素个数\n",
    "\n",
    "例：\n",
    "```\n",
    "    PFADD runoobkey \"redis\"\n",
    "    PFADD runoobkey \"redis2\"\n",
    "    \n",
    "    PFCOUNT runoobkey    \n",
    "```"
   ]
  },
  {
   "cell_type": "markdown",
   "metadata": {},
   "source": [
    "## 发布订阅\n",
    "一种通过channel实现的发布订阅模式\n",
    "\n",
    "例：\n",
    "```\n",
    "    SUBSCRIBE redisChat\n",
    "    \n",
    "    PUBLISH redisChat \"Learn redis by runoob.com\"\n",
    "```\n",
    "\n"
   ]
  },
  {
   "cell_type": "markdown",
   "metadata": {},
   "source": [
    "## 事务\n",
    "\n",
    "1. 批量操作在发送exec命令前被放入队列缓存\n",
    "2. 收到exec命令后，进入事务执行，任意命令失败，其余命令依然会被执行\n",
    "3. 在事务执行过程中，其他客户端提交的命令请求不会插入到事务执行命令序列中\n",
    "\n",
    "开始事务-命令入队-执行事务\n",
    "\n",
    "例：\n",
    "```\n",
    "    MULTI\n",
    "    SET book-name\n",
    "    SADD tag \"go\" \"program\" \"routine\"\n",
    "    SMEMBERS tag\n",
    "    EXEC\n",
    "```\n",
    "\n",
    "redis的事务只是把命令打包了，不是原子性的，不会回滚，也不会提前终止\n"
   ]
  },
  {
   "cell_type": "markdown",
   "metadata": {},
   "source": [
    "## 脚本\n",
    "\n",
    "使用Lua解释器来执行脚本\n",
    "\n",
    "`EVAL script numkeys key [key ...] arg [arg ...]`\n",
    "\n",
    "例：\n",
    "```\n",
    "EVAL \"return {KEYS[1],KEYS[2],ARGV[1],ARGV[2]}\" 2 key1 key2 first second\n",
    "```\n"
   ]
  },
  {
   "cell_type": "markdown",
   "metadata": {},
   "source": [
    "## 连接\n",
    "\n",
    "AUTH \"password\"\n",
    "\n",
    "PING"
   ]
  }
 ],
 "metadata": {
  "kernelspec": {
   "display_name": "Python 3",
   "language": "python",
   "name": "python3"
  },
  "language_info": {
   "codemirror_mode": {
    "name": "ipython",
    "version": 3
   },
   "file_extension": ".py",
   "mimetype": "text/x-python",
   "name": "python",
   "nbconvert_exporter": "python",
   "pygments_lexer": "ipython3",
   "version": "3.7.1"
  }
 },
 "nbformat": 4,
 "nbformat_minor": 2
}
