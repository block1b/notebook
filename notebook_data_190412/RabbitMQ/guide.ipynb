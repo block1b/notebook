{
 "cells": [
  {
   "cell_type": "markdown",
   "metadata": {},
   "source": [
    "# [RabbitMQ](http://wiki.jikexueyuan.com/project/rabbitmq/)\n",
    "\n",
    "消息代理，类似于kafka，mqtt_broker;等消息队列；\n",
    "\n",
    "优点：可靠，路由，集群，联合，高可用，多协议，客户端丰富，可视化管理工具，追踪，插件。。"
   ]
  },
  {
   "cell_type": "markdown",
   "metadata": {},
   "source": [
    "![](http://wiki.jikexueyuan.com/project/rabbitmq/images/7.png)"
   ]
  },
  {
   "cell_type": "markdown",
   "metadata": {},
   "source": [
    "轮询发送消息，负载均衡，消息确认；"
   ]
  },
  {
   "cell_type": "markdown",
   "metadata": {},
   "source": [
    "可以设置 公平调度，设置队列大小"
   ]
  },
  {
   "cell_type": "markdown",
   "metadata": {},
   "source": [
    "使用的时候不要忘记确认，否则会积少成多"
   ]
  },
  {
   "cell_type": "markdown",
   "metadata": {},
   "source": [
    "支持发布订阅模式"
   ]
  },
  {
   "cell_type": "markdown",
   "metadata": {},
   "source": [
    "## 交换机\n",
    "\n",
    "![](http://wiki.jikexueyuan.com/project/rabbitmq/images/9.png)"
   ]
  },
  {
   "cell_type": "markdown",
   "metadata": {},
   "source": [
    "RabbitMQ的黑犀牛理念是：producer不会直接发送任何消息给队列，只需要发布分交换机（exchange）；交换机类型【直连（direct）,主题（topic），头（header），扇形（fanout）】"
   ]
  },
  {
   "cell_type": "markdown",
   "metadata": {},
   "source": [
    "交换机左收发布右给队列"
   ]
  },
  {
   "cell_type": "markdown",
   "metadata": {},
   "source": [
    "注意官网上将的bind的意义；直连模式，bind不是从左到右创建（），而是通过（channel，key，exchange）连接了一个queue，从queue中消费。"
   ]
  },
  {
   "cell_type": "markdown",
   "metadata": {},
   "source": [
    "通过publish（queue）生产;官网上的bind解释不是流程，不要混淆；官网解释的bind是说mq服务创建的过程，对用户透明；"
   ]
  },
  {
   "cell_type": "markdown",
   "metadata": {},
   "source": [
    "producer-》exchange-》key-》queue-》Consuming"
   ]
  },
  {
   "cell_type": "markdown",
   "metadata": {},
   "source": [
    "[RebbitMQ go client](https://www.rabbitmq.com/tutorials/tutorial-one-go.html)"
   ]
  },
  {
   "cell_type": "markdown",
   "metadata": {},
   "source": []
  }
 ],
 "metadata": {
  "kernelspec": {
   "display_name": "Python 3",
   "language": "python",
   "name": "python3"
  },
  "language_info": {
   "codemirror_mode": {
    "name": "ipython",
    "version": 3
   },
   "file_extension": ".py",
   "mimetype": "text/x-python",
   "name": "python",
   "nbconvert_exporter": "python",
   "pygments_lexer": "ipython3",
   "version": "3.7.1"
  }
 },
 "nbformat": 4,
 "nbformat_minor": 2
}
