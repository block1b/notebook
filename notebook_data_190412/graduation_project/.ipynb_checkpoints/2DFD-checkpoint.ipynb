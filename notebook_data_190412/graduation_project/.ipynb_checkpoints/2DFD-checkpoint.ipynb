{
 "cells": [
  {
   "cell_type": "markdown",
   "metadata": {},
   "source": [
    "# DFD 数据流图\n",
    "\n",
    "key：分层，SA；顶层DFD，一层DFD，二层DFD；数据流，加工，文件，实体；"
   ]
  },
  {
   "cell_type": "markdown",
   "metadata": {},
   "source": [
    "## 顶层DFD图\n",
    "\n",
    "画图步骤：\n",
    "\n",
    "1. 确定外部实体；输入输出流；\n",
    "2. 分解顶层的加工；\n",
    "3. 确定使用的文件；\n",
    "4. 用数据流连接各部分，形成数据封闭；"
   ]
  },
  {
   "cell_type": "markdown",
   "metadata": {},
   "source": [
    "## 分层DFD图\n",
    "先整体后局部，先抽象后具体\n",
    "\n",
    "1. 数据守恒，数据封闭\n",
    "2. 加工分解\n",
    "3. 子父图平衡\n",
    "4. 合理使用文件\n"
   ]
  },
  {
   "cell_type": "markdown",
   "metadata": {},
   "source": []
  }
 ],
 "metadata": {
  "kernelspec": {
   "display_name": "Python 3",
   "language": "python",
   "name": "python3"
  },
  "language_info": {
   "codemirror_mode": {
    "name": "ipython",
    "version": 3
   },
   "file_extension": ".py",
   "mimetype": "text/x-python",
   "name": "python",
   "nbconvert_exporter": "python",
   "pygments_lexer": "ipython3",
   "version": "3.7.1"
  }
 },
 "nbformat": 4,
 "nbformat_minor": 2
}
