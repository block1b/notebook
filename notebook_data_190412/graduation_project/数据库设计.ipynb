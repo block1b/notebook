{
 "cells": [
  {
   "cell_type": "markdown",
   "metadata": {},
   "source": [
    "# 数据库设计\n",
    "\n",
    "2019年4月12日\n",
    "\n",
    "主要是sql与nosql的业务关联配合"
   ]
  },
  {
   "cell_type": "markdown",
   "metadata": {},
   "source": [
    "设备创建，租用在区块链，用户的余额要不直接用关系数据库好了；\n",
    "\n",
    "emmm，好像这个逻辑是个坑啊，这个界限真是。。。\n",
    "\n",
    "1. 在区块链中 余额和设备都是资产，用户其实是个密钥对，这部分sql；私钥用户自己保存，公钥维护。\n",
    "\n",
    "2. 设备是必须在chaindb的，绑定用户，指定设备标签。metedata里可以放共享规则。\n",
    "\n",
    "3. 余额放到区块链，作为账本，余额用可分割资产好了。\n",
    "\n",
    "4. 区块中的标签（余额，设备）需要保存到sql\n"
   ]
  },
  {
   "cell_type": "markdown",
   "metadata": {},
   "source": [
    "根据以上的概述细化数据库表结构\n",
    "\n",
    "## Sql\n",
    "\n",
    "用户（账号，密码，编号，密钥（公），余额）\n",
    "\n",
    "// 账号密码是为了登陆系统用的普通账号密码；编号是在chain中创建用户余额生的id；密钥对在用户注册的时候生成公钥保存到数据库，私钥保存到用户本地；余额同步chain中的余额，用作查询。\n",
    "\n",
    "设备（名称，编号，描述，拥有者）\n",
    "\n",
    "// 名称让人看自动生成；编号由注册设备的时候chain中生成；描述人看的描述；拥有者同步chain中的拥有者，用做查询。\n",
    "\n",
    "## NoSql\n",
    "\n",
    "e,得跟Sql中的俩对应一下，不过注意，用户在chain中只是个余额，没有人这个定义，只有物没有人。注意chain中非为可变data和不可变data。\n",
    "\n",
    "其实chain中的一个问题就是asset的标识，1是id自动生成的绝对唯一，也可以用nosql的特性模糊查询，增加标识字段就可以了。\n",
    "\n",
    "余额还不是根据data记录用token记录，data里就加上用户账号好了，用来验证。\n",
    "\n",
    "设备较复杂要考虑，共享规则。。。 todo"
   ]
  },
  {
   "cell_type": "markdown",
   "metadata": {},
   "source": [
    "2019年4月13日\n",
    "\n",
    "设备（资产）需要支持拥有者注册（设备名，描述），拥有者设置共享规则（规则【时间段，单价】），租用者租用（设备号，规则）\n",
    "\n",
    "chain中的数据分为可变部分和不可变部分，eee，突然想推翻前面的数据库设计。感觉chain这边需要做好，围绕这个数据设计，而不是根据业务设计数据库。\n",
    "\n",
    "面向功能和面向数据的设计主题果然是不一致的。"
   ]
  },
  {
   "cell_type": "markdown",
   "metadata": {},
   "source": [
    "杂谈：bigchaindb的可拆分资产适合做租用授权的事情，但是样例只做了虚拟货币的支付，但是缺少了虚拟货币的来源；还有就是限制了虚拟货币的使用范围。\n",
    "\n",
    "如：样例演示了一辆自行车如何通过代币数量，量化权限，是个无3方公正的权限传递方法；\n",
    "\n",
    "应用的时候还需要解决，现金到代币的转换，代币使用范围。"
   ]
  },
  {
   "cell_type": "markdown",
   "metadata": {},
   "source": [
    "。。。决定了先把chain练习一下，重点在可拆分资产和meteda更新。如果可以的话。余额用可拆分资产，设备信息用metedata，额还是有如问题，关于租用记录的流程，不管了实操一下好了"
   ]
  },
  {
   "cell_type": "markdown",
   "metadata": {},
   "source": [
    "http api 熟练运用之，好多get"
   ]
  },
  {
   "cell_type": "markdown",
   "metadata": {},
   "source": [
    "改资产能查询到的交易，整理数据结构。\n",
    "bdb.transactions.get(asset_id='e0d22c415cd5a398c3373e8f93b065fc65c5cb6ddac5d984315270b4e5fa895a')\n",
    "\n",
    "```\n",
    "\n",
    "[{'inputs': [{'owners_before': ['HWkENox4DM4Tp3qSfYW8igndpog9GpKFzB7Tp7yXgpBq'],\n",
    "    'fulfills': None,\n",
    "    'fulfillment': 'pGSAIPVZtx4o_rOegIGfPcYb4EaFDHeiZeOMo33DyRobp6QIgUBTg2yCqp1lOE3Mk0MUyGCFNerv_rNmsBW7IZOq0nRxMVezxKI8WiVfu7BQi1VHVmjK0XkB_lOA12vVtAwmt-0H'}],\n",
    "  'outputs': [{'public_keys': ['3PKKhLTbaFSjpjdEtNYqPTSrgp17Vur25NwVjQNKK7Hm'],\n",
    "    'condition': {'details': {'type': 'ed25519-sha-256',\n",
    "      'public_key': '3PKKhLTbaFSjpjdEtNYqPTSrgp17Vur25NwVjQNKK7Hm'},\n",
    "     'uri': 'ni:///sha-256;t1GM7Bud9-p2hvzkPDn8AN8FRSc8azG8u0BG_KLswiE?fpt=ed25519-sha-256&cost=131072'},\n",
    "    'amount': '10'}],\n",
    "  'operation': 'CREATE',\n",
    "  'metadata': None,\n",
    "  'asset': {'data': {'token_for': {'game_boy2': {'serial_number2': 'LR35902'}},\n",
    "    'description': '余额2'}},\n",
    "  'version': '2.0',\n",
    "  'id': 'e0d22c415cd5a398c3373e8f93b065fc65c5cb6ddac5d984315270b4e5fa895a'},\n",
    " {'inputs': [{'owners_before': ['3PKKhLTbaFSjpjdEtNYqPTSrgp17Vur25NwVjQNKK7Hm'],\n",
    "    'fulfills': {'transaction_id': 'e0d22c415cd5a398c3373e8f93b065fc65c5cb6ddac5d984315270b4e5fa895a',\n",
    "     'output_index': 0},\n",
    "    'fulfillment': 'pGSAICNu3miMPbgnonQOrcbGgUknVoZB1S3vKt5lGBSitv90gUAC624FcZHL9pP1vVQ7_xZbTf9nY_XhU9AoJBFBc4lYXJfhizoljoFRjVU9FTl5gfFpGfHExrCtm1Ji_lBnp4YO'}],\n",
    "  'outputs': [{'public_keys': ['3PKKhLTbaFSjpjdEtNYqPTSrgp17Vur25NwVjQNKK7Hm'],\n",
    "    'condition': {'details': {'type': 'ed25519-sha-256',\n",
    "      'public_key': '3PKKhLTbaFSjpjdEtNYqPTSrgp17Vur25NwVjQNKK7Hm'},\n",
    "     'uri': 'ni:///sha-256;t1GM7Bud9-p2hvzkPDn8AN8FRSc8azG8u0BG_KLswiE?fpt=ed25519-sha-256&cost=131072'},\n",
    "    'amount': '2'},\n",
    "   {'public_keys': ['HWkENox4DM4Tp3qSfYW8igndpog9GpKFzB7Tp7yXgpBq'],\n",
    "    'condition': {'details': {'type': 'ed25519-sha-256',\n",
    "      'public_key': 'HWkENox4DM4Tp3qSfYW8igndpog9GpKFzB7Tp7yXgpBq'},\n",
    "     'uri': 'ni:///sha-256;gq2QbZZEcAzcCuCv4xicDCYQ_0RmN09VLSH6t2H0pKQ?fpt=ed25519-sha-256&cost=131072'},\n",
    "    'amount': '8'}],\n",
    "  'operation': 'TRANSFER',\n",
    "  'metadata': None,\n",
    "  'asset': {'id': 'e0d22c415cd5a398c3373e8f93b065fc65c5cb6ddac5d984315270b4e5fa895a'},\n",
    "  'version': '2.0',\n",
    "  'id': '0cac4c757e26eca6599a0cce376796a3b088635af6c7d3558917bd2939d91af0'},\n",
    " {'inputs': [{'owners_before': ['HWkENox4DM4Tp3qSfYW8igndpog9GpKFzB7Tp7yXgpBq'],\n",
    "    'fulfills': {'transaction_id': '0cac4c757e26eca6599a0cce376796a3b088635af6c7d3558917bd2939d91af0',\n",
    "     'output_index': 1},\n",
    "    'fulfillment': 'pGSAIPVZtx4o_rOegIGfPcYb4EaFDHeiZeOMo33DyRobp6QIgUARfrloEqEsNG9OqdiZt1vISZNbi6lHHc-7VZnh4MRnBabaR7Ow1vDau9CCjzU0-UzRWcOz_YhycRs5GRqMAzYF'}],\n",
    "  'outputs': [{'public_keys': ['3PKKhLTbaFSjpjdEtNYqPTSrgp17Vur25NwVjQNKK7Hm'],\n",
    "    'condition': {'details': {'type': 'ed25519-sha-256',\n",
    "      'public_key': '3PKKhLTbaFSjpjdEtNYqPTSrgp17Vur25NwVjQNKK7Hm'},\n",
    "     'uri': 'ni:///sha-256;t1GM7Bud9-p2hvzkPDn8AN8FRSc8azG8u0BG_KLswiE?fpt=ed25519-sha-256&cost=131072'},\n",
    "    'amount': '2'},\n",
    "   {'public_keys': ['HWkENox4DM4Tp3qSfYW8igndpog9GpKFzB7Tp7yXgpBq'],\n",
    "    'condition': {'details': {'type': 'ed25519-sha-256',\n",
    "      'public_key': 'HWkENox4DM4Tp3qSfYW8igndpog9GpKFzB7Tp7yXgpBq'},\n",
    "     'uri': 'ni:///sha-256;gq2QbZZEcAzcCuCv4xicDCYQ_0RmN09VLSH6t2H0pKQ?fpt=ed25519-sha-256&cost=131072'},\n",
    "    'amount': '6'}],\n",
    "  'operation': 'TRANSFER',\n",
    "  'metadata': None,\n",
    "  'asset': {'id': 'e0d22c415cd5a398c3373e8f93b065fc65c5cb6ddac5d984315270b4e5fa895a'},\n",
    "  'version': '2.0',\n",
    "  'id': 'c2b0c95c02239532f11f5d8c263d91cddbd6acf9146ac70d1a1171b8b61da050'}]\n",
    "  ```"
   ]
  },
  {
   "cell_type": "markdown",
   "metadata": {},
   "source": [
    "# 资产\n",
    "```\n",
    "[\n",
    "    {\n",
    "        'data': {\n",
    "            'token_for': {\n",
    "                'game_boy': {\n",
    "                    'serial_number': 'LR35902'\n",
    "                 }\n",
    "             }, \n",
    "            'description': 'Time share token. Each token equals one hour of usage.'\n",
    "         },\n",
    "         'id': '1f83959db7d066da989bfb5902135b807e5f45aa34e6cbd43ceb95289e709338'\n",
    "     }\n",
    "]\n",
    "\n",
    "[assets...]\n",
    "\n",
    "asset{\n",
    "    data,  // 自定义\n",
    "    id，  // 自动生成，资产id create时自动创建\n",
    "}\n",
    "```\n"
   ]
  },
  {
   "cell_type": "markdown",
   "metadata": {},
   "source": [
    "# 交易\n",
    "```\n",
    "{\n",
    "    'inputs': [\n",
    "        {\n",
    "            'owners_before': ['HWkENox4DM4Tp3qSfYW8igndpog9GpKFzB7Tp7yXgpBq'],\n",
    "            'fulfills': None,\n",
    "            'fulfillment': 'pGSAIPVZtx4o_rOegIGfPcYb4EaFDHeiZeOMo33DyRobp6QIgUBTg2yCqp1lOE3Mk0MUyGCFNerv_rNmsBW7IZOq0nRxMVezxKI8WiVfu7BQi1VHVmjK0XkB_lOA12vVtAwmt-0H'\n",
    "         }\n",
    "     ],\n",
    "     'outputs': [\n",
    "         {\n",
    "             'public_keys': ['3PKKhLTbaFSjpjdEtNYqPTSrgp17Vur25NwVjQNKK7Hm'],\n",
    "             'condition': {\n",
    "                 'details': {\n",
    "                     'type': 'ed25519-sha-256',\n",
    "                     'public_key': '3PKKhLTbaFSjpjdEtNYqPTSrgp17Vur25NwVjQNKK7Hm'\n",
    "                 },\n",
    "                 'uri': 'ni:///sha-256;t1GM7Bud9-p2hvzkPDn8AN8FRSc8azG8u0BG_KLswiE?fpt=ed25519-sha-256&cost=131072'\n",
    "             },\n",
    "             'amount': '10'\n",
    "         }\n",
    "     ],\n",
    "     'operation': 'CREATE',\n",
    "     'metadata': None,\n",
    "     'asset': {\n",
    "         'data': {\n",
    "                 'token_for': {\n",
    "                     'game_boy2': {\n",
    "                         'serial_number2': 'LR35902'\n",
    "                     }\n",
    "                 },\n",
    "                 'description': '余额2'\n",
    "         }\n",
    "     },\n",
    "     'version': '2.0',\n",
    "     'id': 'e0d22c415cd5a398c3373e8f93b065fc65c5cb6ddac5d984315270b4e5fa895a'\n",
    "  },??? //todo\n",
    "     \n",
    " ]\n",
    "  \n",
    "  \n",
    "  \n",
    "  ```"
   ]
  },
  {
   "cell_type": "code",
   "execution_count": null,
   "metadata": {},
   "outputs": [],
   "source": []
  }
 ],
 "metadata": {
  "kernelspec": {
   "display_name": "Python 3",
   "language": "python",
   "name": "python3"
  },
  "language_info": {
   "codemirror_mode": {
    "name": "ipython",
    "version": 3
   },
   "file_extension": ".py",
   "mimetype": "text/x-python",
   "name": "python",
   "nbconvert_exporter": "python",
   "pygments_lexer": "ipython3",
   "version": "3.7.1"
  }
 },
 "nbformat": 4,
 "nbformat_minor": 2
}
