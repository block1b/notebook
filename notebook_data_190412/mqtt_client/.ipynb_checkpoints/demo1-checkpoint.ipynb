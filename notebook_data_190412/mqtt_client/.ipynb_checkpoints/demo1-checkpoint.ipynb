{
 "cells": [
  {
   "cell_type": "code",
   "execution_count": null,
   "metadata": {},
   "outputs": [
    {
     "name": "stdout",
     "output_type": "stream",
     "text": [
      "Connected with result code 0\n",
      "emqtt b'{ \"msg\": \"Hello, World!\" }'\n",
      "emqtt b'{ \"msg\": \"Hello, World!\" }'\n",
      "emqtt b'{ \"msg\": \"Hello, World!\" }'\n"
     ]
    }
   ],
   "source": [
    "import paho.mqtt.client as mqtt\n",
    " \n",
    "def on_connect(client, userdata, flags, rc):\n",
    "  print(\"Connected with result code \"+str(rc))\n",
    "\n",
    "def on_message(client, userdata, msg):\n",
    "  print(msg.topic+\" \"+str(msg.payload))\n",
    "\n",
    "\n",
    "client = mqtt.Client(client_id=\"blockclient\")\n",
    "client.on_connect = on_connect\n",
    "client.on_message = on_message\n",
    "client.connect(\"192.168.113.7\", 1883, 60)\n",
    "client.username_pw_set(\"block\",\"123456\")\n",
    "client.subscribe(\"emqtt\",qos=0)\n",
    "# client.publish('emqtt',payload='Hello,EMQ!',qos=0)\n",
    "client.loop_forever()"
   ]
  },
  {
   "cell_type": "markdown",
   "metadata": {},
   "source": [
    "嗯~ o(*￣▽￣*)o结合昨天写mysql+mqtt client的模式，这样已经足够了；"
   ]
  }
 ],
 "metadata": {
  "kernelspec": {
   "display_name": "Python 3",
   "language": "python",
   "name": "python3"
  },
  "language_info": {
   "codemirror_mode": {
    "name": "ipython",
    "version": 3
   },
   "file_extension": ".py",
   "mimetype": "text/x-python",
   "name": "python",
   "nbconvert_exporter": "python",
   "pygments_lexer": "ipython3",
   "version": "3.7.1"
  }
 },
 "nbformat": 4,
 "nbformat_minor": 2
}
